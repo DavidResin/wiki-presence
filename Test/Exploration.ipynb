{
 "cells": [
  {
   "cell_type": "markdown",
   "metadata": {},
   "source": [
    "## Imports and configuration"
   ]
  },
  {
   "cell_type": "code",
   "execution_count": 4,
   "metadata": {},
   "outputs": [],
   "source": [
    "import os, re, requests, time, tldextract\n",
    "import numpy as np\n",
    "import pandas as pd\n",
    "import seaborn as sns\n",
    "import wikipedia as wp\n",
    "from datetime import datetime, timedelta\n",
    "from matplotlib import pyplot as plt\n",
    "from scipy import stats\n",
    "from tqdm import tqdm\n",
    "\n",
    "# Configuring matplotlib to output opaque images\n",
    "import matplotlib as mpl\n",
    "mpl.rcParams[\"savefig.facecolor\"] = \"w\"\n",
    "\n",
    "# We do only read operations, therefore no user config is necessary.\n",
    "# Normally the system crashes when there is no user config unless we tell it otherwise with this environment variable.\n",
    "#   0 is default\n",
    "#   1 means ignore the config\n",
    "#   2 means ignore the config and don't throw warnings\n",
    "os.environ[\"PYWIKIBOT_NO_USER_CONFIG\"] = \"2\"\n",
    "\n",
    "# Now we can import pywikibot\n",
    "import pywikibot as pwb\n",
    "import pywikibot.data.api as api\n",
    "\n",
    "# Then we can setup references for Wikipedia and Wikidata\n",
    "wiki_site = pwb.Site(code=\"en\", fam=\"wikipedia\")\n",
    "data_site = pwb.Site(code=\"wikidata\", fam=\"wikidata\")\n",
    "repo = data_site.data_repository()\n",
    "\n",
    "# Setting important dates\n",
    "stime = \"2015070100\"\n",
    "etime = str(datetime.today().date()).replace(\"-\", \"\") + \"00\"\n",
    "\n",
    "# We list here the search terms for EPFL\n",
    "epfl_alts = [\n",
    "    \"EPFL\",\n",
    "    \"École Polytechnique Fédérale de Lausanne\",\n",
    "    \"Swiss Federal Institute of Technology\",\n",
    "    \"EPF Lausanne\",\n",
    "    \"ETH Lausanne\",\n",
    "    \"Poly Lausanne\",\n",
    "]\n",
    "\n",
    "# Setting paths\n",
    "im_path = \"graphs\""
   ]
  },
  {
   "cell_type": "markdown",
   "metadata": {},
   "source": [
    "Let's generate a list of all the pages that mention EPFL. We set `namespace=0` as this namespace is the one that contains regular pages. Note that searches from Pywikibot are ordered alphabetically by default, unlike what the Wikipedia API does."
   ]
  },
  {
   "cell_type": "code",
   "execution_count": 22,
   "metadata": {},
   "outputs": [],
   "source": [
    "def save_pagenames(pnames):\n",
    "    with open(\"pagenames.txt\", \"w\", encoding=\"utf-8\") as f:\n",
    "        f.write(\"\\n\".join(pnames), )\n",
    "        \n",
    "def load_pagenames():\n",
    "    try:\n",
    "        with open(\"pagenames.txt\", \"r\", encoding=\"utf-8\") as f:\n",
    "            return f.read().split(\"\\n\")\n",
    "    except:\n",
    "        return []\n",
    "\n",
    "def collect_pages(site, keywords):\n",
    "    # Search for each keyword\n",
    "    searches = [site.search(kw.lower(), where=\"text\", namespaces=0) for kw in keywords]\n",
    "    \n",
    "    # Get the pages and flatten\n",
    "    pages_raw = [list(s) for s in searches]\n",
    "    pages = list(set([item for sublist in pages_raw for item in sublist]))\n",
    "    ret = []\n",
    "    old_names = load_pagenames()\n",
    "    ignored = []\n",
    "    \n",
    "    # We filter out pages that do not have a WikiData item\n",
    "    for p in tqdm(pages):\n",
    "        try:\n",
    "            if p.title() not in old_names:\n",
    "                x = p.data_item()\n",
    "        except:\n",
    "            ignored.append(p.title())\n",
    "            continue\n",
    "\n",
    "        ret.append(p)\n",
    "    \n",
    "    new_pnames = list(set(old_names + [p.title() for p in ret]))\n",
    "    save_pagenames(new_pnames)\n",
    "    print(ignored)\n",
    "    return ret"
   ]
  },
  {
   "cell_type": "code",
   "execution_count": 23,
   "metadata": {},
   "outputs": [
    {
     "name": "stderr",
     "output_type": "stream",
     "text": [
      "100%|█████████████████████████████████████████████████████████████████████████████| 5033/5033 [00:34<00:00, 144.17it/s]"
     ]
    },
    {
     "name": "stdout",
     "output_type": "stream",
     "text": [
      "['Privacy concerns of Facebook', 'Evidence and efficacy of homeopathy', 'Johannes Gräff', 'Gender parity', 'March 1921', 'July–September 2020 in science', 'Jacques Fellay', 'Pierre Gönczy', 'Fish for finance', 'League of entropy', 'Two-Mona Lisa theory', 'Zero Trust Networks', 'Joël Mesot', 'Social class in the United States', 'List of German abbreviations', 'Financial Review Rich List 2020', 'List of organizations nominated for the Nobel Peace Prize']\n",
      "5016 pages currently tracked.\n"
     ]
    },
    {
     "name": "stderr",
     "output_type": "stream",
     "text": [
      "\n"
     ]
    }
   ],
   "source": [
    "epfl_pages = collect_pages(wiki_site, epfl_alts)\n",
    "print(len(epfl_pages), \"pages currently tracked.\")"
   ]
  },
  {
   "cell_type": "markdown",
   "metadata": {},
   "source": [
    "It is important to note that Wikipedia started storing page view statistics since July 1st, 2015. This means we will not have any data available before that time."
   ]
  },
  {
   "cell_type": "markdown",
   "metadata": {},
   "source": [
    "## Accessing a page\n",
    "\n",
    "Let's look at the different ways we can refer to a given page. We will be using Martin Vetterli's page for our examples."
   ]
  },
  {
   "cell_type": "code",
   "execution_count": 117,
   "metadata": {},
   "outputs": [
    {
     "data": {
      "text/plain": [
       "Page('Martin Vetterli')"
      ]
     },
     "execution_count": 117,
     "metadata": {},
     "output_type": "execute_result"
    }
   ],
   "source": [
    "# We can get a page by name\n",
    "page = pwb.Page(wiki_site, u\"Martin Vetterli\")\n",
    "page"
   ]
  },
  {
   "cell_type": "code",
   "execution_count": 8,
   "metadata": {},
   "outputs": [
    {
     "data": {
      "text/plain": [
       "ItemPage('Q6776811')"
      ]
     },
     "execution_count": 8,
     "metadata": {},
     "output_type": "execute_result"
    }
   ],
   "source": [
    "# We can get its data reference\n",
    "item = page.data_item()\n",
    "item"
   ]
  },
  {
   "cell_type": "code",
   "execution_count": 9,
   "metadata": {},
   "outputs": [
    {
     "data": {
      "text/plain": [
       "ItemPage('Q6776811')"
      ]
     },
     "execution_count": 9,
     "metadata": {},
     "output_type": "execute_result"
    }
   ],
   "source": [
    "# We can get the reference directly\n",
    "item = pwb.ItemPage(repo, \"Q6776811\")\n",
    "item"
   ]
  },
  {
   "cell_type": "code",
   "execution_count": 10,
   "metadata": {},
   "outputs": [
    {
     "name": "stdout",
     "output_type": "stream",
     "text": [
      "commonswiki\n",
      "\tCategory:Martin Vetterli\n",
      "dewiki\n",
      "\tMartin Vetterli\n",
      "enwiki\n",
      "\tMartin Vetterli\n",
      "frwiki\n",
      "\tMartin Vetterli\n",
      "frwikiquote\n",
      "\tMartin Vetterli\n"
     ]
    }
   ],
   "source": [
    "# And we can get all the pages linked to this reference through WikiData\n",
    "for k, v in dict(item.sitelinks).items():\n",
    "    print(k + \"\\n\\t\" + v.ns_title())"
   ]
  },
  {
   "cell_type": "markdown",
   "metadata": {},
   "source": [
    "## Mentions of EPFL in a page"
   ]
  },
  {
   "cell_type": "code",
   "execution_count": 11,
   "metadata": {},
   "outputs": [],
   "source": [
    "def pagecounts(page, strings):\n",
    "    return [page.text.count(s) for s in strings]"
   ]
  },
  {
   "cell_type": "code",
   "execution_count": 12,
   "metadata": {},
   "outputs": [
    {
     "data": {
      "text/plain": [
       "[12, 6, 0, 0, 0, 0]"
      ]
     },
     "execution_count": 12,
     "metadata": {},
     "output_type": "execute_result"
    }
   ],
   "source": [
    "pcs = pagecounts(page, epfl_alts)\n",
    "pcs"
   ]
  },
  {
   "cell_type": "code",
   "execution_count": 13,
   "metadata": {},
   "outputs": [
    {
     "name": "stdout",
     "output_type": "stream",
     "text": [
      "As the warning above says, the default API request gives us a maximum of 60 days of data. This is insufficient.\n"
     ]
    },
    {
     "name": "stderr",
     "output_type": "stream",
     "text": [
      "WARNING: API warning (pageviews): The value \"1000\" for parameter \"pvipdays\" must be between 1 and 60.\n"
     ]
    }
   ],
   "source": [
    "req = api.Request(site=data_site, parameters={'action': 'query',\n",
    "                                                'titles': item,\n",
    "                                                'prop': 'pageviews',\n",
    "                                                'pvipdays': 1000})\n",
    "\n",
    "print(\"As the warning above says, the default API request gives us a maximum of\", len(req.submit()['query']['pages'][str(item.pageid)]['pageviews']), \"days of data. This is insufficient.\")"
   ]
  },
  {
   "cell_type": "code",
   "execution_count": 14,
   "metadata": {},
   "outputs": [
    {
     "name": "stdout",
     "output_type": "stream",
     "text": [
      "Digging deeper into the API, we see we have access to 2002 days of pageview data since July 1, 2015 as of December 24, 2020.\n"
     ]
    }
   ],
   "source": [
    "# Set dates\n",
    "pp_first = datetime.strptime(stime, \"%Y%m%d00\").strftime(\"%B %d, %Y\").replace(\" 0\", \" \")\n",
    "pp_today = datetime.today().strftime(\"%B %d, %Y\").replace(\" 0\", \" \")\n",
    "\n",
    "# Request data\n",
    "page_name = \"Martin_Vetterli\"\n",
    "pv_url = \"https://wikimedia.org/api/rest_v1/metrics/pageviews/per-article/en.wikipedia/all-access/all-agents/%s/daily/%s/%s\"\n",
    "r = requests.get(pv_url % (page_name, stime, etime))\n",
    "print(\"Digging deeper into the API, we see we have access to\", len(r.json()['items']), \"days of pageview data since\", pp_first, \"as of\", pp_today + \".\")"
   ]
  },
  {
   "cell_type": "markdown",
   "metadata": {},
   "source": [
    "## Mentions over time\n",
    "\n",
    "For `getPageChanges`, we recover all revisions at once at it is significantly faster to do that than to call `page.getOldVersion` continuously.\n",
    "\n",
    "It is important to note that our process is simplified to improve performance by minimizing the number of revisions requested; if a page had 5 mentions in 2008, 5 in 2010, but 4 in 2009, the 4 will be glossed over as we assume the amount of such cases will be rare and insignificant.\n",
    "\n",
    "Getting the revisions without the content is approximately 7 times faster on large pages (35 vs. 5 seconds), while getting the text from the revisions or from `getOldVersion` takes the same amount of time. However we are still getting faster results for revisions with content when it is part of our functions."
   ]
  },
  {
   "cell_type": "code",
   "execution_count": 15,
   "metadata": {},
   "outputs": [],
   "source": [
    "def getCounts(revs, strings, idx):\n",
    "    page = revs[idx]\n",
    "    return sum([page.text.count(s) for s in strings])\n",
    "\n",
    "def getOrUpdate(revs, strings, counts, idx, changes):\n",
    "    if idx not in counts:\n",
    "        temp = getCounts(revs, strings, idx)\n",
    "        counts[idx] = temp\n",
    "        \n",
    "        # Do not consider the count if an earlier revision had more\n",
    "        if not any([counts[k] > temp for k in counts.keys() if k < idx]):\n",
    "            changes[temp] = min(changes.get(temp) or idx, idx) \n",
    "    \n",
    "    return counts[idx]\n",
    "\n",
    "def getMentions(page, strings):\n",
    "    if not getCounts([page], strings, 0):\n",
    "        return None\n",
    "    \n",
    "    cnt = page.revision_count()\n",
    "    revs = list(page.revisions(reverse=True, content=True))\n",
    "\n",
    "    # Start with whole scope\n",
    "    queue = [(0, cnt - 1)]\n",
    "    \n",
    "    # To avoid double checking revisions we store the counts here\n",
    "    cnts = {}\n",
    "    \n",
    "    # And here we store the count-index pairs\n",
    "    changes = {}\n",
    "\n",
    "    while queue:\n",
    "        # Process first element\n",
    "        r0, r1 = queue[0]\n",
    "        queue = queue[1:]\n",
    "\n",
    "        # Only proceed if current scope covers multiple indices\n",
    "        if r0 != r1:\n",
    "            # Get counts for both indices\n",
    "            v0 = getOrUpdate(revs, strings, cnts, r0, changes)\n",
    "            v1 = getOrUpdate(revs, strings, cnts, r1, changes)\n",
    "\n",
    "            # Only proceed if there is a change of count in the current scope\n",
    "            if v0 != v1 and abs(r1 - r0) > 1:\n",
    "                mid = (r0 + r1) // 2\n",
    "                queue.extend([(r0, mid), (mid, r1)])\n",
    "\n",
    "    changes = {revs[v][\"timestamp\"]: k for k, v in changes.items()}\n",
    "    changes = {datetime.combine(k.date(), k.time()): v for k, v in changes.items()}\n",
    "    \n",
    "    # Here we simplify our data to a maximum of one point per day (we take the last one)\n",
    "    changes = pd.Series(changes, name=\"Mentions\").sort_index().groupby(pd.Grouper(freq=\"1D\")).nth(-1)\n",
    "    return changes"
   ]
  },
  {
   "cell_type": "code",
   "execution_count": 16,
   "metadata": {},
   "outputs": [
    {
     "data": {
      "text/plain": [
       "2007-08-08     5\n",
       "2013-10-23     6\n",
       "2014-02-13    11\n",
       "2016-02-26    12\n",
       "2017-01-01    15\n",
       "2017-04-02    18\n",
       "Name: Mentions, dtype: int64"
      ]
     },
     "execution_count": 16,
     "metadata": {},
     "output_type": "execute_result"
    }
   ],
   "source": [
    "pms = getMentions(page, epfl_alts)\n",
    "pms"
   ]
  },
  {
   "cell_type": "code",
   "execution_count": 17,
   "metadata": {},
   "outputs": [
    {
     "data": {
      "text/plain": [
       "<AxesSubplot:>"
      ]
     },
     "execution_count": 17,
     "metadata": {},
     "output_type": "execute_result"
    },
    {
     "data": {
      "image/png": "[encoded data removed]",
      "text/plain": [
       "<Figure size 432x288 with 1 Axes>"
      ]
     },
     "metadata": {
      "needs_background": "light"
     },
     "output_type": "display_data"
    }
   ],
   "source": [
    "pms.plot(linestyle='--', marker='o')"
   ]
  },
  {
   "cell_type": "markdown",
   "metadata": {},
   "source": [
    "## Views of a page over time\n",
    "\n",
    "Here we compute the pageviews for each day and highlight the outliers.\n",
    "In the future we will compute outliers based on the local average."
   ]
  },
  {
   "cell_type": "code",
   "execution_count": 18,
   "metadata": {},
   "outputs": [],
   "source": [
    "def pageviews(page, stime, etime):\n",
    "    req = requests.get(pv_url % (page.title(), stime, etime))\n",
    "    serie = pd.Series({datetime.strptime(str(item['timestamp'])[:-2], \"%Y%m%d\"): item['views'] for item in req.json()['items']}, name=\"Views\")\n",
    "    return serie\n",
    "\n",
    "def outliers(serie):\n",
    "    return pd.Series(serie[np.abs(stats.zscore(serie)) > 3], name=\"Outliers\")"
   ]
  },
  {
   "cell_type": "code",
   "execution_count": 19,
   "metadata": {},
   "outputs": [
    {
     "data": {
      "text/plain": [
       "2015-07-01    11\n",
       "2015-07-02    13\n",
       "2015-07-03     5\n",
       "2015-07-04     4\n",
       "2015-07-05     8\n",
       "              ..\n",
       "2020-12-18    34\n",
       "2020-12-19    16\n",
       "2020-12-20    43\n",
       "2020-12-21    28\n",
       "2020-12-22    19\n",
       "Name: Views, Length: 2002, dtype: int64"
      ]
     },
     "execution_count": 19,
     "metadata": {},
     "output_type": "execute_result"
    }
   ],
   "source": [
    "pvs = pageviews(page, stime, etime)\n",
    "pvs"
   ]
  },
  {
   "cell_type": "code",
   "execution_count": 20,
   "metadata": {},
   "outputs": [
    {
     "data": {
      "text/plain": [
       "2016-02-24    1233\n",
       "2016-02-25     362\n",
       "2016-02-26     135\n",
       "2019-12-05     233\n",
       "2019-12-06     469\n",
       "2020-02-12     126\n",
       "Name: Outliers, dtype: int64"
      ]
     },
     "execution_count": 20,
     "metadata": {},
     "output_type": "execute_result"
    }
   ],
   "source": [
    "ols = outliers(pvs)\n",
    "ols"
   ]
  },
  {
   "cell_type": "code",
   "execution_count": 851,
   "metadata": {},
   "outputs": [
    {
     "data": {
      "image/png": "[encoded data removed]",
      "text/plain": [
       "<Figure size 648x432 with 1 Axes>"
      ]
     },
     "metadata": {
      "needs_background": "light"
     },
     "output_type": "display_data"
    }
   ],
   "source": [
    "ax = pvs.plot(legend=True, title=\"Daily views for 'Martin Vetterli' on Wikipedia\")\n",
    "ax = ols.plot(legend=True, ax=ax, linestyle=\"\", marker=\"o\")\n",
    "ax.set_xlabel('Time')\n",
    "ax.set_ylabel('Views')\n",
    "ax.figure.set_size_inches((9, 6))\n",
    "\n",
    "for i, each in enumerate(ols.index):\n",
    "    y = ols[each]\n",
    "    ax.text(each + timedelta(25), y, y)\n",
    "    \n",
    "ax.figure.savefig(os.path.join(im_path, \"views.png\"))"
   ]
  },
  {
   "cell_type": "markdown",
   "metadata": {},
   "source": [
    "With that out of the way, let's generate a list of all the pages that mention EPFL. We set `namespace=0` as this namespace is the one that contains regular pages. Note that searches from Pywikibot are ordered alphabetically by default, unlike what the Wikipedia API does."
   ]
  },
  {
   "cell_type": "code",
   "execution_count": 644,
   "metadata": {},
   "outputs": [],
   "source": [
    "pvs2 = pageviews(page, stime, etime)\n",
    "to_rem = ols.index\n",
    "pvs2[to_rem] = 0"
   ]
  },
  {
   "cell_type": "code",
   "execution_count": 651,
   "metadata": {},
   "outputs": [
    {
     "data": {
      "image/png": "[encoded data removed]",
      "text/plain": [
       "<Figure size 648x432 with 1 Axes>"
      ]
     },
     "metadata": {
      "needs_background": "light"
     },
     "output_type": "display_data"
    }
   ],
   "source": [
    "# Would be good to cover the whole dataset\n",
    "\n",
    "v = 100\n",
    "ax = pvs2.plot(legend=True)\n",
    "(pvs2.rolling(v, center=True).sum() / v).plot(ax=ax, legend=True, label=\"100-day average\", title=\"Daily views for 'Martin Vetterli' on Wikipedia, 100-day average without outliers\")\n",
    "ax.set_xlabel('Time')\n",
    "ax.set_ylabel('Views')\n",
    "ax.figure.set_size_inches((9, 6))\n",
    "    \n",
    "ax.figure.savefig(os.path.join(im_path, \"views__avg.png\"))"
   ]
  },
  {
   "cell_type": "markdown",
   "metadata": {},
   "source": [
    "## Backlinks\n",
    "\n",
    "So far I haven't found an efficient way to account for backlinks in page revisions. Therefore this will be skipped for now."
   ]
  },
  {
   "cell_type": "markdown",
   "metadata": {},
   "source": [
    "## Edits"
   ]
  },
  {
   "cell_type": "code",
   "execution_count": 903,
   "metadata": {},
   "outputs": [],
   "source": [
    "def getPageSize(page):\n",
    "    revs = list(page.revisions(reverse=True))\n",
    "    df = pd.DataFrame([dict(r) for r in revs])\n",
    "    df = df[[\"userid\", \"timestamp\", \"size\", \"minor\"]]\n",
    "    df = df.set_index(\"timestamp\")\n",
    "    \n",
    "    # Get absolute size from relative size\n",
    "    df[\"diff\"] = (df['size'] - df['size'].shift(1)).abs()\n",
    "    df[\"diff\"] = df[\"diff\"].fillna(df[\"size\"])\n",
    "    \n",
    "    # Sample every month and shift by 1 day to get 1st of month\n",
    "    df = df[\"size\"].groupby(pd.Grouper(freq=\"1M\")).nth(-1).resample(\"1M\").pad()\n",
    "    df.index = df.index.shift(1, freq=\"D\")\n",
    "    \n",
    "    return df.rename(page.data_item().title())"
   ]
  },
  {
   "cell_type": "code",
   "execution_count": 904,
   "metadata": {},
   "outputs": [
    {
     "data": {
      "text/plain": [
       "timestamp\n",
       "2007-09-01     1441\n",
       "2007-10-01     1439\n",
       "2007-11-01     1439\n",
       "2007-12-01     1439\n",
       "2008-01-01     1439\n",
       "              ...  \n",
       "2020-09-01    11896\n",
       "2020-10-01    11895\n",
       "2020-11-01    11895\n",
       "2020-12-01    11843\n",
       "2021-01-01    11843\n",
       "Name: Q6776811, Length: 161, dtype: int64"
      ]
     },
     "execution_count": 904,
     "metadata": {},
     "output_type": "execute_result"
    }
   ],
   "source": [
    "psz = getPageSize(page)\n",
    "psz"
   ]
  },
  {
   "cell_type": "code",
   "execution_count": 905,
   "metadata": {},
   "outputs": [
    {
     "data": {
      "text/plain": [
       "<AxesSubplot:xlabel='timestamp'>"
      ]
     },
     "execution_count": 905,
     "metadata": {},
     "output_type": "execute_result"
    },
    {
     "data": {
      "image/png": "[encoded data removed]",
      "text/plain": [
       "<Figure size 432x288 with 1 Axes>"
      ]
     },
     "metadata": {
      "needs_background": "light"
     },
     "output_type": "display_data"
    }
   ],
   "source": [
    "psz.plot()"
   ]
  },
  {
   "cell_type": "code",
   "execution_count": 26,
   "metadata": {},
   "outputs": [],
   "source": [
    "def getPageScore(page):\n",
    "    # Get mentions\n",
    "    pms = getMentions(page, epfl_alts)\n",
    "    \n",
    "    if pms is None:\n",
    "        return None\n",
    "    \n",
    "    # Get page views\n",
    "    pvs = pageviews(page, stime, etime)\n",
    "    \n",
    "    # Get page size\n",
    "    psz = getPageSize(page)\n",
    "    \n",
    "    # Combine the data\n",
    "    df = pd.concat([pvs, psz.reindex(pvs.index), pms.reindex(pvs.index)], axis=1)\n",
    "    df = df.ffill(axis=0)\n",
    "    \n",
    "    s_prev = psz.index.difference(pvs.index)\n",
    "    s_fill = psz[s_prev[-1]] if len(s_prev) else 0\n",
    "    df[\"Size\"] = df[\"Size\"].fillna(s_fill)\n",
    "    \n",
    "    m_prev = pms.index.difference(pvs.index)\n",
    "    m_fill = pms[m_prev[-1]] if len(m_prev) else 0\n",
    "    df[\"Mentions\"] = df[\"Mentions\"].fillna(m_fill)\n",
    "    \n",
    "    # Generate score\n",
    "    df[\"Score\"] = df[\"Mentions\"] * df[\"Views\"] / df[\"Size\"]\n",
    "    \n",
    "    return df"
   ]
  },
  {
   "cell_type": "code",
   "execution_count": 27,
   "metadata": {},
   "outputs": [
    {
     "data": {
      "text/html": [
       "<div>\n",
       "<style scoped>\n",
       "    .dataframe tbody tr th:only-of-type {\n",
       "        vertical-align: middle;\n",
       "    }\n",
       "\n",
       "    .dataframe tbody tr th {\n",
       "        vertical-align: top;\n",
       "    }\n",
       "\n",
       "    .dataframe thead th {\n",
       "        text-align: right;\n",
       "    }\n",
       "</style>\n",
       "<table border=\"1\" class=\"dataframe\">\n",
       "  <thead>\n",
       "    <tr style=\"text-align: right;\">\n",
       "      <th></th>\n",
       "      <th>Views</th>\n",
       "      <th>Size</th>\n",
       "      <th>Mentions</th>\n",
       "      <th>Score</th>\n",
       "    </tr>\n",
       "  </thead>\n",
       "  <tbody>\n",
       "    <tr>\n",
       "      <th>2015-07-01</th>\n",
       "      <td>11</td>\n",
       "      <td>9894.0</td>\n",
       "      <td>11.0</td>\n",
       "      <td>0.012230</td>\n",
       "    </tr>\n",
       "    <tr>\n",
       "      <th>2015-07-02</th>\n",
       "      <td>13</td>\n",
       "      <td>9894.0</td>\n",
       "      <td>11.0</td>\n",
       "      <td>0.014453</td>\n",
       "    </tr>\n",
       "    <tr>\n",
       "      <th>2015-07-03</th>\n",
       "      <td>5</td>\n",
       "      <td>9894.0</td>\n",
       "      <td>11.0</td>\n",
       "      <td>0.005559</td>\n",
       "    </tr>\n",
       "    <tr>\n",
       "      <th>2015-07-04</th>\n",
       "      <td>4</td>\n",
       "      <td>9894.0</td>\n",
       "      <td>11.0</td>\n",
       "      <td>0.004447</td>\n",
       "    </tr>\n",
       "    <tr>\n",
       "      <th>2015-07-05</th>\n",
       "      <td>8</td>\n",
       "      <td>9894.0</td>\n",
       "      <td>11.0</td>\n",
       "      <td>0.008894</td>\n",
       "    </tr>\n",
       "    <tr>\n",
       "      <th>...</th>\n",
       "      <td>...</td>\n",
       "      <td>...</td>\n",
       "      <td>...</td>\n",
       "      <td>...</td>\n",
       "    </tr>\n",
       "    <tr>\n",
       "      <th>2020-12-18</th>\n",
       "      <td>34</td>\n",
       "      <td>11843.0</td>\n",
       "      <td>18.0</td>\n",
       "      <td>0.051676</td>\n",
       "    </tr>\n",
       "    <tr>\n",
       "      <th>2020-12-19</th>\n",
       "      <td>16</td>\n",
       "      <td>11843.0</td>\n",
       "      <td>18.0</td>\n",
       "      <td>0.024318</td>\n",
       "    </tr>\n",
       "    <tr>\n",
       "      <th>2020-12-20</th>\n",
       "      <td>43</td>\n",
       "      <td>11843.0</td>\n",
       "      <td>18.0</td>\n",
       "      <td>0.065355</td>\n",
       "    </tr>\n",
       "    <tr>\n",
       "      <th>2020-12-21</th>\n",
       "      <td>28</td>\n",
       "      <td>11843.0</td>\n",
       "      <td>18.0</td>\n",
       "      <td>0.042557</td>\n",
       "    </tr>\n",
       "    <tr>\n",
       "      <th>2020-12-22</th>\n",
       "      <td>19</td>\n",
       "      <td>11843.0</td>\n",
       "      <td>18.0</td>\n",
       "      <td>0.028878</td>\n",
       "    </tr>\n",
       "  </tbody>\n",
       "</table>\n",
       "<p>2002 rows × 4 columns</p>\n",
       "</div>"
      ],
      "text/plain": [
       "            Views     Size  Mentions     Score\n",
       "2015-07-01     11   9894.0      11.0  0.012230\n",
       "2015-07-02     13   9894.0      11.0  0.014453\n",
       "2015-07-03      5   9894.0      11.0  0.005559\n",
       "2015-07-04      4   9894.0      11.0  0.004447\n",
       "2015-07-05      8   9894.0      11.0  0.008894\n",
       "...           ...      ...       ...       ...\n",
       "2020-12-18     34  11843.0      18.0  0.051676\n",
       "2020-12-19     16  11843.0      18.0  0.024318\n",
       "2020-12-20     43  11843.0      18.0  0.065355\n",
       "2020-12-21     28  11843.0      18.0  0.042557\n",
       "2020-12-22     19  11843.0      18.0  0.028878\n",
       "\n",
       "[2002 rows x 4 columns]"
      ]
     },
     "execution_count": 27,
     "metadata": {},
     "output_type": "execute_result"
    }
   ],
   "source": [
    "psc = getPageScore(page)\n",
    "psc"
   ]
  },
  {
   "cell_type": "code",
   "execution_count": 28,
   "metadata": {},
   "outputs": [
    {
     "data": {
      "text/plain": [
       "<AxesSubplot:>"
      ]
     },
     "execution_count": 28,
     "metadata": {},
     "output_type": "execute_result"
    },
    {
     "data": {
      "image/png": "[encoded data removed]",
      "text/plain": [
       "<Figure size 432x288 with 1 Axes>"
      ]
     },
     "metadata": {
      "needs_background": "light"
     },
     "output_type": "display_data"
    }
   ],
   "source": [
    "psc.plot()"
   ]
  },
  {
   "cell_type": "markdown",
   "metadata": {},
   "source": [
    "## Editors\n",
    "\n",
    "We will consider a user that changed their name as a new user for simplicity's sake.  \n",
    "We do not use the function `page.contributors()` as it makes no distinction between regular and minor edits, and since we're going through the revisions we might as well extract that information in the process.\n",
    "\n",
    "This can be improved by weighing the edits depending on the size increase of the page."
   ]
  },
  {
   "cell_type": "code",
   "execution_count": 160,
   "metadata": {},
   "outputs": [],
   "source": [
    "revs = list(page.revisions(reverse=True, content=True))"
   ]
  },
  {
   "cell_type": "code",
   "execution_count": 288,
   "metadata": {},
   "outputs": [],
   "source": [
    "# Regular expressions to detect IP addresses and Bots.\n",
    "pat_ip = re.compile('^\\d{1,3}\\.\\d{1,3}\\.\\d{1,3}\\.\\d{1,3}$|([0-9a-fA-F][0-9a-fA-F]{0,3}:){7}([0-9a-fA-F][0-9a-fA-F]{0,3}){1}')\n",
    "pat_bot = re.compile(r'bot\\b', re.IGNORECASE)\n",
    "\n",
    "# Classify a user by its name into bots, real users, and IPs (unregistered users)\n",
    "def classify_user(name):\n",
    "    if pat_ip.match(name):\n",
    "        return \"IP\"\n",
    "    elif pat_bot.search(name):\n",
    "        return \"Bot\"\n",
    "    else:\n",
    "        return \"Real\"\n",
    "\n",
    "# Get user edit data from a page\n",
    "def users(revs):\n",
    "    # Get usernames and edit type\n",
    "    df = pd.DataFrame([(r[\"user\"], r[\"minor\"]) for r in revs])\n",
    "    \n",
    "    # Set as index and sort \n",
    "    df.index = pd.MultiIndex.from_frame(df)\n",
    "    df = df[[1]].sort_index(axis=0)\n",
    "    \n",
    "    # Group by user and edit type and split into columns\n",
    "    df = pd.DataFrame(df.groupby(level=[0,1]).size())\n",
    "    df = df.unstack(level=1, fill_value=0)\n",
    "    \n",
    "    # Rename columns and drop useless levels\n",
    "    df = df.droplevel(level=0, axis=1)\n",
    "    df.index.name = \"Usernames\"\n",
    "    df.columns = [\"Major\", \"Minor\"]\n",
    "    \n",
    "    # Add user types as first index level\n",
    "    df.index = pd.MultiIndex.from_tuples([classify_user(i), i] for i in df.index)\n",
    "    \n",
    "    return df.sort_index(axis=0)"
   ]
  },
  {
   "cell_type": "code",
   "execution_count": 635,
   "metadata": {},
   "outputs": [
    {
     "data": {
      "text/html": [
       "<div>\n",
       "<style scoped>\n",
       "    .dataframe tbody tr th:only-of-type {\n",
       "        vertical-align: middle;\n",
       "    }\n",
       "\n",
       "    .dataframe tbody tr th {\n",
       "        vertical-align: top;\n",
       "    }\n",
       "\n",
       "    .dataframe thead th {\n",
       "        text-align: right;\n",
       "    }\n",
       "</style>\n",
       "<table border=\"1\" class=\"dataframe\">\n",
       "  <thead>\n",
       "    <tr style=\"text-align: right;\">\n",
       "      <th></th>\n",
       "      <th></th>\n",
       "      <th>Major</th>\n",
       "      <th>Minor</th>\n",
       "    </tr>\n",
       "  </thead>\n",
       "  <tbody>\n",
       "    <tr>\n",
       "      <th rowspan=\"15\" valign=\"top\">Bot</th>\n",
       "      <th>Citation bot</th>\n",
       "      <td>1</td>\n",
       "      <td>0</td>\n",
       "    </tr>\n",
       "    <tr>\n",
       "      <th>ClueBot NG</th>\n",
       "      <td>0</td>\n",
       "      <td>1</td>\n",
       "    </tr>\n",
       "    <tr>\n",
       "      <th>Cydebot</th>\n",
       "      <td>0</td>\n",
       "      <td>4</td>\n",
       "    </tr>\n",
       "    <tr>\n",
       "      <th>Filedelinkerbot</th>\n",
       "      <td>2</td>\n",
       "      <td>0</td>\n",
       "    </tr>\n",
       "    <tr>\n",
       "      <th>FrescoBot</th>\n",
       "      <td>0</td>\n",
       "      <td>2</td>\n",
       "    </tr>\n",
       "    <tr>\n",
       "      <th>ImageRemovalBot</th>\n",
       "      <td>1</td>\n",
       "      <td>0</td>\n",
       "    </tr>\n",
       "    <tr>\n",
       "      <th>InternetArchiveBot</th>\n",
       "      <td>2</td>\n",
       "      <td>0</td>\n",
       "    </tr>\n",
       "    <tr>\n",
       "      <th>KasparBot</th>\n",
       "      <td>2</td>\n",
       "      <td>0</td>\n",
       "    </tr>\n",
       "    <tr>\n",
       "      <th>KolbertBot</th>\n",
       "      <td>0</td>\n",
       "      <td>1</td>\n",
       "    </tr>\n",
       "    <tr>\n",
       "      <th>Monkbot</th>\n",
       "      <td>0</td>\n",
       "      <td>1</td>\n",
       "    </tr>\n",
       "    <tr>\n",
       "      <th>RjwilmsiBot</th>\n",
       "      <td>0</td>\n",
       "      <td>1</td>\n",
       "    </tr>\n",
       "    <tr>\n",
       "      <th>SmackBot</th>\n",
       "      <td>2</td>\n",
       "      <td>2</td>\n",
       "    </tr>\n",
       "    <tr>\n",
       "      <th>VIAFbot</th>\n",
       "      <td>0</td>\n",
       "      <td>1</td>\n",
       "    </tr>\n",
       "    <tr>\n",
       "      <th>WikiCleanerBot</th>\n",
       "      <td>0</td>\n",
       "      <td>1</td>\n",
       "    </tr>\n",
       "    <tr>\n",
       "      <th>Yobot</th>\n",
       "      <td>0</td>\n",
       "      <td>1</td>\n",
       "    </tr>\n",
       "    <tr>\n",
       "      <th rowspan=\"14\" valign=\"top\">IP</th>\n",
       "      <th>128.178.14.209</th>\n",
       "      <td>1</td>\n",
       "      <td>0</td>\n",
       "    </tr>\n",
       "    <tr>\n",
       "      <th>128.178.189.142</th>\n",
       "      <td>4</td>\n",
       "      <td>0</td>\n",
       "    </tr>\n",
       "    <tr>\n",
       "      <th>128.178.79.65</th>\n",
       "      <td>1</td>\n",
       "      <td>0</td>\n",
       "    </tr>\n",
       "    <tr>\n",
       "      <th>129.199.97.158</th>\n",
       "      <td>1</td>\n",
       "      <td>0</td>\n",
       "    </tr>\n",
       "    <tr>\n",
       "      <th>144.85.130.204</th>\n",
       "      <td>1</td>\n",
       "      <td>0</td>\n",
       "    </tr>\n",
       "    <tr>\n",
       "      <th>144.85.158.232</th>\n",
       "      <td>1</td>\n",
       "      <td>0</td>\n",
       "    </tr>\n",
       "    <tr>\n",
       "      <th>173.63.29.65</th>\n",
       "      <td>1</td>\n",
       "      <td>0</td>\n",
       "    </tr>\n",
       "    <tr>\n",
       "      <th>188.61.119.49</th>\n",
       "      <td>1</td>\n",
       "      <td>0</td>\n",
       "    </tr>\n",
       "    <tr>\n",
       "      <th>212.203.114.162</th>\n",
       "      <td>2</td>\n",
       "      <td>0</td>\n",
       "    </tr>\n",
       "    <tr>\n",
       "      <th>2A02:AA13:6201:C400:41F5:CB6F:1A08:5000</th>\n",
       "      <td>1</td>\n",
       "      <td>0</td>\n",
       "    </tr>\n",
       "    <tr>\n",
       "      <th>71.243.78.19</th>\n",
       "      <td>1</td>\n",
       "      <td>0</td>\n",
       "    </tr>\n",
       "    <tr>\n",
       "      <th>80.218.216.174</th>\n",
       "      <td>1</td>\n",
       "      <td>0</td>\n",
       "    </tr>\n",
       "    <tr>\n",
       "      <th>85.4.89.231</th>\n",
       "      <td>1</td>\n",
       "      <td>0</td>\n",
       "    </tr>\n",
       "    <tr>\n",
       "      <th>92.106.104.73</th>\n",
       "      <td>1</td>\n",
       "      <td>0</td>\n",
       "    </tr>\n",
       "    <tr>\n",
       "      <th rowspan=\"29\" valign=\"top\">Real</th>\n",
       "      <th>Atlantic306</th>\n",
       "      <td>1</td>\n",
       "      <td>0</td>\n",
       "    </tr>\n",
       "    <tr>\n",
       "      <th>Blueclaw</th>\n",
       "      <td>1</td>\n",
       "      <td>0</td>\n",
       "    </tr>\n",
       "    <tr>\n",
       "      <th>CommonsDelinker</th>\n",
       "      <td>2</td>\n",
       "      <td>1</td>\n",
       "    </tr>\n",
       "    <tr>\n",
       "      <th>Corti</th>\n",
       "      <td>2</td>\n",
       "      <td>0</td>\n",
       "    </tr>\n",
       "    <tr>\n",
       "      <th>Decathlete</th>\n",
       "      <td>1</td>\n",
       "      <td>0</td>\n",
       "    </tr>\n",
       "    <tr>\n",
       "      <th>Dgoessling</th>\n",
       "      <td>1</td>\n",
       "      <td>1</td>\n",
       "    </tr>\n",
       "    <tr>\n",
       "      <th>Dicklyon</th>\n",
       "      <td>6</td>\n",
       "      <td>0</td>\n",
       "    </tr>\n",
       "    <tr>\n",
       "      <th>Edmis Mayoreyas</th>\n",
       "      <td>9</td>\n",
       "      <td>0</td>\n",
       "    </tr>\n",
       "    <tr>\n",
       "      <th>Elpenta</th>\n",
       "      <td>11</td>\n",
       "      <td>0</td>\n",
       "    </tr>\n",
       "    <tr>\n",
       "      <th>En rie se de</th>\n",
       "      <td>1</td>\n",
       "      <td>0</td>\n",
       "    </tr>\n",
       "    <tr>\n",
       "      <th>Haemo</th>\n",
       "      <td>1</td>\n",
       "      <td>0</td>\n",
       "    </tr>\n",
       "    <tr>\n",
       "      <th>Hoka Kimi</th>\n",
       "      <td>1</td>\n",
       "      <td>0</td>\n",
       "    </tr>\n",
       "    <tr>\n",
       "      <th>Iridescent</th>\n",
       "      <td>0</td>\n",
       "      <td>1</td>\n",
       "    </tr>\n",
       "    <tr>\n",
       "      <th>Janm67</th>\n",
       "      <td>1</td>\n",
       "      <td>0</td>\n",
       "    </tr>\n",
       "    <tr>\n",
       "      <th>Joséphine Maillet</th>\n",
       "      <td>1</td>\n",
       "      <td>0</td>\n",
       "    </tr>\n",
       "    <tr>\n",
       "      <th>Kojikawano</th>\n",
       "      <td>1</td>\n",
       "      <td>0</td>\n",
       "    </tr>\n",
       "    <tr>\n",
       "      <th>Lette Sgo</th>\n",
       "      <td>3</td>\n",
       "      <td>0</td>\n",
       "    </tr>\n",
       "    <tr>\n",
       "      <th>Luchenry</th>\n",
       "      <td>0</td>\n",
       "      <td>1</td>\n",
       "    </tr>\n",
       "    <tr>\n",
       "      <th>Martin.vetterli</th>\n",
       "      <td>1</td>\n",
       "      <td>0</td>\n",
       "    </tr>\n",
       "    <tr>\n",
       "      <th>Mbischofberger</th>\n",
       "      <td>41</td>\n",
       "      <td>0</td>\n",
       "    </tr>\n",
       "    <tr>\n",
       "      <th>Mirkobischofberger</th>\n",
       "      <td>3</td>\n",
       "      <td>1</td>\n",
       "    </tr>\n",
       "    <tr>\n",
       "      <th>Oddharmonic</th>\n",
       "      <td>1</td>\n",
       "      <td>0</td>\n",
       "    </tr>\n",
       "    <tr>\n",
       "      <th>Pascal.Tesson</th>\n",
       "      <td>1</td>\n",
       "      <td>0</td>\n",
       "    </tr>\n",
       "    <tr>\n",
       "      <th>Pseudocomputerscientist</th>\n",
       "      <td>1</td>\n",
       "      <td>0</td>\n",
       "    </tr>\n",
       "    <tr>\n",
       "      <th>Quaenuncabibis</th>\n",
       "      <td>0</td>\n",
       "      <td>1</td>\n",
       "    </tr>\n",
       "    <tr>\n",
       "      <th>Shantham11</th>\n",
       "      <td>3</td>\n",
       "      <td>1</td>\n",
       "    </tr>\n",
       "    <tr>\n",
       "      <th>Stirassistant</th>\n",
       "      <td>1</td>\n",
       "      <td>1</td>\n",
       "    </tr>\n",
       "    <tr>\n",
       "      <th>TheseusHeLl</th>\n",
       "      <td>0</td>\n",
       "      <td>1</td>\n",
       "    </tr>\n",
       "    <tr>\n",
       "      <th>Uceeylu</th>\n",
       "      <td>0</td>\n",
       "      <td>1</td>\n",
       "    </tr>\n",
       "  </tbody>\n",
       "</table>\n",
       "</div>"
      ],
      "text/plain": [
       "                                              Major  Minor\n",
       "Bot  Citation bot                                 1      0\n",
       "     ClueBot NG                                   0      1\n",
       "     Cydebot                                      0      4\n",
       "     Filedelinkerbot                              2      0\n",
       "     FrescoBot                                    0      2\n",
       "     ImageRemovalBot                              1      0\n",
       "     InternetArchiveBot                           2      0\n",
       "     KasparBot                                    2      0\n",
       "     KolbertBot                                   0      1\n",
       "     Monkbot                                      0      1\n",
       "     RjwilmsiBot                                  0      1\n",
       "     SmackBot                                     2      2\n",
       "     VIAFbot                                      0      1\n",
       "     WikiCleanerBot                               0      1\n",
       "     Yobot                                        0      1\n",
       "IP   128.178.14.209                               1      0\n",
       "     128.178.189.142                              4      0\n",
       "     128.178.79.65                                1      0\n",
       "     129.199.97.158                               1      0\n",
       "     144.85.130.204                               1      0\n",
       "     144.85.158.232                               1      0\n",
       "     173.63.29.65                                 1      0\n",
       "     188.61.119.49                                1      0\n",
       "     212.203.114.162                              2      0\n",
       "     2A02:AA13:6201:C400:41F5:CB6F:1A08:5000      1      0\n",
       "     71.243.78.19                                 1      0\n",
       "     80.218.216.174                               1      0\n",
       "     85.4.89.231                                  1      0\n",
       "     92.106.104.73                                1      0\n",
       "Real Atlantic306                                  1      0\n",
       "     Blueclaw                                     1      0\n",
       "     CommonsDelinker                              2      1\n",
       "     Corti                                        2      0\n",
       "     Decathlete                                   1      0\n",
       "     Dgoessling                                   1      1\n",
       "     Dicklyon                                     6      0\n",
       "     Edmis Mayoreyas                              9      0\n",
       "     Elpenta                                     11      0\n",
       "     En rie se de                                 1      0\n",
       "     Haemo                                        1      0\n",
       "     Hoka Kimi                                    1      0\n",
       "     Iridescent                                   0      1\n",
       "     Janm67                                       1      0\n",
       "     Joséphine Maillet                            1      0\n",
       "     Kojikawano                                   1      0\n",
       "     Lette Sgo                                    3      0\n",
       "     Luchenry                                     0      1\n",
       "     Martin.vetterli                              1      0\n",
       "     Mbischofberger                              41      0\n",
       "     Mirkobischofberger                           3      1\n",
       "     Oddharmonic                                  1      0\n",
       "     Pascal.Tesson                                1      0\n",
       "     Pseudocomputerscientist                      1      0\n",
       "     Quaenuncabibis                               0      1\n",
       "     Shantham11                                   3      1\n",
       "     Stirassistant                                1      1\n",
       "     TheseusHeLl                                  0      1\n",
       "     Uceeylu                                      0      1"
      ]
     },
     "execution_count": 635,
     "metadata": {},
     "output_type": "execute_result"
    }
   ],
   "source": [
    "users(revs)"
   ]
  },
  {
   "cell_type": "code",
   "execution_count": 641,
   "metadata": {},
   "outputs": [
    {
     "data": {
      "image/png": "[encoded data removed]",
      "text/plain": [
       "<Figure size 648x432 with 1 Axes>"
      ]
     },
     "metadata": {
      "needs_background": "light"
     },
     "output_type": "display_data"
    }
   ],
   "source": [
    "ueds = users(revs)\n",
    "ueds[\"Edits\"] = ueds[\"Minor\"] + ueds[\"Major\"]\n",
    "\n",
    "ax = sns.swarmplot(x=ueds.index.get_level_values(0), y=\"Edits\", data=ueds)\n",
    "ax.set_title(\"Editors for 'Martin Vetterli' on Wikipedia\")\n",
    "ax.figure.set_size_inches((9, 6))\n",
    "    \n",
    "ax.figure.savefig(os.path.join(im_path, \"edits.png\"))"
   ]
  },
  {
   "cell_type": "code",
   "execution_count": 333,
   "metadata": {},
   "outputs": [],
   "source": [
    "def mass_users(pages):\n",
    "    # We'll want to get the bulk of the data out in the future\n",
    "    \n",
    "    temp = []\n",
    "    \n",
    "    for p in pages:\n",
    "        curr = list(p.revisions(reverse=True, content=False))\n",
    "        udata = users(curr)\n",
    "        udata[p.title()] = udata[\"Minor\"] + udata[\"Major\"]\n",
    "        temp.append(udata[p.title()])\n",
    "    \n",
    "    return pd.concat(temp, axis=1)"
   ]
  },
  {
   "cell_type": "code",
   "execution_count": 342,
   "metadata": {},
   "outputs": [
    {
     "data": {
      "text/html": [
       "<div>\n",
       "<style scoped>\n",
       "    .dataframe tbody tr th:only-of-type {\n",
       "        vertical-align: middle;\n",
       "    }\n",
       "\n",
       "    .dataframe tbody tr th {\n",
       "        vertical-align: top;\n",
       "    }\n",
       "\n",
       "    .dataframe thead th {\n",
       "        text-align: right;\n",
       "    }\n",
       "</style>\n",
       "<table border=\"1\" class=\"dataframe\">\n",
       "  <thead>\n",
       "    <tr style=\"text-align: right;\">\n",
       "      <th></th>\n",
       "      <th></th>\n",
       "      <th>Gebregziabher Gebremariam</th>\n",
       "      <th>GMD SW1200MG</th>\n",
       "      <th>Kava</th>\n",
       "      <th>Pascal Lamy</th>\n",
       "      <th>Cantonal and University Library of Lausanne</th>\n",
       "      <th>Two-wheel tractor</th>\n",
       "      <th>University of Klagenfurt</th>\n",
       "      <th>List of universities and higher education colleges in London</th>\n",
       "      <th>History of YouTube</th>\n",
       "      <th>Deaths in February 2014</th>\n",
       "      <th>...</th>\n",
       "      <th>Carmen Sandi</th>\n",
       "      <th>Sun Binyong</th>\n",
       "      <th>Noam Chomsky</th>\n",
       "      <th>May 1962</th>\n",
       "      <th>Epidendrum floridense</th>\n",
       "      <th>Economy of Bangladesh</th>\n",
       "      <th>Norwegian University of Science and Technology</th>\n",
       "      <th>List of Duke University people</th>\n",
       "      <th>SensUs</th>\n",
       "      <th>McDonnell Douglas F/A-18 Hornet</th>\n",
       "    </tr>\n",
       "  </thead>\n",
       "  <tbody>\n",
       "    <tr>\n",
       "      <th rowspan=\"5\" valign=\"top\">Bot</th>\n",
       "      <th>.anacondabot</th>\n",
       "      <td>NaN</td>\n",
       "      <td>NaN</td>\n",
       "      <td>NaN</td>\n",
       "      <td>NaN</td>\n",
       "      <td>NaN</td>\n",
       "      <td>NaN</td>\n",
       "      <td>NaN</td>\n",
       "      <td>NaN</td>\n",
       "      <td>NaN</td>\n",
       "      <td>NaN</td>\n",
       "      <td>...</td>\n",
       "      <td>NaN</td>\n",
       "      <td>NaN</td>\n",
       "      <td>NaN</td>\n",
       "      <td>NaN</td>\n",
       "      <td>NaN</td>\n",
       "      <td>NaN</td>\n",
       "      <td>NaN</td>\n",
       "      <td>NaN</td>\n",
       "      <td>NaN</td>\n",
       "      <td>NaN</td>\n",
       "    </tr>\n",
       "    <tr>\n",
       "      <th>28bot</th>\n",
       "      <td>NaN</td>\n",
       "      <td>NaN</td>\n",
       "      <td>NaN</td>\n",
       "      <td>NaN</td>\n",
       "      <td>NaN</td>\n",
       "      <td>NaN</td>\n",
       "      <td>NaN</td>\n",
       "      <td>NaN</td>\n",
       "      <td>NaN</td>\n",
       "      <td>NaN</td>\n",
       "      <td>...</td>\n",
       "      <td>NaN</td>\n",
       "      <td>NaN</td>\n",
       "      <td>NaN</td>\n",
       "      <td>NaN</td>\n",
       "      <td>NaN</td>\n",
       "      <td>NaN</td>\n",
       "      <td>NaN</td>\n",
       "      <td>NaN</td>\n",
       "      <td>NaN</td>\n",
       "      <td>NaN</td>\n",
       "    </tr>\n",
       "    <tr>\n",
       "      <th>718 Bot</th>\n",
       "      <td>NaN</td>\n",
       "      <td>NaN</td>\n",
       "      <td>NaN</td>\n",
       "      <td>NaN</td>\n",
       "      <td>NaN</td>\n",
       "      <td>NaN</td>\n",
       "      <td>NaN</td>\n",
       "      <td>NaN</td>\n",
       "      <td>NaN</td>\n",
       "      <td>NaN</td>\n",
       "      <td>...</td>\n",
       "      <td>NaN</td>\n",
       "      <td>NaN</td>\n",
       "      <td>NaN</td>\n",
       "      <td>NaN</td>\n",
       "      <td>NaN</td>\n",
       "      <td>NaN</td>\n",
       "      <td>1.0</td>\n",
       "      <td>NaN</td>\n",
       "      <td>NaN</td>\n",
       "      <td>NaN</td>\n",
       "    </tr>\n",
       "    <tr>\n",
       "      <th>A4bot</th>\n",
       "      <td>NaN</td>\n",
       "      <td>NaN</td>\n",
       "      <td>NaN</td>\n",
       "      <td>1.0</td>\n",
       "      <td>NaN</td>\n",
       "      <td>NaN</td>\n",
       "      <td>NaN</td>\n",
       "      <td>NaN</td>\n",
       "      <td>NaN</td>\n",
       "      <td>NaN</td>\n",
       "      <td>...</td>\n",
       "      <td>NaN</td>\n",
       "      <td>NaN</td>\n",
       "      <td>NaN</td>\n",
       "      <td>NaN</td>\n",
       "      <td>NaN</td>\n",
       "      <td>NaN</td>\n",
       "      <td>NaN</td>\n",
       "      <td>NaN</td>\n",
       "      <td>NaN</td>\n",
       "      <td>NaN</td>\n",
       "    </tr>\n",
       "    <tr>\n",
       "      <th>AMbot</th>\n",
       "      <td>NaN</td>\n",
       "      <td>NaN</td>\n",
       "      <td>NaN</td>\n",
       "      <td>1.0</td>\n",
       "      <td>NaN</td>\n",
       "      <td>NaN</td>\n",
       "      <td>NaN</td>\n",
       "      <td>NaN</td>\n",
       "      <td>NaN</td>\n",
       "      <td>NaN</td>\n",
       "      <td>...</td>\n",
       "      <td>NaN</td>\n",
       "      <td>NaN</td>\n",
       "      <td>NaN</td>\n",
       "      <td>NaN</td>\n",
       "      <td>NaN</td>\n",
       "      <td>NaN</td>\n",
       "      <td>NaN</td>\n",
       "      <td>NaN</td>\n",
       "      <td>NaN</td>\n",
       "      <td>NaN</td>\n",
       "    </tr>\n",
       "    <tr>\n",
       "      <th>...</th>\n",
       "      <th>...</th>\n",
       "      <td>...</td>\n",
       "      <td>...</td>\n",
       "      <td>...</td>\n",
       "      <td>...</td>\n",
       "      <td>...</td>\n",
       "      <td>...</td>\n",
       "      <td>...</td>\n",
       "      <td>...</td>\n",
       "      <td>...</td>\n",
       "      <td>...</td>\n",
       "      <td>...</td>\n",
       "      <td>...</td>\n",
       "      <td>...</td>\n",
       "      <td>...</td>\n",
       "      <td>...</td>\n",
       "      <td>...</td>\n",
       "      <td>...</td>\n",
       "      <td>...</td>\n",
       "      <td>...</td>\n",
       "      <td>...</td>\n",
       "      <td>...</td>\n",
       "    </tr>\n",
       "    <tr>\n",
       "      <th rowspan=\"5\" valign=\"top\">Real</th>\n",
       "      <th>辩明君</th>\n",
       "      <td>NaN</td>\n",
       "      <td>NaN</td>\n",
       "      <td>NaN</td>\n",
       "      <td>NaN</td>\n",
       "      <td>NaN</td>\n",
       "      <td>NaN</td>\n",
       "      <td>NaN</td>\n",
       "      <td>NaN</td>\n",
       "      <td>NaN</td>\n",
       "      <td>NaN</td>\n",
       "      <td>...</td>\n",
       "      <td>NaN</td>\n",
       "      <td>NaN</td>\n",
       "      <td>NaN</td>\n",
       "      <td>NaN</td>\n",
       "      <td>NaN</td>\n",
       "      <td>NaN</td>\n",
       "      <td>NaN</td>\n",
       "      <td>NaN</td>\n",
       "      <td>NaN</td>\n",
       "      <td>NaN</td>\n",
       "    </tr>\n",
       "    <tr>\n",
       "      <th>达伟</th>\n",
       "      <td>NaN</td>\n",
       "      <td>NaN</td>\n",
       "      <td>1.0</td>\n",
       "      <td>NaN</td>\n",
       "      <td>NaN</td>\n",
       "      <td>NaN</td>\n",
       "      <td>NaN</td>\n",
       "      <td>NaN</td>\n",
       "      <td>NaN</td>\n",
       "      <td>NaN</td>\n",
       "      <td>...</td>\n",
       "      <td>NaN</td>\n",
       "      <td>NaN</td>\n",
       "      <td>NaN</td>\n",
       "      <td>NaN</td>\n",
       "      <td>NaN</td>\n",
       "      <td>NaN</td>\n",
       "      <td>NaN</td>\n",
       "      <td>NaN</td>\n",
       "      <td>NaN</td>\n",
       "      <td>NaN</td>\n",
       "    </tr>\n",
       "    <tr>\n",
       "      <th>隼鷹</th>\n",
       "      <td>NaN</td>\n",
       "      <td>NaN</td>\n",
       "      <td>NaN</td>\n",
       "      <td>NaN</td>\n",
       "      <td>NaN</td>\n",
       "      <td>NaN</td>\n",
       "      <td>NaN</td>\n",
       "      <td>NaN</td>\n",
       "      <td>NaN</td>\n",
       "      <td>NaN</td>\n",
       "      <td>...</td>\n",
       "      <td>NaN</td>\n",
       "      <td>NaN</td>\n",
       "      <td>NaN</td>\n",
       "      <td>NaN</td>\n",
       "      <td>NaN</td>\n",
       "      <td>NaN</td>\n",
       "      <td>NaN</td>\n",
       "      <td>NaN</td>\n",
       "      <td>NaN</td>\n",
       "      <td>NaN</td>\n",
       "    </tr>\n",
       "    <tr>\n",
       "      <th>망고소녀</th>\n",
       "      <td>NaN</td>\n",
       "      <td>NaN</td>\n",
       "      <td>NaN</td>\n",
       "      <td>NaN</td>\n",
       "      <td>NaN</td>\n",
       "      <td>NaN</td>\n",
       "      <td>NaN</td>\n",
       "      <td>NaN</td>\n",
       "      <td>NaN</td>\n",
       "      <td>NaN</td>\n",
       "      <td>...</td>\n",
       "      <td>NaN</td>\n",
       "      <td>NaN</td>\n",
       "      <td>NaN</td>\n",
       "      <td>NaN</td>\n",
       "      <td>NaN</td>\n",
       "      <td>NaN</td>\n",
       "      <td>NaN</td>\n",
       "      <td>NaN</td>\n",
       "      <td>NaN</td>\n",
       "      <td>NaN</td>\n",
       "    </tr>\n",
       "    <tr>\n",
       "      <th>어거스틴</th>\n",
       "      <td>NaN</td>\n",
       "      <td>NaN</td>\n",
       "      <td>NaN</td>\n",
       "      <td>NaN</td>\n",
       "      <td>NaN</td>\n",
       "      <td>NaN</td>\n",
       "      <td>NaN</td>\n",
       "      <td>NaN</td>\n",
       "      <td>NaN</td>\n",
       "      <td>NaN</td>\n",
       "      <td>...</td>\n",
       "      <td>NaN</td>\n",
       "      <td>NaN</td>\n",
       "      <td>NaN</td>\n",
       "      <td>NaN</td>\n",
       "      <td>NaN</td>\n",
       "      <td>NaN</td>\n",
       "      <td>NaN</td>\n",
       "      <td>NaN</td>\n",
       "      <td>NaN</td>\n",
       "      <td>NaN</td>\n",
       "    </tr>\n",
       "  </tbody>\n",
       "</table>\n",
       "<p>46561 rows × 100 columns</p>\n",
       "</div>"
      ],
      "text/plain": [
       "                   Gebregziabher Gebremariam  GMD SW1200MG  Kava  Pascal Lamy  \\\n",
       "Bot  .anacondabot                        NaN           NaN   NaN          NaN   \n",
       "     28bot                               NaN           NaN   NaN          NaN   \n",
       "     718 Bot                             NaN           NaN   NaN          NaN   \n",
       "     A4bot                               NaN           NaN   NaN          1.0   \n",
       "     AMbot                               NaN           NaN   NaN          1.0   \n",
       "...                                      ...           ...   ...          ...   \n",
       "Real 辩明君                                 NaN           NaN   NaN          NaN   \n",
       "     达伟                                  NaN           NaN   1.0          NaN   \n",
       "     隼鷹                                  NaN           NaN   NaN          NaN   \n",
       "     망고소녀                                NaN           NaN   NaN          NaN   \n",
       "     어거스틴                                NaN           NaN   NaN          NaN   \n",
       "\n",
       "                   Cantonal and University Library of Lausanne  \\\n",
       "Bot  .anacondabot                                          NaN   \n",
       "     28bot                                                 NaN   \n",
       "     718 Bot                                               NaN   \n",
       "     A4bot                                                 NaN   \n",
       "     AMbot                                                 NaN   \n",
       "...                                                        ...   \n",
       "Real 辩明君                                                   NaN   \n",
       "     达伟                                                    NaN   \n",
       "     隼鷹                                                    NaN   \n",
       "     망고소녀                                                  NaN   \n",
       "     어거스틴                                                  NaN   \n",
       "\n",
       "                   Two-wheel tractor  University of Klagenfurt  \\\n",
       "Bot  .anacondabot                NaN                       NaN   \n",
       "     28bot                       NaN                       NaN   \n",
       "     718 Bot                     NaN                       NaN   \n",
       "     A4bot                       NaN                       NaN   \n",
       "     AMbot                       NaN                       NaN   \n",
       "...                              ...                       ...   \n",
       "Real 辩明君                         NaN                       NaN   \n",
       "     达伟                          NaN                       NaN   \n",
       "     隼鷹                          NaN                       NaN   \n",
       "     망고소녀                        NaN                       NaN   \n",
       "     어거스틴                        NaN                       NaN   \n",
       "\n",
       "                   List of universities and higher education colleges in London  \\\n",
       "Bot  .anacondabot                                                NaN              \n",
       "     28bot                                                       NaN              \n",
       "     718 Bot                                                     NaN              \n",
       "     A4bot                                                       NaN              \n",
       "     AMbot                                                       NaN              \n",
       "...                                                              ...              \n",
       "Real 辩明君                                                         NaN              \n",
       "     达伟                                                          NaN              \n",
       "     隼鷹                                                          NaN              \n",
       "     망고소녀                                                        NaN              \n",
       "     어거스틴                                                        NaN              \n",
       "\n",
       "                   History of YouTube  Deaths in February 2014  ...  \\\n",
       "Bot  .anacondabot                 NaN                      NaN  ...   \n",
       "     28bot                        NaN                      NaN  ...   \n",
       "     718 Bot                      NaN                      NaN  ...   \n",
       "     A4bot                        NaN                      NaN  ...   \n",
       "     AMbot                        NaN                      NaN  ...   \n",
       "...                               ...                      ...  ...   \n",
       "Real 辩明君                          NaN                      NaN  ...   \n",
       "     达伟                           NaN                      NaN  ...   \n",
       "     隼鷹                           NaN                      NaN  ...   \n",
       "     망고소녀                         NaN                      NaN  ...   \n",
       "     어거스틴                         NaN                      NaN  ...   \n",
       "\n",
       "                   Carmen Sandi  Sun Binyong  Noam Chomsky  May 1962  \\\n",
       "Bot  .anacondabot           NaN          NaN           NaN       NaN   \n",
       "     28bot                  NaN          NaN           NaN       NaN   \n",
       "     718 Bot                NaN          NaN           NaN       NaN   \n",
       "     A4bot                  NaN          NaN           NaN       NaN   \n",
       "     AMbot                  NaN          NaN           NaN       NaN   \n",
       "...                         ...          ...           ...       ...   \n",
       "Real 辩明君                    NaN          NaN           NaN       NaN   \n",
       "     达伟                     NaN          NaN           NaN       NaN   \n",
       "     隼鷹                     NaN          NaN           NaN       NaN   \n",
       "     망고소녀                   NaN          NaN           NaN       NaN   \n",
       "     어거스틴                   NaN          NaN           NaN       NaN   \n",
       "\n",
       "                   Epidendrum floridense  Economy of Bangladesh  \\\n",
       "Bot  .anacondabot                    NaN                    NaN   \n",
       "     28bot                           NaN                    NaN   \n",
       "     718 Bot                         NaN                    NaN   \n",
       "     A4bot                           NaN                    NaN   \n",
       "     AMbot                           NaN                    NaN   \n",
       "...                                  ...                    ...   \n",
       "Real 辩明君                             NaN                    NaN   \n",
       "     达伟                              NaN                    NaN   \n",
       "     隼鷹                              NaN                    NaN   \n",
       "     망고소녀                            NaN                    NaN   \n",
       "     어거스틴                            NaN                    NaN   \n",
       "\n",
       "                   Norwegian University of Science and Technology  \\\n",
       "Bot  .anacondabot                                             NaN   \n",
       "     28bot                                                    NaN   \n",
       "     718 Bot                                                  1.0   \n",
       "     A4bot                                                    NaN   \n",
       "     AMbot                                                    NaN   \n",
       "...                                                           ...   \n",
       "Real 辩明君                                                      NaN   \n",
       "     达伟                                                       NaN   \n",
       "     隼鷹                                                       NaN   \n",
       "     망고소녀                                                     NaN   \n",
       "     어거스틴                                                     NaN   \n",
       "\n",
       "                   List of Duke University people  SensUs  \\\n",
       "Bot  .anacondabot                             NaN     NaN   \n",
       "     28bot                                    NaN     NaN   \n",
       "     718 Bot                                  NaN     NaN   \n",
       "     A4bot                                    NaN     NaN   \n",
       "     AMbot                                    NaN     NaN   \n",
       "...                                           ...     ...   \n",
       "Real 辩明君                                      NaN     NaN   \n",
       "     达伟                                       NaN     NaN   \n",
       "     隼鷹                                       NaN     NaN   \n",
       "     망고소녀                                     NaN     NaN   \n",
       "     어거스틴                                     NaN     NaN   \n",
       "\n",
       "                   McDonnell Douglas F/A-18 Hornet  \n",
       "Bot  .anacondabot                              NaN  \n",
       "     28bot                                     NaN  \n",
       "     718 Bot                                   NaN  \n",
       "     A4bot                                     NaN  \n",
       "     AMbot                                     NaN  \n",
       "...                                            ...  \n",
       "Real 辩明君                                       NaN  \n",
       "     达伟                                        NaN  \n",
       "     隼鷹                                        NaN  \n",
       "     망고소녀                                      NaN  \n",
       "     어거스틴                                      NaN  \n",
       "\n",
       "[46561 rows x 100 columns]"
      ]
     },
     "execution_count": 342,
     "metadata": {},
     "output_type": "execute_result"
    }
   ],
   "source": [
    "udata = mass_users(epfl_pages[:100])\n",
    "udata"
   ]
  },
  {
   "cell_type": "code",
   "execution_count": 343,
   "metadata": {},
   "outputs": [
    {
     "data": {
      "text/plain": [
       "Bot   .anacondabot    3.0\n",
       "      28bot           3.0\n",
       "      718 Bot         2.0\n",
       "      A4bot           2.0\n",
       "      AMbot           2.0\n",
       "                     ... \n",
       "Real  辩明君             1.0\n",
       "      达伟              1.0\n",
       "      隼鷹              1.0\n",
       "      망고소녀            1.0\n",
       "      어거스틴            1.0\n",
       "Length: 46561, dtype: float64"
      ]
     },
     "execution_count": 343,
     "metadata": {},
     "output_type": "execute_result"
    }
   ],
   "source": [
    "usr_sum = udata.sum(axis=1)\n",
    "usr_sum"
   ]
  },
  {
   "cell_type": "code",
   "execution_count": 344,
   "metadata": {},
   "outputs": [
    {
     "data": {
      "text/plain": [
       "Bot   .anacondabot    3\n",
       "      28bot           3\n",
       "      718 Bot         2\n",
       "      A4bot           2\n",
       "      AMbot           2\n",
       "                     ..\n",
       "Real  辩明君             1\n",
       "      达伟              1\n",
       "      隼鷹              1\n",
       "      망고소녀            1\n",
       "      어거스틴            1\n",
       "Length: 46561, dtype: int64"
      ]
     },
     "execution_count": 344,
     "metadata": {},
     "output_type": "execute_result"
    }
   ],
   "source": [
    "usr_cnt = udata.count(axis=1)\n",
    "usr_cnt"
   ]
  },
  {
   "cell_type": "code",
   "execution_count": 398,
   "metadata": {},
   "outputs": [
    {
     "data": {
      "image/png": "[encoded data removed]",
      "text/plain": [
       "<Figure size 648x432 with 1 Axes>"
      ]
     },
     "metadata": {
      "needs_background": "light"
     },
     "output_type": "display_data"
    }
   ],
   "source": [
    "fig, ax = plt.subplots()\n",
    "ax.set_title(\"Scatterplot of user edits\")\n",
    "ax.set_xlabel(\"Number of edits\")\n",
    "ax.set_ylabel(\"Number of pages\")\n",
    "x_vals = np.linspace(0, 100)\n",
    "ax.plot(x_vals, x_vals)\n",
    "ax.annotate(\"y = x\", (120, 95))\n",
    "fig.set_size_inches((9, 6))\n",
    "artists = []\n",
    "plot_names = []\n",
    "for (ns, s), (nc, c) in zip(usr_sum.groupby(level=0), usr_cnt.groupby(level=0)):\n",
    "    artists.append(plt.scatter(s, c))\n",
    "    plot_names.append(ns)\n",
    "ax.legend(artists, plot_names)\n",
    "ax.figure.savefig(os.path.join(im_path, \"users.png\"))"
   ]
  },
  {
   "cell_type": "code",
   "execution_count": 373,
   "metadata": {},
   "outputs": [
    {
     "name": "stdout",
     "output_type": "stream",
     "text": [
      "Bot  .anacondabot     3.0\n",
      "     28bot            3.0\n",
      "     718 Bot          2.0\n",
      "     A4bot            2.0\n",
      "     AMbot            2.0\n",
      "                     ... \n",
      "     Zorrobot         8.0\n",
      "     Zwobot           4.0\n",
      "     Zxabot           1.0\n",
      "     ZéroBot         34.0\n",
      "     タチコマ robot       2.0\n",
      "Length: 301, dtype: float64\n",
      "IP  1.122.205.50     2.0\n",
      "    1.125.111.146    3.0\n",
      "    1.126.105.116    1.0\n",
      "    1.127.105.155    1.0\n",
      "    1.129.97.101     1.0\n",
      "                    ... \n",
      "    99.92.186.177    1.0\n",
      "    99.92.251.167    1.0\n",
      "    99.93.5.90       1.0\n",
      "    99.96.146.195    2.0\n",
      "    99.96.36.119     1.0\n",
      "Length: 27034, dtype: float64\n",
      "Real                       7.0\n",
      "      !Darkfire!6'28'14    1.0\n",
      "      \"MyOfficial\"         1.0\n",
      "      $cieno $itter        1.0\n",
      "      $yD!                 1.0\n",
      "                          ... \n",
      "      辩明君                  1.0\n",
      "      达伟                   1.0\n",
      "      隼鷹                   1.0\n",
      "      망고소녀                 1.0\n",
      "      어거스틴                 1.0\n",
      "Length: 19226, dtype: float64\n"
     ]
    }
   ],
   "source": [
    "for (ns, s), (nc, c) in zip(usr_sum.groupby(level=0), usr_cnt.groupby(level=0)):\n",
    "    print(s)"
   ]
  },
  {
   "cell_type": "markdown",
   "metadata": {},
   "source": [
    "# WORK IN PROGRESS"
   ]
  },
  {
   "cell_type": "markdown",
   "metadata": {},
   "source": [
    "need to make a record of what pages have indeed mentions or not so we can refer to it"
   ]
  },
  {
   "cell_type": "code",
   "execution_count": 29,
   "metadata": {},
   "outputs": [],
   "source": [
    "def saveData(page):\n",
    "    ret = getPageScore(page)\n",
    "    \n",
    "    if ret is None:\n",
    "        return None, None\n",
    "    \n",
    "    idx = page.data_item().title()\n",
    "    ret.to_pickle(os.path.join(\"pickles\", idx))\n",
    "    return idx, ret\n",
    "\n",
    "def loadData(idx):\n",
    "    return pd.read_pickle(os.path.join(\"pickles\", idx))"
   ]
  },
  {
   "cell_type": "code",
   "execution_count": 30,
   "metadata": {},
   "outputs": [
    {
     "data": {
      "text/plain": [
       "'\\n\\nfns = os.listdir(\"pickles\")\\nfor p in epfl_pages:\\n    try:\\n        if p.data_item().title() not in fns:\\n            saveData(p)\\n            print(p)\\n    except:\\n        pass\\n'"
      ]
     },
     "execution_count": 30,
     "metadata": {},
     "output_type": "execute_result"
    }
   ],
   "source": [
    "'''\n",
    "\n",
    "fns = os.listdir(\"pickles\")\n",
    "for p in epfl_pages:\n",
    "    try:\n",
    "        if p.data_item().title() not in fns:\n",
    "            saveData(p)\n",
    "            print(p)\n",
    "    except:\n",
    "        pass\n",
    "'''"
   ]
  },
  {
   "cell_type": "markdown",
   "metadata": {},
   "source": [
    "[[en:Whistleblower]]\n",
    "WARNING: API warning (result): This result was truncated because it would otherwise be larger than the limit of 12,582,912 bytes."
   ]
  },
  {
   "cell_type": "code",
   "execution_count": 31,
   "metadata": {},
   "outputs": [],
   "source": [
    "banane = pwb.Page(wiki_site, u\"Fréquence Banane\")\n",
    "banane_s = getPageScore(banane)"
   ]
  },
  {
   "cell_type": "code",
   "execution_count": 32,
   "metadata": {},
   "outputs": [
    {
     "data": {
      "text/plain": [
       "'Q3090425'"
      ]
     },
     "execution_count": 32,
     "metadata": {},
     "output_type": "execute_result"
    }
   ],
   "source": [
    "banane.data_item().title()"
   ]
  },
  {
   "cell_type": "code",
   "execution_count": 33,
   "metadata": {},
   "outputs": [],
   "source": [
    "banane_s.to_pickle(banane.data_item().title())"
   ]
  },
  {
   "cell_type": "code",
   "execution_count": 34,
   "metadata": {},
   "outputs": [
    {
     "data": {
      "text/html": [
       "<div>\n",
       "<style scoped>\n",
       "    .dataframe tbody tr th:only-of-type {\n",
       "        vertical-align: middle;\n",
       "    }\n",
       "\n",
       "    .dataframe tbody tr th {\n",
       "        vertical-align: top;\n",
       "    }\n",
       "\n",
       "    .dataframe thead th {\n",
       "        text-align: right;\n",
       "    }\n",
       "</style>\n",
       "<table border=\"1\" class=\"dataframe\">\n",
       "  <thead>\n",
       "    <tr style=\"text-align: right;\">\n",
       "      <th></th>\n",
       "      <th>Views</th>\n",
       "      <th>Size</th>\n",
       "      <th>Mentions</th>\n",
       "      <th>Score</th>\n",
       "    </tr>\n",
       "  </thead>\n",
       "  <tbody>\n",
       "    <tr>\n",
       "      <th>2016-01-16</th>\n",
       "      <td>53</td>\n",
       "      <td>1242.0</td>\n",
       "      <td>0.0</td>\n",
       "      <td>0.000000</td>\n",
       "    </tr>\n",
       "    <tr>\n",
       "      <th>2016-01-17</th>\n",
       "      <td>8</td>\n",
       "      <td>1275.0</td>\n",
       "      <td>0.0</td>\n",
       "      <td>0.000000</td>\n",
       "    </tr>\n",
       "    <tr>\n",
       "      <th>2016-01-18</th>\n",
       "      <td>1</td>\n",
       "      <td>1275.0</td>\n",
       "      <td>0.0</td>\n",
       "      <td>0.000000</td>\n",
       "    </tr>\n",
       "    <tr>\n",
       "      <th>2016-01-19</th>\n",
       "      <td>7</td>\n",
       "      <td>1275.0</td>\n",
       "      <td>0.0</td>\n",
       "      <td>0.000000</td>\n",
       "    </tr>\n",
       "    <tr>\n",
       "      <th>2016-01-20</th>\n",
       "      <td>11</td>\n",
       "      <td>1307.0</td>\n",
       "      <td>0.0</td>\n",
       "      <td>0.000000</td>\n",
       "    </tr>\n",
       "    <tr>\n",
       "      <th>...</th>\n",
       "      <td>...</td>\n",
       "      <td>...</td>\n",
       "      <td>...</td>\n",
       "      <td>...</td>\n",
       "    </tr>\n",
       "    <tr>\n",
       "      <th>2020-12-18</th>\n",
       "      <td>3</td>\n",
       "      <td>1336.0</td>\n",
       "      <td>1.0</td>\n",
       "      <td>0.002246</td>\n",
       "    </tr>\n",
       "    <tr>\n",
       "      <th>2020-12-19</th>\n",
       "      <td>1</td>\n",
       "      <td>1336.0</td>\n",
       "      <td>1.0</td>\n",
       "      <td>0.000749</td>\n",
       "    </tr>\n",
       "    <tr>\n",
       "      <th>2020-12-20</th>\n",
       "      <td>2</td>\n",
       "      <td>1336.0</td>\n",
       "      <td>1.0</td>\n",
       "      <td>0.001497</td>\n",
       "    </tr>\n",
       "    <tr>\n",
       "      <th>2020-12-21</th>\n",
       "      <td>3</td>\n",
       "      <td>1336.0</td>\n",
       "      <td>1.0</td>\n",
       "      <td>0.002246</td>\n",
       "    </tr>\n",
       "    <tr>\n",
       "      <th>2020-12-22</th>\n",
       "      <td>2</td>\n",
       "      <td>1336.0</td>\n",
       "      <td>1.0</td>\n",
       "      <td>0.001497</td>\n",
       "    </tr>\n",
       "  </tbody>\n",
       "</table>\n",
       "<p>1572 rows × 4 columns</p>\n",
       "</div>"
      ],
      "text/plain": [
       "            Views    Size  Mentions     Score\n",
       "2016-01-16     53  1242.0       0.0  0.000000\n",
       "2016-01-17      8  1275.0       0.0  0.000000\n",
       "2016-01-18      1  1275.0       0.0  0.000000\n",
       "2016-01-19      7  1275.0       0.0  0.000000\n",
       "2016-01-20     11  1307.0       0.0  0.000000\n",
       "...           ...     ...       ...       ...\n",
       "2020-12-18      3  1336.0       1.0  0.002246\n",
       "2020-12-19      1  1336.0       1.0  0.000749\n",
       "2020-12-20      2  1336.0       1.0  0.001497\n",
       "2020-12-21      3  1336.0       1.0  0.002246\n",
       "2020-12-22      2  1336.0       1.0  0.001497\n",
       "\n",
       "[1572 rows x 4 columns]"
      ]
     },
     "execution_count": 34,
     "metadata": {},
     "output_type": "execute_result"
    }
   ],
   "source": [
    "pd.read_pickle(banane.data_item().title())"
   ]
  },
  {
   "cell_type": "code",
   "execution_count": 35,
   "metadata": {},
   "outputs": [
    {
     "data": {
      "text/plain": [
       "('Q3090425',\n",
       "             Views    Size  Mentions     Score\n",
       " 2016-01-16     53  1242.0       0.0  0.000000\n",
       " 2016-01-17      8  1275.0       0.0  0.000000\n",
       " 2016-01-18      1  1275.0       0.0  0.000000\n",
       " 2016-01-19      7  1275.0       0.0  0.000000\n",
       " 2016-01-20     11  1307.0       0.0  0.000000\n",
       " ...           ...     ...       ...       ...\n",
       " 2020-12-18      3  1336.0       1.0  0.002246\n",
       " 2020-12-19      1  1336.0       1.0  0.000749\n",
       " 2020-12-20      2  1336.0       1.0  0.001497\n",
       " 2020-12-21      3  1336.0       1.0  0.002246\n",
       " 2020-12-22      2  1336.0       1.0  0.001497\n",
       " \n",
       " [1572 rows x 4 columns])"
      ]
     },
     "execution_count": 35,
     "metadata": {},
     "output_type": "execute_result"
    }
   ],
   "source": [
    "saveData(banane)"
   ]
  },
  {
   "cell_type": "code",
   "execution_count": 36,
   "metadata": {},
   "outputs": [
    {
     "data": {
      "text/html": [
       "<div>\n",
       "<style scoped>\n",
       "    .dataframe tbody tr th:only-of-type {\n",
       "        vertical-align: middle;\n",
       "    }\n",
       "\n",
       "    .dataframe tbody tr th {\n",
       "        vertical-align: top;\n",
       "    }\n",
       "\n",
       "    .dataframe thead th {\n",
       "        text-align: right;\n",
       "    }\n",
       "</style>\n",
       "<table border=\"1\" class=\"dataframe\">\n",
       "  <thead>\n",
       "    <tr style=\"text-align: right;\">\n",
       "      <th></th>\n",
       "      <th>Views</th>\n",
       "      <th>Size</th>\n",
       "      <th>Mentions</th>\n",
       "      <th>Score</th>\n",
       "    </tr>\n",
       "  </thead>\n",
       "  <tbody>\n",
       "    <tr>\n",
       "      <th>2016-01-16</th>\n",
       "      <td>53</td>\n",
       "      <td>1242.0</td>\n",
       "      <td>0.0</td>\n",
       "      <td>0.000000</td>\n",
       "    </tr>\n",
       "    <tr>\n",
       "      <th>2016-01-17</th>\n",
       "      <td>8</td>\n",
       "      <td>1275.0</td>\n",
       "      <td>0.0</td>\n",
       "      <td>0.000000</td>\n",
       "    </tr>\n",
       "    <tr>\n",
       "      <th>2016-01-18</th>\n",
       "      <td>1</td>\n",
       "      <td>1275.0</td>\n",
       "      <td>0.0</td>\n",
       "      <td>0.000000</td>\n",
       "    </tr>\n",
       "    <tr>\n",
       "      <th>2016-01-19</th>\n",
       "      <td>7</td>\n",
       "      <td>1275.0</td>\n",
       "      <td>0.0</td>\n",
       "      <td>0.000000</td>\n",
       "    </tr>\n",
       "    <tr>\n",
       "      <th>2016-01-20</th>\n",
       "      <td>11</td>\n",
       "      <td>1307.0</td>\n",
       "      <td>0.0</td>\n",
       "      <td>0.000000</td>\n",
       "    </tr>\n",
       "    <tr>\n",
       "      <th>...</th>\n",
       "      <td>...</td>\n",
       "      <td>...</td>\n",
       "      <td>...</td>\n",
       "      <td>...</td>\n",
       "    </tr>\n",
       "    <tr>\n",
       "      <th>2020-12-18</th>\n",
       "      <td>3</td>\n",
       "      <td>1336.0</td>\n",
       "      <td>1.0</td>\n",
       "      <td>0.002246</td>\n",
       "    </tr>\n",
       "    <tr>\n",
       "      <th>2020-12-19</th>\n",
       "      <td>1</td>\n",
       "      <td>1336.0</td>\n",
       "      <td>1.0</td>\n",
       "      <td>0.000749</td>\n",
       "    </tr>\n",
       "    <tr>\n",
       "      <th>2020-12-20</th>\n",
       "      <td>2</td>\n",
       "      <td>1336.0</td>\n",
       "      <td>1.0</td>\n",
       "      <td>0.001497</td>\n",
       "    </tr>\n",
       "    <tr>\n",
       "      <th>2020-12-21</th>\n",
       "      <td>3</td>\n",
       "      <td>1336.0</td>\n",
       "      <td>1.0</td>\n",
       "      <td>0.002246</td>\n",
       "    </tr>\n",
       "    <tr>\n",
       "      <th>2020-12-22</th>\n",
       "      <td>2</td>\n",
       "      <td>1336.0</td>\n",
       "      <td>1.0</td>\n",
       "      <td>0.001497</td>\n",
       "    </tr>\n",
       "  </tbody>\n",
       "</table>\n",
       "<p>1572 rows × 4 columns</p>\n",
       "</div>"
      ],
      "text/plain": [
       "            Views    Size  Mentions     Score\n",
       "2016-01-16     53  1242.0       0.0  0.000000\n",
       "2016-01-17      8  1275.0       0.0  0.000000\n",
       "2016-01-18      1  1275.0       0.0  0.000000\n",
       "2016-01-19      7  1275.0       0.0  0.000000\n",
       "2016-01-20     11  1307.0       0.0  0.000000\n",
       "...           ...     ...       ...       ...\n",
       "2020-12-18      3  1336.0       1.0  0.002246\n",
       "2020-12-19      1  1336.0       1.0  0.000749\n",
       "2020-12-20      2  1336.0       1.0  0.001497\n",
       "2020-12-21      3  1336.0       1.0  0.002246\n",
       "2020-12-22      2  1336.0       1.0  0.001497\n",
       "\n",
       "[1572 rows x 4 columns]"
      ]
     },
     "execution_count": 36,
     "metadata": {},
     "output_type": "execute_result"
    }
   ],
   "source": [
    "loadData(\"Q3090425\")"
   ]
  },
  {
   "cell_type": "code",
   "execution_count": 37,
   "metadata": {},
   "outputs": [
    {
     "ename": "NameError",
     "evalue": "name 'testdata' is not defined",
     "output_type": "error",
     "traceback": [
      "\u001b[1;31m---------------------------------------------------------------------------\u001b[0m",
      "\u001b[1;31mNameError\u001b[0m                                 Traceback (most recent call last)",
      "\u001b[1;32m<ipython-input-37-fa9ad952e0b5>\u001b[0m in \u001b[0;36m<module>\u001b[1;34m\u001b[0m\n\u001b[1;32m----> 1\u001b[1;33m \u001b[0ma\u001b[0m \u001b[1;33m=\u001b[0m \u001b[0mtestdata\u001b[0m\u001b[1;33m[\u001b[0m\u001b[1;36m0\u001b[0m\u001b[1;33m]\u001b[0m\u001b[1;33m\u001b[0m\u001b[1;33m\u001b[0m\u001b[0m\n\u001b[0m\u001b[0;32m      2\u001b[0m \u001b[0mb\u001b[0m \u001b[1;33m=\u001b[0m \u001b[0mtestdata\u001b[0m\u001b[1;33m[\u001b[0m\u001b[1;36m1\u001b[0m\u001b[1;33m]\u001b[0m\u001b[1;33m\u001b[0m\u001b[1;33m\u001b[0m\u001b[0m\n\u001b[0;32m      3\u001b[0m \u001b[0mpd\u001b[0m\u001b[1;33m.\u001b[0m\u001b[0mconcat\u001b[0m\u001b[1;33m(\u001b[0m\u001b[1;33m[\u001b[0m\u001b[0ma\u001b[0m\u001b[1;33m,\u001b[0m \u001b[0mb\u001b[0m\u001b[1;33m]\u001b[0m\u001b[1;33m,\u001b[0m \u001b[0maxis\u001b[0m\u001b[1;33m=\u001b[0m\u001b[1;36m1\u001b[0m\u001b[1;33m,\u001b[0m \u001b[0mkeys\u001b[0m\u001b[1;33m=\u001b[0m\u001b[1;33m[\u001b[0m\u001b[1;34m\"u\"\u001b[0m\u001b[1;33m,\u001b[0m \u001b[1;34m\"v\"\u001b[0m\u001b[1;33m]\u001b[0m\u001b[1;33m)\u001b[0m\u001b[1;33m.\u001b[0m\u001b[0mfillna\u001b[0m\u001b[1;33m(\u001b[0m\u001b[1;36m0\u001b[0m\u001b[1;33m)\u001b[0m\u001b[1;33m.\u001b[0m\u001b[0msum\u001b[0m\u001b[1;33m(\u001b[0m\u001b[0maxis\u001b[0m\u001b[1;33m=\u001b[0m\u001b[1;36m1\u001b[0m\u001b[1;33m,\u001b[0m \u001b[0mlevel\u001b[0m\u001b[1;33m=\u001b[0m\u001b[1;36m1\u001b[0m\u001b[1;33m)\u001b[0m\u001b[1;33m\u001b[0m\u001b[1;33m\u001b[0m\u001b[0m\n",
      "\u001b[1;31mNameError\u001b[0m: name 'testdata' is not defined"
     ]
    }
   ],
   "source": [
    "a = testdata[0]\n",
    "b = testdata[1]\n",
    "pd.concat([a, b], axis=1, keys=[\"u\", \"v\"]).fillna(0).sum(axis=1, level=1)"
   ]
  },
  {
   "cell_type": "code",
   "execution_count": null,
   "metadata": {},
   "outputs": [],
   "source": [
    "fns = [n for n in os.listdir(\"pickles\") if n[0] == \"Q\"]\n",
    "testdata = [loadData(fn) for fn in fns]\n",
    "\n",
    "init = testdata[0]\n",
    "\n",
    "for td in testdata[1:]:\n",
    "    init = pd.concat([init, td], axis=1, keys=[\"l\", \"r\"]).fillna(0).sum(axis=1, level=1)\n",
    "    \n",
    "init.plot()"
   ]
  },
  {
   "cell_type": "code",
   "execution_count": null,
   "metadata": {},
   "outputs": [],
   "source": [
    "init[\"Views\"].plot()"
   ]
  },
  {
   "cell_type": "code",
   "execution_count": null,
   "metadata": {},
   "outputs": [],
   "source": [
    "init[\"Mentions\"].plot()"
   ]
  },
  {
   "cell_type": "code",
   "execution_count": null,
   "metadata": {},
   "outputs": [],
   "source": [
    "init[\"Score\"].plot()"
   ]
  },
  {
   "cell_type": "markdown",
   "metadata": {},
   "source": [
    "## Combining Data"
   ]
  },
  {
   "cell_type": "code",
   "execution_count": null,
   "metadata": {},
   "outputs": [],
   "source": [
    "cl = pd.DataFrame(columns=[\"views\", \"mentions\", \"edits\"])\n",
    "cl.loc[495998] = [1, 2, 4]\n",
    "cl"
   ]
  },
  {
   "cell_type": "code",
   "execution_count": null,
   "metadata": {},
   "outputs": [],
   "source": [
    "for i, p in enumerate(epfl_pages[:10]):\n",
    "    print(i)\n",
    "    getPageScore(p)"
   ]
  },
  {
   "cell_type": "markdown",
   "metadata": {},
   "source": [
    "## Editors"
   ]
  },
  {
   "cell_type": "code",
   "execution_count": null,
   "metadata": {},
   "outputs": [],
   "source": [
    "for uid, dat in df.groupby(\"userid\"):\n",
    "    print(uid)\n",
    "    for val, x in dat.groupby(\"minor\"):\n",
    "        print(val, sum(x[\"diff\"]))"
   ]
  },
  {
   "cell_type": "markdown",
   "metadata": {},
   "source": [
    "entry over time\n",
    "* list of incoming links\n",
    "* list of outgoing links\n",
    "* mention history\n",
    "\n",
    "work with user pages  \n",
    "potentially use the wikipedia package for smaller operations as it seems to be faster, maybe do some timed tests\n",
    "\n",
    "count improve counts by checking revisions 5 before and 5 after to ignore edit wars and such"
   ]
  },
  {
   "cell_type": "markdown",
   "metadata": {},
   "source": [
    "Will need to handle the problem or redirects and page name changes in the future.\n",
    "\n",
    "Will need to classify whether we found the subject through keywords or if EPFL was mentioned.\n",
    "\n",
    "We assume mentions are only added for performance and simplicity reasons. It's very rare that content will be removed from pages.\n",
    "\n",
    "Link pages with contributors\n",
    "\n",
    "Update data over time instead of recomputing everything\n",
    "\n",
    "Bot that changes names of EPFL or makes a suggestion on the talk page\n",
    "\n",
    "orcid, unique identifier for papers\n",
    "\n",
    "https://go.epfl.ch/wikiproject\n",
    "\n",
    "correlate growth of epfl mentions and wikipedia in general (or science related pages, lets see what we can do)"
   ]
  },
  {
   "cell_type": "code",
   "execution_count": 562,
   "metadata": {},
   "outputs": [
    {
     "data": {
      "text/plain": [
       "[2614, 2634, 2612, 2667, 2679]"
      ]
     },
     "execution_count": 562,
     "metadata": {},
     "output_type": "execute_result"
    }
   ],
   "source": [
    "[r[\"size\"] for r in revs][-5:]"
   ]
  },
  {
   "cell_type": "code",
   "execution_count": 668,
   "metadata": {},
   "outputs": [
    {
     "data": {
      "text/plain": [
       "Page('Talk:Martin Vetterli')"
      ]
     },
     "execution_count": 668,
     "metadata": {},
     "output_type": "execute_result"
    }
   ],
   "source": [
    "talkpage = pwb.Page(wiki_site, u\"Talk:Martin Vetterli\")\n",
    "talkpage"
   ]
  },
  {
   "cell_type": "code",
   "execution_count": 672,
   "metadata": {},
   "outputs": [
    {
     "data": {
      "text/plain": [
       "[Category('Category:Automatically assessed biography articles'),\n",
       " Category('Category:Biography articles of living people'),\n",
       " Category('Category:Low-importance Switzerland articles'),\n",
       " Category('Category:Noindexed pages'),\n",
       " Category('Category:Stub-Class Switzerland articles'),\n",
       " Category('Category:Stub-Class biography articles'),\n",
       " Category('Category:WikiProject Biography articles')]"
      ]
     },
     "execution_count": 672,
     "metadata": {},
     "output_type": "execute_result"
    }
   ],
   "source": [
    "list(talkpage.categories())"
   ]
  },
  {
   "cell_type": "code",
   "execution_count": 674,
   "metadata": {},
   "outputs": [],
   "source": [
    "cats = list(page.categories())"
   ]
  },
  {
   "cell_type": "code",
   "execution_count": 678,
   "metadata": {},
   "outputs": [
    {
     "data": {
      "text/plain": [
       "{'size': 13440, 'pages': 13440, 'files': 0, 'subcats': 0}"
      ]
     },
     "execution_count": 678,
     "metadata": {},
     "output_type": "execute_result"
    }
   ],
   "source": [
    "cats[0].categoryinfo"
   ]
  },
  {
   "cell_type": "code",
   "execution_count": 679,
   "metadata": {},
   "outputs": [],
   "source": [
    "# Function that checks that the category records are correct (if a page has been removed from a category, it will put it in the legacy records instead)\n",
    "def sanitizeCategories():\n",
    "    pass"
   ]
  },
  {
   "cell_type": "code",
   "execution_count": 791,
   "metadata": {},
   "outputs": [
    {
     "data": {
      "text/plain": [
       "[Page('Bubacarr Bah'),\n",
       " Page('Maria Belgica of Portugal'),\n",
       " Page('Electric clock'),\n",
       " Page('Timeline of the COVID-19 pandemic in Russia'),\n",
       " Page('Chibok schoolgirls kidnapping'),\n",
       " Page(\"European Citizens' Initiative\"),\n",
       " Page('Schulich School of Law'),\n",
       " Page('Sports in New York (state)'),\n",
       " Page('Elderly care'),\n",
       " Page('Raffaella Buonsanti'),\n",
       " Page('Denice Denton'),\n",
       " Page('Easter Monday'),\n",
       " Page('Cannabis (drug)'),\n",
       " Page('Arts et Métiers ParisTech'),\n",
       " Page('History of Digital Equipment Corporation'),\n",
       " Page('List of Greek Americans'),\n",
       " Page('List of forestry universities and colleges'),\n",
       " Page('Cognex Corporation'),\n",
       " Page('Safety of electronic cigarettes'),\n",
       " Page('Global Educational Network for Satellite Operations'),\n",
       " Page('David E. Cane'),\n",
       " Page('Fred Brooks'),\n",
       " Page('Aafia Siddiqui'),\n",
       " Page('Sacramento, California'),\n",
       " Page('Claudia R. Binder'),\n",
       " Page('Far Eastern State University of Humanities'),\n",
       " Page('RM-ODP'),\n",
       " Page('Shale oil extraction'),\n",
       " Page('Foreign relations of Austria'),\n",
       " Page('Health effects of Bisphenol A'),\n",
       " Page('Integrated design'),\n",
       " Page('Nanocem'),\n",
       " Page('Neil deGrasse Tyson'),\n",
       " Page('Technical University of Crete'),\n",
       " Page('Tax incentive'),\n",
       " Page('Bretton Woods system'),\n",
       " Page('Bratislava'),\n",
       " Page('Expression problem'),\n",
       " Page('Dharma Agrawal'),\n",
       " Page('Lockheed Martin F-35 Lightning II procurement'),\n",
       " Page('Galileo (satellite navigation)'),\n",
       " Page('Stalinist architecture'),\n",
       " Page('Katharina Perch-Nielsen'),\n",
       " Page('Women in Ghana'),\n",
       " Page('Santa Ana, California'),\n",
       " Page('Healthcare in Canada'),\n",
       " Page('2011 Diamond League'),\n",
       " Page('Maastricht Graduate School of Governance'),\n",
       " Page(\"École nationale supérieure d'informatique et de mathématiques appliquées de Grenoble\"),\n",
       " Page('Lyesse Laloui'),\n",
       " Page('Elliptic-curve cryptography'),\n",
       " Page('Werner Stumm'),\n",
       " Page('Lighthouse'),\n",
       " Page('Education in Malaysia'),\n",
       " Page('Post-perovskite'),\n",
       " Page('Michigan Molecular Institute'),\n",
       " Page('Education'),\n",
       " Page('Facebook–Cambridge Analytica data scandal'),\n",
       " Page('Abionic'),\n",
       " Page('February 1966'),\n",
       " Page('Comstock Lode'),\n",
       " Page('Syntex'),\n",
       " Page('Cedarcroft, Baltimore'),\n",
       " Page('Energy slave'),\n",
       " Page('Kazan'),\n",
       " Page('History of Pittsburgh'),\n",
       " Page('Advance healthcare directive'),\n",
       " Page('Invasion of Yugoslavia'),\n",
       " Page('List of Arab Americans'),\n",
       " Page('University of Seville'),\n",
       " Page('Martial law'),\n",
       " Page('Forest Stewardship Council'),\n",
       " Page('Cremation'),\n",
       " Page('Otto Hahn'),\n",
       " Page('Autoscopy'),\n",
       " Page('Epidendrum floridense'),\n",
       " Page('Institute of Science and Technology Austria'),\n",
       " Page('IAAF Golden Events'),\n",
       " Page('Rail transport'),\n",
       " Page('Aant Elzinga'),\n",
       " Page('Croatia'),\n",
       " Page('Citizenship of the European Union'),\n",
       " Page('Diving cylinder'),\n",
       " Page('European Parliament'),\n",
       " Page('Muslim world'),\n",
       " Page('Claudia Clopath'),\n",
       " Page('Loveland, Ohio'),\n",
       " Page('École nationale supérieure de chimie et de physique de Bordeaux'),\n",
       " Page('Rina Tannenbaum'),\n",
       " Page('Economic sanctions'),\n",
       " Page('COVID-19 pandemic in Jharkhand'),\n",
       " Page('National Polytechnic Institute of Toulouse'),\n",
       " Page('Incineration'),\n",
       " Page('Khepera mobile robot'),\n",
       " Page('Derwick Associates'),\n",
       " Page('Stéphanie P. Lacour'),\n",
       " Page('European Medal for Bio-Inorganic Chemistry'),\n",
       " Page('List of electric aircraft'),\n",
       " Page('Gertrud Lutz-Fankhauser'),\n",
       " Page('List of Stateside Puerto Ricans')]"
      ]
     },
     "execution_count": 791,
     "metadata": {},
     "output_type": "execute_result"
    }
   ],
   "source": [
    "epfl_pages[:100]"
   ]
  },
  {
   "cell_type": "code",
   "execution_count": 142,
   "metadata": {},
   "outputs": [],
   "source": [
    "def extlink_data(page):\n",
    "    links = [link.split(\"/\", 5)[-1] if \"web.archive.org\" in link else link for link in page.extlinks()]\n",
    "    domains = pd.DataFrame([tldextract.extract(link) for link in links], columns=[\"subdomain\", \"domain\", \"suffix\"])\n",
    "    \n",
    "    try:\n",
    "        domains[\"tld\"] = domains[\"suffix\"].str.split(\".\", expand=False).apply(lambda e : e[-1])\n",
    "        domains[\"site\"] = domains[\"domain\"] + \".\" + domains[\"suffix\"]\n",
    "    except:\n",
    "        pass\n",
    "\n",
    "    sites = domains[\"site\"].value_counts()\n",
    "    tlds = domains[\"tld\"].value_counts()\n",
    "    return page.title(), sites, tlds"
   ]
  },
  {
   "cell_type": "code",
   "execution_count": 143,
   "metadata": {},
   "outputs": [
    {
     "data": {
      "text/plain": [
       "org     16\n",
       "ch      13\n",
       "fr       3\n",
       "com      2\n",
       "edu      2\n",
       "jp       2\n",
       "info     1\n",
       "gov      1\n",
       "cz       1\n",
       "il       1\n",
       "no       1\n",
       "nl       1\n",
       "Name: tld, dtype: int64"
      ]
     },
     "execution_count": 143,
     "metadata": {},
     "output_type": "execute_result"
    }
   ],
   "source": [
    "titles, sites, tlds = extlink_data(page)\n",
    "tlds"
   ]
  },
  {
   "cell_type": "code",
   "execution_count": 129,
   "metadata": {},
   "outputs": [
    {
     "data": {
      "text/plain": [
       "epfl.ch                              5\n",
       "snf.ch                               5\n",
       "acm.org                              2\n",
       "bnf.fr                               2\n",
       "mathgenealogy.org                    1\n",
       "loc.gov                              1\n",
       "waveletsandsubbandcoding.org         1\n",
       "nkp.cz                               1\n",
       "nii.ac.jp                            1\n",
       "foundationsofsignalprocessing.org    1\n",
       "wikidata.org                         1\n",
       "unil.ch                              1\n",
       "mics.org                             1\n",
       "idref.fr                             1\n",
       "sp4comm.org                          1\n",
       "orcid.org                            1\n",
       "worldcat.org                         1\n",
       "researcherid.com                     1\n",
       "nae.edu                              1\n",
       "nli.org.il                           1\n",
       "bibsys.no                            1\n",
       "swtr.ch                              1\n",
       "coursera.org                         1\n",
       "admin.ch                             1\n",
       "dblp.org                             1\n",
       "viaf.org                             1\n",
       "d-nb.info                            1\n",
       "ieee.org                             1\n",
       "class-central.com                    1\n",
       "isni.org                             1\n",
       "bibliotheken.nl                      1\n",
       "nodak.edu                            1\n",
       "fourierandwavelets.org               1\n",
       "ndl.go.jp                            1\n",
       "Name: site, dtype: int64"
      ]
     },
     "execution_count": 129,
     "metadata": {},
     "output_type": "execute_result"
    }
   ],
   "source": [
    "sites"
   ]
  },
  {
   "cell_type": "code",
   "execution_count": 259,
   "metadata": {},
   "outputs": [],
   "source": [
    "temp = epfl_pages[:500]\n",
    "\n",
    "series = np.array([extlink_data(t) for t in temp], dtype=object).transpose()"
   ]
  },
  {
   "cell_type": "code",
   "execution_count": 152,
   "metadata": {},
   "outputs": [
    {
     "ename": "ValueError",
     "evalue": "too many values to unpack (expected 2)",
     "output_type": "error",
     "traceback": [
      "\u001b[1;31m---------------------------------------------------------------------------\u001b[0m",
      "\u001b[1;31mValueError\u001b[0m                                Traceback (most recent call last)",
      "\u001b[1;32m<ipython-input-152-b7ebbc545550>\u001b[0m in \u001b[0;36m<module>\u001b[1;34m\u001b[0m\n\u001b[1;32m----> 1\u001b[1;33m \u001b[0mpd\u001b[0m\u001b[1;33m.\u001b[0m\u001b[0mconcat\u001b[0m\u001b[1;33m(\u001b[0m\u001b[1;33m[\u001b[0m\u001b[0mpd\u001b[0m\u001b[1;33m.\u001b[0m\u001b[0mDataFrame\u001b[0m\u001b[1;33m(\u001b[0m\u001b[0ms\u001b[0m\u001b[1;33m,\u001b[0m \u001b[0mname\u001b[0m\u001b[1;33m=\u001b[0m\u001b[0mt\u001b[0m\u001b[1;33m)\u001b[0m \u001b[1;32mfor\u001b[0m \u001b[0mt\u001b[0m\u001b[1;33m,\u001b[0m \u001b[0ms\u001b[0m \u001b[1;32min\u001b[0m \u001b[0mtuple\u001b[0m\u001b[1;33m(\u001b[0m\u001b[0mseries\u001b[0m\u001b[1;33m[\u001b[0m\u001b[1;36m0\u001b[0m\u001b[1;33m:\u001b[0m\u001b[1;36m2\u001b[0m\u001b[1;33m]\u001b[0m\u001b[1;33m)\u001b[0m\u001b[1;33m]\u001b[0m\u001b[1;33m)\u001b[0m\u001b[1;33m\u001b[0m\u001b[1;33m\u001b[0m\u001b[0m\n\u001b[0m",
      "\u001b[1;32m<ipython-input-152-b7ebbc545550>\u001b[0m in \u001b[0;36m<listcomp>\u001b[1;34m(.0)\u001b[0m\n\u001b[1;32m----> 1\u001b[1;33m \u001b[0mpd\u001b[0m\u001b[1;33m.\u001b[0m\u001b[0mconcat\u001b[0m\u001b[1;33m(\u001b[0m\u001b[1;33m[\u001b[0m\u001b[0mpd\u001b[0m\u001b[1;33m.\u001b[0m\u001b[0mDataFrame\u001b[0m\u001b[1;33m(\u001b[0m\u001b[0ms\u001b[0m\u001b[1;33m,\u001b[0m \u001b[0mname\u001b[0m\u001b[1;33m=\u001b[0m\u001b[0mt\u001b[0m\u001b[1;33m)\u001b[0m \u001b[1;32mfor\u001b[0m \u001b[0mt\u001b[0m\u001b[1;33m,\u001b[0m \u001b[0ms\u001b[0m \u001b[1;32min\u001b[0m \u001b[0mtuple\u001b[0m\u001b[1;33m(\u001b[0m\u001b[0mseries\u001b[0m\u001b[1;33m[\u001b[0m\u001b[1;36m0\u001b[0m\u001b[1;33m:\u001b[0m\u001b[1;36m2\u001b[0m\u001b[1;33m]\u001b[0m\u001b[1;33m)\u001b[0m\u001b[1;33m]\u001b[0m\u001b[1;33m)\u001b[0m\u001b[1;33m\u001b[0m\u001b[1;33m\u001b[0m\u001b[0m\n\u001b[0m",
      "\u001b[1;31mValueError\u001b[0m: too many values to unpack (expected 2)"
     ]
    }
   ],
   "source": [
    "pd.concat([pd.DataFrame(s, name=t) for t, s in tuple(series[0:2])])"
   ]
  },
  {
   "cell_type": "code",
   "execution_count": 260,
   "metadata": {},
   "outputs": [
    {
     "data": {
      "text/html": [
       "<div>\n",
       "<style scoped>\n",
       "    .dataframe tbody tr th:only-of-type {\n",
       "        vertical-align: middle;\n",
       "    }\n",
       "\n",
       "    .dataframe tbody tr th {\n",
       "        vertical-align: top;\n",
       "    }\n",
       "\n",
       "    .dataframe thead th {\n",
       "        text-align: right;\n",
       "    }\n",
       "</style>\n",
       "<table border=\"1\" class=\"dataframe\">\n",
       "  <thead>\n",
       "    <tr style=\"text-align: right;\">\n",
       "      <th></th>\n",
       "      <th>Gebregziabher Gebremariam</th>\n",
       "      <th>GMD SW1200MG</th>\n",
       "      <th>Kava</th>\n",
       "      <th>Pascal Lamy</th>\n",
       "      <th>Cantonal and University Library of Lausanne</th>\n",
       "      <th>Two-wheel tractor</th>\n",
       "      <th>University of Klagenfurt</th>\n",
       "      <th>List of universities and higher education colleges in London</th>\n",
       "      <th>History of YouTube</th>\n",
       "      <th>Deaths in February 2014</th>\n",
       "      <th>...</th>\n",
       "      <th>History of feminism</th>\n",
       "      <th>Vehicle emissions control</th>\n",
       "      <th>Democracy</th>\n",
       "      <th>Colombia–United States relations</th>\n",
       "      <th>Diving cylinder</th>\n",
       "      <th>Florian Müller-Plathe</th>\n",
       "      <th>Phases of Operation Car Wash</th>\n",
       "      <th>CFC</th>\n",
       "      <th>Juan Rivero Torres</th>\n",
       "      <th>Reymond Clavel</th>\n",
       "    </tr>\n",
       "  </thead>\n",
       "  <tbody>\n",
       "    <tr>\n",
       "      <th>iaaf.org</th>\n",
       "      <td>13.0</td>\n",
       "      <td>NaN</td>\n",
       "      <td>NaN</td>\n",
       "      <td>NaN</td>\n",
       "      <td>NaN</td>\n",
       "      <td>NaN</td>\n",
       "      <td>NaN</td>\n",
       "      <td>NaN</td>\n",
       "      <td>NaN</td>\n",
       "      <td>NaN</td>\n",
       "      <td>...</td>\n",
       "      <td>NaN</td>\n",
       "      <td>NaN</td>\n",
       "      <td>NaN</td>\n",
       "      <td>NaN</td>\n",
       "      <td>NaN</td>\n",
       "      <td>NaN</td>\n",
       "      <td>NaN</td>\n",
       "      <td>NaN</td>\n",
       "      <td>NaN</td>\n",
       "      <td>NaN</td>\n",
       "    </tr>\n",
       "    <tr>\n",
       "      <th>ingnycmarathon.org</th>\n",
       "      <td>2.0</td>\n",
       "      <td>NaN</td>\n",
       "      <td>NaN</td>\n",
       "      <td>NaN</td>\n",
       "      <td>NaN</td>\n",
       "      <td>NaN</td>\n",
       "      <td>NaN</td>\n",
       "      <td>NaN</td>\n",
       "      <td>NaN</td>\n",
       "      <td>NaN</td>\n",
       "      <td>...</td>\n",
       "      <td>NaN</td>\n",
       "      <td>NaN</td>\n",
       "      <td>NaN</td>\n",
       "      <td>NaN</td>\n",
       "      <td>NaN</td>\n",
       "      <td>NaN</td>\n",
       "      <td>NaN</td>\n",
       "      <td>NaN</td>\n",
       "      <td>NaN</td>\n",
       "      <td>NaN</td>\n",
       "    </tr>\n",
       "    <tr>\n",
       "      <th>facebook.com</th>\n",
       "      <td>1.0</td>\n",
       "      <td>NaN</td>\n",
       "      <td>NaN</td>\n",
       "      <td>NaN</td>\n",
       "      <td>NaN</td>\n",
       "      <td>NaN</td>\n",
       "      <td>NaN</td>\n",
       "      <td>NaN</td>\n",
       "      <td>NaN</td>\n",
       "      <td>NaN</td>\n",
       "      <td>...</td>\n",
       "      <td>NaN</td>\n",
       "      <td>NaN</td>\n",
       "      <td>NaN</td>\n",
       "      <td>NaN</td>\n",
       "      <td>NaN</td>\n",
       "      <td>NaN</td>\n",
       "      <td>NaN</td>\n",
       "      <td>NaN</td>\n",
       "      <td>NaN</td>\n",
       "      <td>NaN</td>\n",
       "    </tr>\n",
       "    <tr>\n",
       "      <th>worldathletics.org</th>\n",
       "      <td>1.0</td>\n",
       "      <td>NaN</td>\n",
       "      <td>NaN</td>\n",
       "      <td>NaN</td>\n",
       "      <td>NaN</td>\n",
       "      <td>NaN</td>\n",
       "      <td>NaN</td>\n",
       "      <td>NaN</td>\n",
       "      <td>NaN</td>\n",
       "      <td>NaN</td>\n",
       "      <td>...</td>\n",
       "      <td>NaN</td>\n",
       "      <td>NaN</td>\n",
       "      <td>NaN</td>\n",
       "      <td>NaN</td>\n",
       "      <td>NaN</td>\n",
       "      <td>NaN</td>\n",
       "      <td>NaN</td>\n",
       "      <td>NaN</td>\n",
       "      <td>NaN</td>\n",
       "      <td>NaN</td>\n",
       "    </tr>\n",
       "    <tr>\n",
       "      <th>bbc.co.uk</th>\n",
       "      <td>1.0</td>\n",
       "      <td>NaN</td>\n",
       "      <td>NaN</td>\n",
       "      <td>NaN</td>\n",
       "      <td>NaN</td>\n",
       "      <td>NaN</td>\n",
       "      <td>NaN</td>\n",
       "      <td>NaN</td>\n",
       "      <td>5.0</td>\n",
       "      <td>9.0</td>\n",
       "      <td>...</td>\n",
       "      <td>1.0</td>\n",
       "      <td>1.0</td>\n",
       "      <td>5.0</td>\n",
       "      <td>NaN</td>\n",
       "      <td>NaN</td>\n",
       "      <td>NaN</td>\n",
       "      <td>NaN</td>\n",
       "      <td>NaN</td>\n",
       "      <td>NaN</td>\n",
       "      <td>NaN</td>\n",
       "    </tr>\n",
       "    <tr>\n",
       "      <th>...</th>\n",
       "      <td>...</td>\n",
       "      <td>...</td>\n",
       "      <td>...</td>\n",
       "      <td>...</td>\n",
       "      <td>...</td>\n",
       "      <td>...</td>\n",
       "      <td>...</td>\n",
       "      <td>...</td>\n",
       "      <td>...</td>\n",
       "      <td>...</td>\n",
       "      <td>...</td>\n",
       "      <td>...</td>\n",
       "      <td>...</td>\n",
       "      <td>...</td>\n",
       "      <td>...</td>\n",
       "      <td>...</td>\n",
       "      <td>...</td>\n",
       "      <td>...</td>\n",
       "      <td>...</td>\n",
       "      <td>...</td>\n",
       "      <td>...</td>\n",
       "    </tr>\n",
       "    <tr>\n",
       "      <th>global-regulation.com</th>\n",
       "      <td>NaN</td>\n",
       "      <td>NaN</td>\n",
       "      <td>NaN</td>\n",
       "      <td>NaN</td>\n",
       "      <td>NaN</td>\n",
       "      <td>NaN</td>\n",
       "      <td>NaN</td>\n",
       "      <td>NaN</td>\n",
       "      <td>NaN</td>\n",
       "      <td>NaN</td>\n",
       "      <td>...</td>\n",
       "      <td>NaN</td>\n",
       "      <td>NaN</td>\n",
       "      <td>NaN</td>\n",
       "      <td>NaN</td>\n",
       "      <td>NaN</td>\n",
       "      <td>NaN</td>\n",
       "      <td>1.0</td>\n",
       "      <td>NaN</td>\n",
       "      <td>NaN</td>\n",
       "      <td>NaN</td>\n",
       "    </tr>\n",
       "    <tr>\n",
       "      <th>blogdoeliomar.com.br</th>\n",
       "      <td>NaN</td>\n",
       "      <td>NaN</td>\n",
       "      <td>NaN</td>\n",
       "      <td>NaN</td>\n",
       "      <td>NaN</td>\n",
       "      <td>NaN</td>\n",
       "      <td>NaN</td>\n",
       "      <td>NaN</td>\n",
       "      <td>NaN</td>\n",
       "      <td>NaN</td>\n",
       "      <td>...</td>\n",
       "      <td>NaN</td>\n",
       "      <td>NaN</td>\n",
       "      <td>NaN</td>\n",
       "      <td>NaN</td>\n",
       "      <td>NaN</td>\n",
       "      <td>NaN</td>\n",
       "      <td>1.0</td>\n",
       "      <td>NaN</td>\n",
       "      <td>NaN</td>\n",
       "      <td>NaN</td>\n",
       "    </tr>\n",
       "    <tr>\n",
       "      <th>globalhealthrights.org</th>\n",
       "      <td>NaN</td>\n",
       "      <td>NaN</td>\n",
       "      <td>NaN</td>\n",
       "      <td>NaN</td>\n",
       "      <td>NaN</td>\n",
       "      <td>NaN</td>\n",
       "      <td>NaN</td>\n",
       "      <td>NaN</td>\n",
       "      <td>NaN</td>\n",
       "      <td>NaN</td>\n",
       "      <td>...</td>\n",
       "      <td>NaN</td>\n",
       "      <td>NaN</td>\n",
       "      <td>NaN</td>\n",
       "      <td>NaN</td>\n",
       "      <td>NaN</td>\n",
       "      <td>NaN</td>\n",
       "      <td>1.0</td>\n",
       "      <td>NaN</td>\n",
       "      <td>NaN</td>\n",
       "      <td>NaN</td>\n",
       "    </tr>\n",
       "    <tr>\n",
       "      <th>globalnegotiator.com</th>\n",
       "      <td>NaN</td>\n",
       "      <td>NaN</td>\n",
       "      <td>NaN</td>\n",
       "      <td>NaN</td>\n",
       "      <td>NaN</td>\n",
       "      <td>NaN</td>\n",
       "      <td>NaN</td>\n",
       "      <td>NaN</td>\n",
       "      <td>NaN</td>\n",
       "      <td>NaN</td>\n",
       "      <td>...</td>\n",
       "      <td>NaN</td>\n",
       "      <td>NaN</td>\n",
       "      <td>NaN</td>\n",
       "      <td>NaN</td>\n",
       "      <td>NaN</td>\n",
       "      <td>NaN</td>\n",
       "      <td>1.0</td>\n",
       "      <td>NaN</td>\n",
       "      <td>NaN</td>\n",
       "      <td>NaN</td>\n",
       "    </tr>\n",
       "    <tr>\n",
       "      <th>parallemic.org</th>\n",
       "      <td>NaN</td>\n",
       "      <td>NaN</td>\n",
       "      <td>NaN</td>\n",
       "      <td>NaN</td>\n",
       "      <td>NaN</td>\n",
       "      <td>NaN</td>\n",
       "      <td>NaN</td>\n",
       "      <td>NaN</td>\n",
       "      <td>NaN</td>\n",
       "      <td>NaN</td>\n",
       "      <td>...</td>\n",
       "      <td>NaN</td>\n",
       "      <td>NaN</td>\n",
       "      <td>NaN</td>\n",
       "      <td>NaN</td>\n",
       "      <td>NaN</td>\n",
       "      <td>NaN</td>\n",
       "      <td>NaN</td>\n",
       "      <td>NaN</td>\n",
       "      <td>NaN</td>\n",
       "      <td>1.0</td>\n",
       "    </tr>\n",
       "  </tbody>\n",
       "</table>\n",
       "<p>12804 rows × 500 columns</p>\n",
       "</div>"
      ],
      "text/plain": [
       "                        Gebregziabher Gebremariam  GMD SW1200MG  Kava  \\\n",
       "iaaf.org                                     13.0           NaN   NaN   \n",
       "ingnycmarathon.org                            2.0           NaN   NaN   \n",
       "facebook.com                                  1.0           NaN   NaN   \n",
       "worldathletics.org                            1.0           NaN   NaN   \n",
       "bbc.co.uk                                     1.0           NaN   NaN   \n",
       "...                                           ...           ...   ...   \n",
       "global-regulation.com                         NaN           NaN   NaN   \n",
       "blogdoeliomar.com.br                          NaN           NaN   NaN   \n",
       "globalhealthrights.org                        NaN           NaN   NaN   \n",
       "globalnegotiator.com                          NaN           NaN   NaN   \n",
       "parallemic.org                                NaN           NaN   NaN   \n",
       "\n",
       "                        Pascal Lamy  \\\n",
       "iaaf.org                        NaN   \n",
       "ingnycmarathon.org              NaN   \n",
       "facebook.com                    NaN   \n",
       "worldathletics.org              NaN   \n",
       "bbc.co.uk                       NaN   \n",
       "...                             ...   \n",
       "global-regulation.com           NaN   \n",
       "blogdoeliomar.com.br            NaN   \n",
       "globalhealthrights.org          NaN   \n",
       "globalnegotiator.com            NaN   \n",
       "parallemic.org                  NaN   \n",
       "\n",
       "                        Cantonal and University Library of Lausanne  \\\n",
       "iaaf.org                                                        NaN   \n",
       "ingnycmarathon.org                                              NaN   \n",
       "facebook.com                                                    NaN   \n",
       "worldathletics.org                                              NaN   \n",
       "bbc.co.uk                                                       NaN   \n",
       "...                                                             ...   \n",
       "global-regulation.com                                           NaN   \n",
       "blogdoeliomar.com.br                                            NaN   \n",
       "globalhealthrights.org                                          NaN   \n",
       "globalnegotiator.com                                            NaN   \n",
       "parallemic.org                                                  NaN   \n",
       "\n",
       "                        Two-wheel tractor  University of Klagenfurt  \\\n",
       "iaaf.org                              NaN                       NaN   \n",
       "ingnycmarathon.org                    NaN                       NaN   \n",
       "facebook.com                          NaN                       NaN   \n",
       "worldathletics.org                    NaN                       NaN   \n",
       "bbc.co.uk                             NaN                       NaN   \n",
       "...                                   ...                       ...   \n",
       "global-regulation.com                 NaN                       NaN   \n",
       "blogdoeliomar.com.br                  NaN                       NaN   \n",
       "globalhealthrights.org                NaN                       NaN   \n",
       "globalnegotiator.com                  NaN                       NaN   \n",
       "parallemic.org                        NaN                       NaN   \n",
       "\n",
       "                        List of universities and higher education colleges in London  \\\n",
       "iaaf.org                                                              NaN              \n",
       "ingnycmarathon.org                                                    NaN              \n",
       "facebook.com                                                          NaN              \n",
       "worldathletics.org                                                    NaN              \n",
       "bbc.co.uk                                                             NaN              \n",
       "...                                                                   ...              \n",
       "global-regulation.com                                                 NaN              \n",
       "blogdoeliomar.com.br                                                  NaN              \n",
       "globalhealthrights.org                                                NaN              \n",
       "globalnegotiator.com                                                  NaN              \n",
       "parallemic.org                                                        NaN              \n",
       "\n",
       "                        History of YouTube  Deaths in February 2014  ...  \\\n",
       "iaaf.org                               NaN                      NaN  ...   \n",
       "ingnycmarathon.org                     NaN                      NaN  ...   \n",
       "facebook.com                           NaN                      NaN  ...   \n",
       "worldathletics.org                     NaN                      NaN  ...   \n",
       "bbc.co.uk                              5.0                      9.0  ...   \n",
       "...                                    ...                      ...  ...   \n",
       "global-regulation.com                  NaN                      NaN  ...   \n",
       "blogdoeliomar.com.br                   NaN                      NaN  ...   \n",
       "globalhealthrights.org                 NaN                      NaN  ...   \n",
       "globalnegotiator.com                   NaN                      NaN  ...   \n",
       "parallemic.org                         NaN                      NaN  ...   \n",
       "\n",
       "                        History of feminism  Vehicle emissions control  \\\n",
       "iaaf.org                                NaN                        NaN   \n",
       "ingnycmarathon.org                      NaN                        NaN   \n",
       "facebook.com                            NaN                        NaN   \n",
       "worldathletics.org                      NaN                        NaN   \n",
       "bbc.co.uk                               1.0                        1.0   \n",
       "...                                     ...                        ...   \n",
       "global-regulation.com                   NaN                        NaN   \n",
       "blogdoeliomar.com.br                    NaN                        NaN   \n",
       "globalhealthrights.org                  NaN                        NaN   \n",
       "globalnegotiator.com                    NaN                        NaN   \n",
       "parallemic.org                          NaN                        NaN   \n",
       "\n",
       "                        Democracy  Colombia–United States relations  \\\n",
       "iaaf.org                      NaN                               NaN   \n",
       "ingnycmarathon.org            NaN                               NaN   \n",
       "facebook.com                  NaN                               NaN   \n",
       "worldathletics.org            NaN                               NaN   \n",
       "bbc.co.uk                     5.0                               NaN   \n",
       "...                           ...                               ...   \n",
       "global-regulation.com         NaN                               NaN   \n",
       "blogdoeliomar.com.br          NaN                               NaN   \n",
       "globalhealthrights.org        NaN                               NaN   \n",
       "globalnegotiator.com          NaN                               NaN   \n",
       "parallemic.org                NaN                               NaN   \n",
       "\n",
       "                        Diving cylinder  Florian Müller-Plathe  \\\n",
       "iaaf.org                            NaN                    NaN   \n",
       "ingnycmarathon.org                  NaN                    NaN   \n",
       "facebook.com                        NaN                    NaN   \n",
       "worldathletics.org                  NaN                    NaN   \n",
       "bbc.co.uk                           NaN                    NaN   \n",
       "...                                 ...                    ...   \n",
       "global-regulation.com               NaN                    NaN   \n",
       "blogdoeliomar.com.br                NaN                    NaN   \n",
       "globalhealthrights.org              NaN                    NaN   \n",
       "globalnegotiator.com                NaN                    NaN   \n",
       "parallemic.org                      NaN                    NaN   \n",
       "\n",
       "                        Phases of Operation Car Wash  CFC  Juan Rivero Torres  \\\n",
       "iaaf.org                                         NaN  NaN                 NaN   \n",
       "ingnycmarathon.org                               NaN  NaN                 NaN   \n",
       "facebook.com                                     NaN  NaN                 NaN   \n",
       "worldathletics.org                               NaN  NaN                 NaN   \n",
       "bbc.co.uk                                        NaN  NaN                 NaN   \n",
       "...                                              ...  ...                 ...   \n",
       "global-regulation.com                            1.0  NaN                 NaN   \n",
       "blogdoeliomar.com.br                             1.0  NaN                 NaN   \n",
       "globalhealthrights.org                           1.0  NaN                 NaN   \n",
       "globalnegotiator.com                             1.0  NaN                 NaN   \n",
       "parallemic.org                                   NaN  NaN                 NaN   \n",
       "\n",
       "                        Reymond Clavel  \n",
       "iaaf.org                           NaN  \n",
       "ingnycmarathon.org                 NaN  \n",
       "facebook.com                       NaN  \n",
       "worldathletics.org                 NaN  \n",
       "bbc.co.uk                          NaN  \n",
       "...                                ...  \n",
       "global-regulation.com              NaN  \n",
       "blogdoeliomar.com.br               NaN  \n",
       "globalhealthrights.org             NaN  \n",
       "globalnegotiator.com               NaN  \n",
       "parallemic.org                     1.0  \n",
       "\n",
       "[12804 rows x 500 columns]"
      ]
     },
     "execution_count": 260,
     "metadata": {},
     "output_type": "execute_result"
    }
   ],
   "source": [
    "refs = pd.concat(series[1], axis=1, keys=series[0])\n",
    "refs"
   ]
  },
  {
   "cell_type": "code",
   "execution_count": 273,
   "metadata": {},
   "outputs": [
    {
     "data": {
      "text/plain": [
       "bbc.co.uk               626.0\n",
       "google.com             2265.0\n",
       "nih.gov                1525.0\n",
       "doi.org                2438.0\n",
       "semanticscholar.org     679.0\n",
       "worldcat.org            906.0\n",
       "nytimes.com            1210.0\n",
       "archive.org             850.0\n",
       "theguardian.com         614.0\n",
       "dtype: float64"
      ]
     },
     "execution_count": 273,
     "metadata": {},
     "output_type": "execute_result"
    }
   ],
   "source": [
    "ref_sum = refs.sum(axis=1)\n",
    "ref_sum[ref_sum > 600]"
   ]
  },
  {
   "cell_type": "code",
   "execution_count": 262,
   "metadata": {},
   "outputs": [
    {
     "data": {
      "text/plain": [
       "iaaf.org                    6\n",
       "ingnycmarathon.org          1\n",
       "facebook.com               17\n",
       "worldathletics.org          5\n",
       "bbc.co.uk                 135\n",
       "                         ... \n",
       "global-regulation.com       1\n",
       "blogdoeliomar.com.br        1\n",
       "globalhealthrights.org      1\n",
       "globalnegotiator.com        1\n",
       "parallemic.org              1\n",
       "Length: 12804, dtype: int64"
      ]
     },
     "execution_count": 262,
     "metadata": {},
     "output_type": "execute_result"
    }
   ],
   "source": [
    "ref_cnt = refs.count(axis=1)\n",
    "ref_cnt"
   ]
  },
  {
   "cell_type": "code",
   "execution_count": 400,
   "metadata": {},
   "outputs": [
    {
     "data": {
      "image/png": "[encoded data removed]",
      "text/plain": [
       "<Figure size 648x432 with 1 Axes>"
      ]
     },
     "metadata": {
      "needs_background": "light"
     },
     "output_type": "display_data"
    }
   ],
   "source": [
    "ax = plt.scatter(ref_sum, ref_cnt).axes\n",
    "ax.set_title(\"Scatterplot of domain repartition and frequency\")\n",
    "ax.set_xlabel(\"Number of occurences\")\n",
    "ax.set_ylabel(\"Number of pages\")\n",
    "fig = plt.gcf()\n",
    "fig.set_size_inches((9, 6))\n",
    "x_vals = np.linspace(0, 300)\n",
    "ax.plot(x_vals, x_vals)\n",
    "ax.annotate(\"y = x\", (320, 280))\n",
    "for t in [\"epfl.ch\", \"unil.ch\", \"bbc.co.uk\", \"google.com\", \"nytimes.com\"]:\n",
    "    ax.scatter(ref_sum[t], ref_cnt[t], color=\"orange\")\n",
    "    ax.annotate(t, (ref_sum[t]+50, ref_cnt[t]+5), color=\"orange\", bbox=dict(facecolor='white', boxstyle=\"round,pad=0.3\"))\n",
    "ax.figure.savefig(os.path.join(im_path, \"domains.png\"))"
   ]
  },
  {
   "cell_type": "code",
   "execution_count": 264,
   "metadata": {},
   "outputs": [
    {
     "data": {
      "text/html": [
       "<div>\n",
       "<style scoped>\n",
       "    .dataframe tbody tr th:only-of-type {\n",
       "        vertical-align: middle;\n",
       "    }\n",
       "\n",
       "    .dataframe tbody tr th {\n",
       "        vertical-align: top;\n",
       "    }\n",
       "\n",
       "    .dataframe thead th {\n",
       "        text-align: right;\n",
       "    }\n",
       "</style>\n",
       "<table border=\"1\" class=\"dataframe\">\n",
       "  <thead>\n",
       "    <tr style=\"text-align: right;\">\n",
       "      <th></th>\n",
       "      <th>Gebregziabher Gebremariam</th>\n",
       "      <th>GMD SW1200MG</th>\n",
       "      <th>Kava</th>\n",
       "      <th>Pascal Lamy</th>\n",
       "      <th>Cantonal and University Library of Lausanne</th>\n",
       "      <th>Two-wheel tractor</th>\n",
       "      <th>University of Klagenfurt</th>\n",
       "      <th>List of universities and higher education colleges in London</th>\n",
       "      <th>History of YouTube</th>\n",
       "      <th>Deaths in February 2014</th>\n",
       "      <th>...</th>\n",
       "      <th>History of feminism</th>\n",
       "      <th>Vehicle emissions control</th>\n",
       "      <th>Democracy</th>\n",
       "      <th>Colombia–United States relations</th>\n",
       "      <th>Diving cylinder</th>\n",
       "      <th>Florian Müller-Plathe</th>\n",
       "      <th>Phases of Operation Car Wash</th>\n",
       "      <th>CFC</th>\n",
       "      <th>Juan Rivero Torres</th>\n",
       "      <th>Reymond Clavel</th>\n",
       "    </tr>\n",
       "  </thead>\n",
       "  <tbody>\n",
       "    <tr>\n",
       "      <th>org</th>\n",
       "      <td>17.0</td>\n",
       "      <td>1.0</td>\n",
       "      <td>106.0</td>\n",
       "      <td>21.0</td>\n",
       "      <td>6.0</td>\n",
       "      <td>9.0</td>\n",
       "      <td>5.0</td>\n",
       "      <td>2.0</td>\n",
       "      <td>5.0</td>\n",
       "      <td>31.0</td>\n",
       "      <td>...</td>\n",
       "      <td>93.0</td>\n",
       "      <td>5.0</td>\n",
       "      <td>94.0</td>\n",
       "      <td>37.0</td>\n",
       "      <td>23.0</td>\n",
       "      <td>4.0</td>\n",
       "      <td>4.0</td>\n",
       "      <td>NaN</td>\n",
       "      <td>NaN</td>\n",
       "      <td>5.0</td>\n",
       "    </tr>\n",
       "    <tr>\n",
       "      <th>com</th>\n",
       "      <td>2.0</td>\n",
       "      <td>5.0</td>\n",
       "      <td>16.0</td>\n",
       "      <td>4.0</td>\n",
       "      <td>3.0</td>\n",
       "      <td>21.0</td>\n",
       "      <td>10.0</td>\n",
       "      <td>7.0</td>\n",
       "      <td>119.0</td>\n",
       "      <td>377.0</td>\n",
       "      <td>...</td>\n",
       "      <td>29.0</td>\n",
       "      <td>9.0</td>\n",
       "      <td>55.0</td>\n",
       "      <td>19.0</td>\n",
       "      <td>58.0</td>\n",
       "      <td>5.0</td>\n",
       "      <td>107.0</td>\n",
       "      <td>NaN</td>\n",
       "      <td>2.0</td>\n",
       "      <td>NaN</td>\n",
       "    </tr>\n",
       "    <tr>\n",
       "      <th>uk</th>\n",
       "      <td>1.0</td>\n",
       "      <td>NaN</td>\n",
       "      <td>1.0</td>\n",
       "      <td>NaN</td>\n",
       "      <td>NaN</td>\n",
       "      <td>1.0</td>\n",
       "      <td>NaN</td>\n",
       "      <td>11.0</td>\n",
       "      <td>14.0</td>\n",
       "      <td>59.0</td>\n",
       "      <td>...</td>\n",
       "      <td>13.0</td>\n",
       "      <td>1.0</td>\n",
       "      <td>26.0</td>\n",
       "      <td>NaN</td>\n",
       "      <td>6.0</td>\n",
       "      <td>NaN</td>\n",
       "      <td>NaN</td>\n",
       "      <td>NaN</td>\n",
       "      <td>NaN</td>\n",
       "      <td>NaN</td>\n",
       "    </tr>\n",
       "    <tr>\n",
       "      <th>cn</th>\n",
       "      <td>1.0</td>\n",
       "      <td>NaN</td>\n",
       "      <td>NaN</td>\n",
       "      <td>NaN</td>\n",
       "      <td>NaN</td>\n",
       "      <td>NaN</td>\n",
       "      <td>NaN</td>\n",
       "      <td>NaN</td>\n",
       "      <td>NaN</td>\n",
       "      <td>NaN</td>\n",
       "      <td>...</td>\n",
       "      <td>NaN</td>\n",
       "      <td>NaN</td>\n",
       "      <td>NaN</td>\n",
       "      <td>NaN</td>\n",
       "      <td>NaN</td>\n",
       "      <td>NaN</td>\n",
       "      <td>NaN</td>\n",
       "      <td>NaN</td>\n",
       "      <td>NaN</td>\n",
       "      <td>NaN</td>\n",
       "    </tr>\n",
       "    <tr>\n",
       "      <th>ca</th>\n",
       "      <td>NaN</td>\n",
       "      <td>1.0</td>\n",
       "      <td>4.0</td>\n",
       "      <td>1.0</td>\n",
       "      <td>NaN</td>\n",
       "      <td>NaN</td>\n",
       "      <td>NaN</td>\n",
       "      <td>NaN</td>\n",
       "      <td>NaN</td>\n",
       "      <td>2.0</td>\n",
       "      <td>...</td>\n",
       "      <td>1.0</td>\n",
       "      <td>NaN</td>\n",
       "      <td>NaN</td>\n",
       "      <td>NaN</td>\n",
       "      <td>1.0</td>\n",
       "      <td>NaN</td>\n",
       "      <td>NaN</td>\n",
       "      <td>NaN</td>\n",
       "      <td>NaN</td>\n",
       "      <td>NaN</td>\n",
       "    </tr>\n",
       "    <tr>\n",
       "      <th>...</th>\n",
       "      <td>...</td>\n",
       "      <td>...</td>\n",
       "      <td>...</td>\n",
       "      <td>...</td>\n",
       "      <td>...</td>\n",
       "      <td>...</td>\n",
       "      <td>...</td>\n",
       "      <td>...</td>\n",
       "      <td>...</td>\n",
       "      <td>...</td>\n",
       "      <td>...</td>\n",
       "      <td>...</td>\n",
       "      <td>...</td>\n",
       "      <td>...</td>\n",
       "      <td>...</td>\n",
       "      <td>...</td>\n",
       "      <td>...</td>\n",
       "      <td>...</td>\n",
       "      <td>...</td>\n",
       "      <td>...</td>\n",
       "      <td>...</td>\n",
       "    </tr>\n",
       "    <tr>\n",
       "      <th>tj</th>\n",
       "      <td>NaN</td>\n",
       "      <td>NaN</td>\n",
       "      <td>NaN</td>\n",
       "      <td>NaN</td>\n",
       "      <td>NaN</td>\n",
       "      <td>NaN</td>\n",
       "      <td>NaN</td>\n",
       "      <td>NaN</td>\n",
       "      <td>NaN</td>\n",
       "      <td>NaN</td>\n",
       "      <td>...</td>\n",
       "      <td>NaN</td>\n",
       "      <td>NaN</td>\n",
       "      <td>NaN</td>\n",
       "      <td>NaN</td>\n",
       "      <td>NaN</td>\n",
       "      <td>NaN</td>\n",
       "      <td>NaN</td>\n",
       "      <td>NaN</td>\n",
       "      <td>NaN</td>\n",
       "      <td>NaN</td>\n",
       "    </tr>\n",
       "    <tr>\n",
       "      <th>mobi</th>\n",
       "      <td>NaN</td>\n",
       "      <td>NaN</td>\n",
       "      <td>NaN</td>\n",
       "      <td>NaN</td>\n",
       "      <td>NaN</td>\n",
       "      <td>NaN</td>\n",
       "      <td>NaN</td>\n",
       "      <td>NaN</td>\n",
       "      <td>NaN</td>\n",
       "      <td>NaN</td>\n",
       "      <td>...</td>\n",
       "      <td>NaN</td>\n",
       "      <td>NaN</td>\n",
       "      <td>NaN</td>\n",
       "      <td>NaN</td>\n",
       "      <td>NaN</td>\n",
       "      <td>NaN</td>\n",
       "      <td>NaN</td>\n",
       "      <td>NaN</td>\n",
       "      <td>NaN</td>\n",
       "      <td>NaN</td>\n",
       "    </tr>\n",
       "    <tr>\n",
       "      <th>to</th>\n",
       "      <td>NaN</td>\n",
       "      <td>NaN</td>\n",
       "      <td>NaN</td>\n",
       "      <td>NaN</td>\n",
       "      <td>NaN</td>\n",
       "      <td>NaN</td>\n",
       "      <td>NaN</td>\n",
       "      <td>NaN</td>\n",
       "      <td>NaN</td>\n",
       "      <td>NaN</td>\n",
       "      <td>...</td>\n",
       "      <td>NaN</td>\n",
       "      <td>NaN</td>\n",
       "      <td>NaN</td>\n",
       "      <td>NaN</td>\n",
       "      <td>NaN</td>\n",
       "      <td>NaN</td>\n",
       "      <td>NaN</td>\n",
       "      <td>NaN</td>\n",
       "      <td>NaN</td>\n",
       "      <td>NaN</td>\n",
       "    </tr>\n",
       "    <tr>\n",
       "      <th>city</th>\n",
       "      <td>NaN</td>\n",
       "      <td>NaN</td>\n",
       "      <td>NaN</td>\n",
       "      <td>NaN</td>\n",
       "      <td>NaN</td>\n",
       "      <td>NaN</td>\n",
       "      <td>NaN</td>\n",
       "      <td>NaN</td>\n",
       "      <td>NaN</td>\n",
       "      <td>NaN</td>\n",
       "      <td>...</td>\n",
       "      <td>NaN</td>\n",
       "      <td>NaN</td>\n",
       "      <td>NaN</td>\n",
       "      <td>NaN</td>\n",
       "      <td>NaN</td>\n",
       "      <td>NaN</td>\n",
       "      <td>NaN</td>\n",
       "      <td>NaN</td>\n",
       "      <td>NaN</td>\n",
       "      <td>NaN</td>\n",
       "    </tr>\n",
       "    <tr>\n",
       "      <th>solar</th>\n",
       "      <td>NaN</td>\n",
       "      <td>NaN</td>\n",
       "      <td>NaN</td>\n",
       "      <td>NaN</td>\n",
       "      <td>NaN</td>\n",
       "      <td>NaN</td>\n",
       "      <td>NaN</td>\n",
       "      <td>NaN</td>\n",
       "      <td>NaN</td>\n",
       "      <td>NaN</td>\n",
       "      <td>...</td>\n",
       "      <td>NaN</td>\n",
       "      <td>NaN</td>\n",
       "      <td>NaN</td>\n",
       "      <td>NaN</td>\n",
       "      <td>NaN</td>\n",
       "      <td>NaN</td>\n",
       "      <td>NaN</td>\n",
       "      <td>NaN</td>\n",
       "      <td>NaN</td>\n",
       "      <td>NaN</td>\n",
       "    </tr>\n",
       "  </tbody>\n",
       "</table>\n",
       "<p>205 rows × 500 columns</p>\n",
       "</div>"
      ],
      "text/plain": [
       "       Gebregziabher Gebremariam  GMD SW1200MG   Kava  Pascal Lamy  \\\n",
       "org                         17.0           1.0  106.0         21.0   \n",
       "com                          2.0           5.0   16.0          4.0   \n",
       "uk                           1.0           NaN    1.0          NaN   \n",
       "cn                           1.0           NaN    NaN          NaN   \n",
       "ca                           NaN           1.0    4.0          1.0   \n",
       "...                          ...           ...    ...          ...   \n",
       "tj                           NaN           NaN    NaN          NaN   \n",
       "mobi                         NaN           NaN    NaN          NaN   \n",
       "to                           NaN           NaN    NaN          NaN   \n",
       "city                         NaN           NaN    NaN          NaN   \n",
       "solar                        NaN           NaN    NaN          NaN   \n",
       "\n",
       "       Cantonal and University Library of Lausanne  Two-wheel tractor  \\\n",
       "org                                            6.0                9.0   \n",
       "com                                            3.0               21.0   \n",
       "uk                                             NaN                1.0   \n",
       "cn                                             NaN                NaN   \n",
       "ca                                             NaN                NaN   \n",
       "...                                            ...                ...   \n",
       "tj                                             NaN                NaN   \n",
       "mobi                                           NaN                NaN   \n",
       "to                                             NaN                NaN   \n",
       "city                                           NaN                NaN   \n",
       "solar                                          NaN                NaN   \n",
       "\n",
       "       University of Klagenfurt  \\\n",
       "org                         5.0   \n",
       "com                        10.0   \n",
       "uk                          NaN   \n",
       "cn                          NaN   \n",
       "ca                          NaN   \n",
       "...                         ...   \n",
       "tj                          NaN   \n",
       "mobi                        NaN   \n",
       "to                          NaN   \n",
       "city                        NaN   \n",
       "solar                       NaN   \n",
       "\n",
       "       List of universities and higher education colleges in London  \\\n",
       "org                                                  2.0              \n",
       "com                                                  7.0              \n",
       "uk                                                  11.0              \n",
       "cn                                                   NaN              \n",
       "ca                                                   NaN              \n",
       "...                                                  ...              \n",
       "tj                                                   NaN              \n",
       "mobi                                                 NaN              \n",
       "to                                                   NaN              \n",
       "city                                                 NaN              \n",
       "solar                                                NaN              \n",
       "\n",
       "       History of YouTube  Deaths in February 2014  ...  History of feminism  \\\n",
       "org                   5.0                     31.0  ...                 93.0   \n",
       "com                 119.0                    377.0  ...                 29.0   \n",
       "uk                   14.0                     59.0  ...                 13.0   \n",
       "cn                    NaN                      NaN  ...                  NaN   \n",
       "ca                    NaN                      2.0  ...                  1.0   \n",
       "...                   ...                      ...  ...                  ...   \n",
       "tj                    NaN                      NaN  ...                  NaN   \n",
       "mobi                  NaN                      NaN  ...                  NaN   \n",
       "to                    NaN                      NaN  ...                  NaN   \n",
       "city                  NaN                      NaN  ...                  NaN   \n",
       "solar                 NaN                      NaN  ...                  NaN   \n",
       "\n",
       "       Vehicle emissions control  Democracy  Colombia–United States relations  \\\n",
       "org                          5.0       94.0                              37.0   \n",
       "com                          9.0       55.0                              19.0   \n",
       "uk                           1.0       26.0                               NaN   \n",
       "cn                           NaN        NaN                               NaN   \n",
       "ca                           NaN        NaN                               NaN   \n",
       "...                          ...        ...                               ...   \n",
       "tj                           NaN        NaN                               NaN   \n",
       "mobi                         NaN        NaN                               NaN   \n",
       "to                           NaN        NaN                               NaN   \n",
       "city                         NaN        NaN                               NaN   \n",
       "solar                        NaN        NaN                               NaN   \n",
       "\n",
       "       Diving cylinder  Florian Müller-Plathe  Phases of Operation Car Wash  \\\n",
       "org               23.0                    4.0                           4.0   \n",
       "com               58.0                    5.0                         107.0   \n",
       "uk                 6.0                    NaN                           NaN   \n",
       "cn                 NaN                    NaN                           NaN   \n",
       "ca                 1.0                    NaN                           NaN   \n",
       "...                ...                    ...                           ...   \n",
       "tj                 NaN                    NaN                           NaN   \n",
       "mobi               NaN                    NaN                           NaN   \n",
       "to                 NaN                    NaN                           NaN   \n",
       "city               NaN                    NaN                           NaN   \n",
       "solar              NaN                    NaN                           NaN   \n",
       "\n",
       "       CFC  Juan Rivero Torres  Reymond Clavel  \n",
       "org    NaN                 NaN             5.0  \n",
       "com    NaN                 2.0             NaN  \n",
       "uk     NaN                 NaN             NaN  \n",
       "cn     NaN                 NaN             NaN  \n",
       "ca     NaN                 NaN             NaN  \n",
       "...    ...                 ...             ...  \n",
       "tj     NaN                 NaN             NaN  \n",
       "mobi   NaN                 NaN             NaN  \n",
       "to     NaN                 NaN             NaN  \n",
       "city   NaN                 NaN             NaN  \n",
       "solar  NaN                 NaN             NaN  \n",
       "\n",
       "[205 rows x 500 columns]"
      ]
     },
     "execution_count": 264,
     "metadata": {},
     "output_type": "execute_result"
    }
   ],
   "source": [
    "refs_tld = pd.concat(series[2], axis=1, keys=series[0])\n",
    "refs_tld"
   ]
  },
  {
   "cell_type": "code",
   "execution_count": 265,
   "metadata": {},
   "outputs": [
    {
     "data": {
      "text/plain": [
       "org      12875.0\n",
       "com      21271.0\n",
       "uk        2498.0\n",
       "cn         155.0\n",
       "ca         688.0\n",
       "          ...   \n",
       "tj           1.0\n",
       "mobi         2.0\n",
       "to           3.0\n",
       "city         1.0\n",
       "solar        1.0\n",
       "Length: 205, dtype: float64"
      ]
     },
     "execution_count": 265,
     "metadata": {},
     "output_type": "execute_result"
    }
   ],
   "source": [
    "ref_tld_sum = refs_tld.sum(axis=1)\n",
    "ref_tld_sum"
   ]
  },
  {
   "cell_type": "code",
   "execution_count": 266,
   "metadata": {},
   "outputs": [
    {
     "data": {
      "text/plain": [
       "org      464\n",
       "com      450\n",
       "uk       265\n",
       "cn        38\n",
       "ca       132\n",
       "        ... \n",
       "tj         1\n",
       "mobi       1\n",
       "to         2\n",
       "city       1\n",
       "solar      1\n",
       "Length: 205, dtype: int64"
      ]
     },
     "execution_count": 266,
     "metadata": {},
     "output_type": "execute_result"
    }
   ],
   "source": [
    "ref_tld_cnt = refs_tld.count(axis=1)\n",
    "ref_tld_cnt"
   ]
  },
  {
   "cell_type": "code",
   "execution_count": 399,
   "metadata": {},
   "outputs": [
    {
     "data": {
      "image/png": "[encoded data removed]",
      "text/plain": [
       "<Figure size 648x432 with 1 Axes>"
      ]
     },
     "metadata": {
      "needs_background": "light"
     },
     "output_type": "display_data"
    }
   ],
   "source": [
    "ax = plt.scatter(ref_tld_sum, ref_tld_cnt).axes\n",
    "ax.set_title(\"Scatterplot of top-level-domain repartition and frequency\")\n",
    "ax.set_xlabel(\"Number of occurences\")\n",
    "ax.set_ylabel(\"Number of pages\")\n",
    "fig = plt.gcf()\n",
    "fig.set_size_inches((9, 6))\n",
    "x_vals = np.linspace(0, 450)\n",
    "ax.plot(x_vals, x_vals)\n",
    "ax.annotate(\"y = x\", (720, 400))\n",
    "for t in [\"ch\", \"org\", \"com\", \"gov\"]:\n",
    "    ax.scatter(ref_tld_sum[t], ref_tld_cnt[t], color=\"orange\")\n",
    "    ax.annotate(t, (ref_tld_sum[t]+400, ref_tld_cnt[t]+1), color=\"orange\", bbox=dict(facecolor='white', boxstyle=\"round,pad=0.3\"))\n",
    "ax.figure.savefig(os.path.join(im_path, \"tlds.png\"))"
   ]
  },
  {
   "cell_type": "code",
   "execution_count": 840,
   "metadata": {},
   "outputs": [
    {
     "data": {
      "text/plain": [
       "85114"
      ]
     },
     "execution_count": 840,
     "metadata": {},
     "output_type": "execute_result"
    }
   ],
   "source": [
    "import sys\n",
    "temp = pd.concat(series[2], axis=1, keys=series[0])\n",
    "sys.getsizeof(temp)"
   ]
  },
  {
   "cell_type": "code",
   "execution_count": 847,
   "metadata": {},
   "outputs": [
    {
     "data": {
      "text/plain": [
       "16186"
      ]
     },
     "execution_count": 847,
     "metadata": {},
     "output_type": "execute_result"
    }
   ],
   "source": [
    "temp2 = temp.astype(pd.SparseDtype(\"int\", np.nan))\n",
    "sys.getsizeof(temp2)"
   ]
  },
  {
   "cell_type": "code",
   "execution_count": 906,
   "metadata": {},
   "outputs": [],
   "source": [
    "pszs = [getPageSize(p) for p in epfl_pages[:10]]"
   ]
  },
  {
   "cell_type": "code",
   "execution_count": 910,
   "metadata": {},
   "outputs": [
    {
     "name": "stdout",
     "output_type": "stream",
     "text": [
      "17792\n",
      "10128\n"
     ]
    }
   ],
   "source": [
    "df = pd.concat(pszs, axis=1)\n",
    "print(sys.getsizeof(df))\n",
    "\n",
    "print(sys.getsizeof(df.astype(pd.SparseDtype(\"int\", np.nan))))"
   ]
  },
  {
   "cell_type": "markdown",
   "metadata": {},
   "source": [
    "# Page sizes"
   ]
  },
  {
   "cell_type": "code",
   "execution_count": 25,
   "metadata": {},
   "outputs": [],
   "source": [
    "# Need to make page to item and item to page functions\n",
    "# Heavily bottlenecked by the `revisions` function unfortunately\n",
    "\n",
    "# Gets given keys of all revisions after a given timestamp\n",
    "def getRevisionsTags(page, ts, keys, content=False):\n",
    "    gen = page.revisions(reverse=True, content=content)\n",
    "    \n",
    "    while True:\n",
    "        try:\n",
    "            v = next(gen)\n",
    "            t = v[\"timestamp\"]\n",
    "            \n",
    "            if ts is None or t > ts:\n",
    "                yield t, [v[key] for key in keys]\n",
    "            else:\n",
    "                return\n",
    "        except StopIteration:\n",
    "            return\n",
    "\n",
    "def updatePageSizes(pagecodes, rescan=False):\n",
    "    path = os.path.join(\"pickles\", \"en_page_sizes.pkl\")\n",
    "    \n",
    "    try:\n",
    "        prev = pd.read_pickle(path)\n",
    "    except:\n",
    "        prev = pd.DataFrame()\n",
    "        \n",
    "    dfs = [prev]\n",
    "    \n",
    "    if rescan:\n",
    "        pagecodes += list(prev.columns)\n",
    "    \n",
    "    for code in tqdm(pagecodes):\n",
    "        try:\n",
    "            # Recover page from code\n",
    "            p = pwb.Page(wiki_site, pwb.ItemPage(repo, code).sitelinks[\"enwiki\"].ns_title())\n",
    "        except:\n",
    "            continue\n",
    "\n",
    "        # Set limit timestamp (or None if no data yet)\n",
    "        ts = prev[code].last_valid_index() if code in prev.columns else None\n",
    "        \n",
    "        # Get values after that timestamp\n",
    "        values = [(t, v[0]) for t, v in getRevisionsTags(p, ts, [\"size\"])]\n",
    "        \n",
    "        if len(values):\n",
    "            # Sample every month and shift by 1 day to get 1st of month\n",
    "            df = pd.DataFrame(values, columns=[0, code]).set_index(0)\n",
    "            df = df.groupby(pd.Grouper(freq=\"1M\")).nth(-1).resample(\"1M\").pad()\n",
    "            df.index = df.index.shift(1, freq=\"D\")\n",
    "            \n",
    "            # Combine with old data if it exists\n",
    "            if code in prev.columns:\n",
    "                df = df.combine_first(prev[code])\n",
    "                \n",
    "\n",
    "            dfs.append(df)\n",
    "    \n",
    "    curr = pd.concat(dfs, axis=1)\n",
    "    curr = curr.ffill(axis=0)\n",
    "    curr.to_pickle(path)\n",
    "    \n",
    "    return curr"
   ]
  },
  {
   "cell_type": "code",
   "execution_count": 26,
   "metadata": {},
   "outputs": [
    {
     "name": "stderr",
     "output_type": "stream",
     "text": [
      "100%|████████████████████████████████████████████████████████████████████████████████| 300/300 [29:50<00:00,  5.97s/it]\n"
     ]
    }
   ],
   "source": [
    "pcodes = [p.data_item().title() for p in epfl_pages[:300]]\n",
    "pszs = updatePageSizes(pcodes)"
   ]
  },
  {
   "cell_type": "code",
   "execution_count": 60,
   "metadata": {},
   "outputs": [
    {
     "data": {
      "text/html": [
       "<div>\n",
       "<style scoped>\n",
       "    .dataframe tbody tr th:only-of-type {\n",
       "        vertical-align: middle;\n",
       "    }\n",
       "\n",
       "    .dataframe tbody tr th {\n",
       "        vertical-align: top;\n",
       "    }\n",
       "\n",
       "    .dataframe thead th {\n",
       "        text-align: right;\n",
       "    }\n",
       "</style>\n",
       "<table border=\"1\" class=\"dataframe\">\n",
       "  <thead>\n",
       "    <tr style=\"text-align: right;\">\n",
       "      <th></th>\n",
       "      <th>Q62512191</th>\n",
       "      <th>Q3290884</th>\n",
       "      <th>Q2607895</th>\n",
       "      <th>Q96409910</th>\n",
       "      <th>Q16725863</th>\n",
       "      <th>Q52857</th>\n",
       "      <th>Q7432967</th>\n",
       "      <th>Q7579890</th>\n",
       "      <th>Q437458</th>\n",
       "      <th>Q88160407</th>\n",
       "      <th>...</th>\n",
       "      <th>Q76727</th>\n",
       "      <th>Q1587576</th>\n",
       "      <th>Q696577</th>\n",
       "      <th>Q932402</th>\n",
       "      <th>Q4813188</th>\n",
       "      <th>Q152171</th>\n",
       "      <th>Q29552</th>\n",
       "      <th>Q60045</th>\n",
       "      <th>Q280971</th>\n",
       "      <th>Q3489621</th>\n",
       "    </tr>\n",
       "    <tr>\n",
       "      <th>0</th>\n",
       "      <th></th>\n",
       "      <th></th>\n",
       "      <th></th>\n",
       "      <th></th>\n",
       "      <th></th>\n",
       "      <th></th>\n",
       "      <th></th>\n",
       "      <th></th>\n",
       "      <th></th>\n",
       "      <th></th>\n",
       "      <th></th>\n",
       "      <th></th>\n",
       "      <th></th>\n",
       "      <th></th>\n",
       "      <th></th>\n",
       "      <th></th>\n",
       "      <th></th>\n",
       "      <th></th>\n",
       "      <th></th>\n",
       "      <th></th>\n",
       "      <th></th>\n",
       "    </tr>\n",
       "  </thead>\n",
       "  <tbody>\n",
       "    <tr>\n",
       "      <th>2001-03-01</th>\n",
       "      <td>NaN</td>\n",
       "      <td>NaN</td>\n",
       "      <td>NaN</td>\n",
       "      <td>NaN</td>\n",
       "      <td>NaN</td>\n",
       "      <td>NaN</td>\n",
       "      <td>NaN</td>\n",
       "      <td>NaN</td>\n",
       "      <td>NaN</td>\n",
       "      <td>NaN</td>\n",
       "      <td>...</td>\n",
       "      <td>NaN</td>\n",
       "      <td>NaN</td>\n",
       "      <td>NaN</td>\n",
       "      <td>NaN</td>\n",
       "      <td>NaN</td>\n",
       "      <td>NaN</td>\n",
       "      <td>NaN</td>\n",
       "      <td>NaN</td>\n",
       "      <td>NaN</td>\n",
       "      <td>NaN</td>\n",
       "    </tr>\n",
       "    <tr>\n",
       "      <th>2001-04-01</th>\n",
       "      <td>NaN</td>\n",
       "      <td>NaN</td>\n",
       "      <td>NaN</td>\n",
       "      <td>NaN</td>\n",
       "      <td>NaN</td>\n",
       "      <td>NaN</td>\n",
       "      <td>NaN</td>\n",
       "      <td>NaN</td>\n",
       "      <td>NaN</td>\n",
       "      <td>NaN</td>\n",
       "      <td>...</td>\n",
       "      <td>NaN</td>\n",
       "      <td>NaN</td>\n",
       "      <td>NaN</td>\n",
       "      <td>NaN</td>\n",
       "      <td>NaN</td>\n",
       "      <td>NaN</td>\n",
       "      <td>NaN</td>\n",
       "      <td>NaN</td>\n",
       "      <td>NaN</td>\n",
       "      <td>NaN</td>\n",
       "    </tr>\n",
       "    <tr>\n",
       "      <th>2001-05-01</th>\n",
       "      <td>NaN</td>\n",
       "      <td>NaN</td>\n",
       "      <td>NaN</td>\n",
       "      <td>NaN</td>\n",
       "      <td>NaN</td>\n",
       "      <td>NaN</td>\n",
       "      <td>NaN</td>\n",
       "      <td>NaN</td>\n",
       "      <td>NaN</td>\n",
       "      <td>NaN</td>\n",
       "      <td>...</td>\n",
       "      <td>NaN</td>\n",
       "      <td>NaN</td>\n",
       "      <td>NaN</td>\n",
       "      <td>NaN</td>\n",
       "      <td>NaN</td>\n",
       "      <td>NaN</td>\n",
       "      <td>NaN</td>\n",
       "      <td>NaN</td>\n",
       "      <td>NaN</td>\n",
       "      <td>NaN</td>\n",
       "    </tr>\n",
       "    <tr>\n",
       "      <th>2001-06-01</th>\n",
       "      <td>NaN</td>\n",
       "      <td>NaN</td>\n",
       "      <td>NaN</td>\n",
       "      <td>NaN</td>\n",
       "      <td>NaN</td>\n",
       "      <td>NaN</td>\n",
       "      <td>NaN</td>\n",
       "      <td>NaN</td>\n",
       "      <td>NaN</td>\n",
       "      <td>NaN</td>\n",
       "      <td>...</td>\n",
       "      <td>NaN</td>\n",
       "      <td>NaN</td>\n",
       "      <td>NaN</td>\n",
       "      <td>NaN</td>\n",
       "      <td>NaN</td>\n",
       "      <td>NaN</td>\n",
       "      <td>NaN</td>\n",
       "      <td>NaN</td>\n",
       "      <td>NaN</td>\n",
       "      <td>NaN</td>\n",
       "    </tr>\n",
       "    <tr>\n",
       "      <th>2001-07-01</th>\n",
       "      <td>NaN</td>\n",
       "      <td>NaN</td>\n",
       "      <td>NaN</td>\n",
       "      <td>NaN</td>\n",
       "      <td>NaN</td>\n",
       "      <td>NaN</td>\n",
       "      <td>NaN</td>\n",
       "      <td>NaN</td>\n",
       "      <td>NaN</td>\n",
       "      <td>NaN</td>\n",
       "      <td>...</td>\n",
       "      <td>NaN</td>\n",
       "      <td>NaN</td>\n",
       "      <td>NaN</td>\n",
       "      <td>NaN</td>\n",
       "      <td>NaN</td>\n",
       "      <td>NaN</td>\n",
       "      <td>NaN</td>\n",
       "      <td>1220.0</td>\n",
       "      <td>NaN</td>\n",
       "      <td>NaN</td>\n",
       "    </tr>\n",
       "    <tr>\n",
       "      <th>...</th>\n",
       "      <td>...</td>\n",
       "      <td>...</td>\n",
       "      <td>...</td>\n",
       "      <td>...</td>\n",
       "      <td>...</td>\n",
       "      <td>...</td>\n",
       "      <td>...</td>\n",
       "      <td>...</td>\n",
       "      <td>...</td>\n",
       "      <td>...</td>\n",
       "      <td>...</td>\n",
       "      <td>...</td>\n",
       "      <td>...</td>\n",
       "      <td>...</td>\n",
       "      <td>...</td>\n",
       "      <td>...</td>\n",
       "      <td>...</td>\n",
       "      <td>...</td>\n",
       "      <td>...</td>\n",
       "      <td>...</td>\n",
       "      <td>...</td>\n",
       "    </tr>\n",
       "    <tr>\n",
       "      <th>2020-10-01</th>\n",
       "      <td>9681.0</td>\n",
       "      <td>3628.0</td>\n",
       "      <td>20622.0</td>\n",
       "      <td>189738.0</td>\n",
       "      <td>78375.0</td>\n",
       "      <td>43170.0</td>\n",
       "      <td>48355.0</td>\n",
       "      <td>27017.0</td>\n",
       "      <td>44926.0</td>\n",
       "      <td>15049.0</td>\n",
       "      <td>...</td>\n",
       "      <td>47976.0</td>\n",
       "      <td>2718.0</td>\n",
       "      <td>43128.0</td>\n",
       "      <td>3109.0</td>\n",
       "      <td>13421.0</td>\n",
       "      <td>46443.0</td>\n",
       "      <td>226603.0</td>\n",
       "      <td>67919.0</td>\n",
       "      <td>3680.0</td>\n",
       "      <td>111405.0</td>\n",
       "    </tr>\n",
       "    <tr>\n",
       "      <th>2020-11-01</th>\n",
       "      <td>9681.0</td>\n",
       "      <td>3628.0</td>\n",
       "      <td>20622.0</td>\n",
       "      <td>189769.0</td>\n",
       "      <td>79299.0</td>\n",
       "      <td>43394.0</td>\n",
       "      <td>48331.0</td>\n",
       "      <td>28075.0</td>\n",
       "      <td>44926.0</td>\n",
       "      <td>15005.0</td>\n",
       "      <td>...</td>\n",
       "      <td>47976.0</td>\n",
       "      <td>2718.0</td>\n",
       "      <td>43128.0</td>\n",
       "      <td>3109.0</td>\n",
       "      <td>13416.0</td>\n",
       "      <td>46493.0</td>\n",
       "      <td>257526.0</td>\n",
       "      <td>67947.0</td>\n",
       "      <td>3680.0</td>\n",
       "      <td>111351.0</td>\n",
       "    </tr>\n",
       "    <tr>\n",
       "      <th>2020-12-01</th>\n",
       "      <td>9681.0</td>\n",
       "      <td>3628.0</td>\n",
       "      <td>20569.0</td>\n",
       "      <td>189769.0</td>\n",
       "      <td>79319.0</td>\n",
       "      <td>44067.0</td>\n",
       "      <td>48331.0</td>\n",
       "      <td>31449.0</td>\n",
       "      <td>44856.0</td>\n",
       "      <td>14493.0</td>\n",
       "      <td>...</td>\n",
       "      <td>47981.0</td>\n",
       "      <td>2718.0</td>\n",
       "      <td>60806.0</td>\n",
       "      <td>3109.0</td>\n",
       "      <td>13416.0</td>\n",
       "      <td>46712.0</td>\n",
       "      <td>265472.0</td>\n",
       "      <td>67999.0</td>\n",
       "      <td>3680.0</td>\n",
       "      <td>111281.0</td>\n",
       "    </tr>\n",
       "    <tr>\n",
       "      <th>2021-01-01</th>\n",
       "      <td>9681.0</td>\n",
       "      <td>3628.0</td>\n",
       "      <td>20430.0</td>\n",
       "      <td>202742.0</td>\n",
       "      <td>79985.0</td>\n",
       "      <td>44419.0</td>\n",
       "      <td>48652.0</td>\n",
       "      <td>31855.0</td>\n",
       "      <td>44856.0</td>\n",
       "      <td>14493.0</td>\n",
       "      <td>...</td>\n",
       "      <td>48932.0</td>\n",
       "      <td>2718.0</td>\n",
       "      <td>60765.0</td>\n",
       "      <td>3109.0</td>\n",
       "      <td>13400.0</td>\n",
       "      <td>46823.0</td>\n",
       "      <td>265057.0</td>\n",
       "      <td>68466.0</td>\n",
       "      <td>3680.0</td>\n",
       "      <td>111277.0</td>\n",
       "    </tr>\n",
       "    <tr>\n",
       "      <th>2021-02-01</th>\n",
       "      <td>9681.0</td>\n",
       "      <td>3628.0</td>\n",
       "      <td>20430.0</td>\n",
       "      <td>202742.0</td>\n",
       "      <td>79985.0</td>\n",
       "      <td>44419.0</td>\n",
       "      <td>48652.0</td>\n",
       "      <td>31855.0</td>\n",
       "      <td>44856.0</td>\n",
       "      <td>14493.0</td>\n",
       "      <td>...</td>\n",
       "      <td>49008.0</td>\n",
       "      <td>2718.0</td>\n",
       "      <td>60765.0</td>\n",
       "      <td>3109.0</td>\n",
       "      <td>13400.0</td>\n",
       "      <td>46823.0</td>\n",
       "      <td>265085.0</td>\n",
       "      <td>68474.0</td>\n",
       "      <td>3680.0</td>\n",
       "      <td>111277.0</td>\n",
       "    </tr>\n",
       "  </tbody>\n",
       "</table>\n",
       "<p>240 rows × 442 columns</p>\n",
       "</div>"
      ],
      "text/plain": [
       "            Q62512191  Q3290884  Q2607895  Q96409910  Q16725863   Q52857  \\\n",
       "0                                                                          \n",
       "2001-03-01        NaN       NaN       NaN        NaN        NaN      NaN   \n",
       "2001-04-01        NaN       NaN       NaN        NaN        NaN      NaN   \n",
       "2001-05-01        NaN       NaN       NaN        NaN        NaN      NaN   \n",
       "2001-06-01        NaN       NaN       NaN        NaN        NaN      NaN   \n",
       "2001-07-01        NaN       NaN       NaN        NaN        NaN      NaN   \n",
       "...               ...       ...       ...        ...        ...      ...   \n",
       "2020-10-01     9681.0    3628.0   20622.0   189738.0    78375.0  43170.0   \n",
       "2020-11-01     9681.0    3628.0   20622.0   189769.0    79299.0  43394.0   \n",
       "2020-12-01     9681.0    3628.0   20569.0   189769.0    79319.0  44067.0   \n",
       "2021-01-01     9681.0    3628.0   20430.0   202742.0    79985.0  44419.0   \n",
       "2021-02-01     9681.0    3628.0   20430.0   202742.0    79985.0  44419.0   \n",
       "\n",
       "            Q7432967  Q7579890  Q437458  Q88160407  ...   Q76727  Q1587576  \\\n",
       "0                                                   ...                      \n",
       "2001-03-01       NaN       NaN      NaN        NaN  ...      NaN       NaN   \n",
       "2001-04-01       NaN       NaN      NaN        NaN  ...      NaN       NaN   \n",
       "2001-05-01       NaN       NaN      NaN        NaN  ...      NaN       NaN   \n",
       "2001-06-01       NaN       NaN      NaN        NaN  ...      NaN       NaN   \n",
       "2001-07-01       NaN       NaN      NaN        NaN  ...      NaN       NaN   \n",
       "...              ...       ...      ...        ...  ...      ...       ...   \n",
       "2020-10-01   48355.0   27017.0  44926.0    15049.0  ...  47976.0    2718.0   \n",
       "2020-11-01   48331.0   28075.0  44926.0    15005.0  ...  47976.0    2718.0   \n",
       "2020-12-01   48331.0   31449.0  44856.0    14493.0  ...  47981.0    2718.0   \n",
       "2021-01-01   48652.0   31855.0  44856.0    14493.0  ...  48932.0    2718.0   \n",
       "2021-02-01   48652.0   31855.0  44856.0    14493.0  ...  49008.0    2718.0   \n",
       "\n",
       "            Q696577  Q932402  Q4813188  Q152171    Q29552   Q60045  Q280971  \\\n",
       "0                                                                             \n",
       "2001-03-01      NaN      NaN       NaN      NaN       NaN      NaN      NaN   \n",
       "2001-04-01      NaN      NaN       NaN      NaN       NaN      NaN      NaN   \n",
       "2001-05-01      NaN      NaN       NaN      NaN       NaN      NaN      NaN   \n",
       "2001-06-01      NaN      NaN       NaN      NaN       NaN      NaN      NaN   \n",
       "2001-07-01      NaN      NaN       NaN      NaN       NaN   1220.0      NaN   \n",
       "...             ...      ...       ...      ...       ...      ...      ...   \n",
       "2020-10-01  43128.0   3109.0   13421.0  46443.0  226603.0  67919.0   3680.0   \n",
       "2020-11-01  43128.0   3109.0   13416.0  46493.0  257526.0  67947.0   3680.0   \n",
       "2020-12-01  60806.0   3109.0   13416.0  46712.0  265472.0  67999.0   3680.0   \n",
       "2021-01-01  60765.0   3109.0   13400.0  46823.0  265057.0  68466.0   3680.0   \n",
       "2021-02-01  60765.0   3109.0   13400.0  46823.0  265085.0  68474.0   3680.0   \n",
       "\n",
       "            Q3489621  \n",
       "0                     \n",
       "2001-03-01       NaN  \n",
       "2001-04-01       NaN  \n",
       "2001-05-01       NaN  \n",
       "2001-06-01       NaN  \n",
       "2001-07-01       NaN  \n",
       "...              ...  \n",
       "2020-10-01  111405.0  \n",
       "2020-11-01  111351.0  \n",
       "2020-12-01  111281.0  \n",
       "2021-01-01  111277.0  \n",
       "2021-02-01  111277.0  \n",
       "\n",
       "[240 rows x 442 columns]"
      ]
     },
     "execution_count": 60,
     "metadata": {},
     "output_type": "execute_result"
    }
   ],
   "source": [
    "pszs"
   ]
  },
  {
   "cell_type": "code",
   "execution_count": 86,
   "metadata": {},
   "outputs": [
    {
     "data": {
      "text/plain": [
       "Date\n",
       "2001-03-01         143.0\n",
       "2001-04-01         309.0\n",
       "2001-05-01        5634.0\n",
       "2001-06-01       10074.0\n",
       "2001-07-01       11294.0\n",
       "                 ...    \n",
       "2020-10-01    27160082.0\n",
       "2020-11-01    27274369.0\n",
       "2020-12-01    27537027.0\n",
       "2021-01-01    27731340.0\n",
       "2021-02-01    27736231.0\n",
       "Freq: MS, Name: Select Pages Size, Length: 240, dtype: float64"
      ]
     },
     "execution_count": 86,
     "metadata": {},
     "output_type": "execute_result"
    }
   ],
   "source": [
    "total_size = pszs.sum(axis=1)\n",
    "total_size.index.name = \"Date\"\n",
    "total_size.name = \"Select Pages Size\"\n",
    "total_size"
   ]
  },
  {
   "cell_type": "code",
   "execution_count": 72,
   "metadata": {},
   "outputs": [
    {
     "data": {
      "text/plain": [
       "<AxesSubplot:xlabel='Date'>"
      ]
     },
     "execution_count": 72,
     "metadata": {},
     "output_type": "execute_result"
    },
    {
     "data": {
      "image/png": "[encoded data removed]",
      "text/plain": [
       "<Figure size 432x288 with 1 Axes>"
      ]
     },
     "metadata": {
      "needs_background": "light"
     },
     "output_type": "display_data"
    }
   ],
   "source": [
    "total_size.plot()"
   ]
  },
  {
   "cell_type": "markdown",
   "metadata": {},
   "source": [
    "# Page count\n",
    "\n",
    "Here we look at how many of our pages exist at a given time"
   ]
  },
  {
   "cell_type": "code",
   "execution_count": 96,
   "metadata": {},
   "outputs": [],
   "source": [
    "def pageCounts(df):\n",
    "    ret = df.count(axis=1)\n",
    "    ret.index.name = \"Date\"\n",
    "    ret.name = \"Select Pages Count\"\n",
    "    return ret"
   ]
  },
  {
   "cell_type": "code",
   "execution_count": 97,
   "metadata": {},
   "outputs": [
    {
     "data": {
      "text/plain": [
       "Date\n",
       "2001-03-01      1\n",
       "2001-04-01      2\n",
       "2001-05-01      4\n",
       "2001-06-01      6\n",
       "2001-07-01      7\n",
       "             ... \n",
       "2020-10-01    439\n",
       "2020-11-01    440\n",
       "2020-12-01    441\n",
       "2021-01-01    442\n",
       "2021-02-01    442\n",
       "Freq: MS, Name: Select Pages Count, Length: 240, dtype: int64"
      ]
     },
     "execution_count": 97,
     "metadata": {},
     "output_type": "execute_result"
    }
   ],
   "source": [
    "pcnts = pageCounts(pszs)\n",
    "pcnts"
   ]
  },
  {
   "cell_type": "code",
   "execution_count": 67,
   "metadata": {},
   "outputs": [
    {
     "data": {
      "text/plain": [
       "<AxesSubplot:xlabel='Date'>"
      ]
     },
     "execution_count": 67,
     "metadata": {},
     "output_type": "execute_result"
    },
    {
     "data": {
      "image/png": "[encoded data removed]",
      "text/plain": [
       "<Figure size 432x288 with 1 Axes>"
      ]
     },
     "metadata": {
      "needs_background": "light"
     },
     "output_type": "display_data"
    }
   ],
   "source": [
    "pcnts.plot()"
   ]
  },
  {
   "cell_type": "markdown",
   "metadata": {},
   "source": [
    "# Page size and page counts ratio"
   ]
  },
  {
   "cell_type": "code",
   "execution_count": 68,
   "metadata": {},
   "outputs": [
    {
     "data": {
      "text/plain": [
       "<AxesSubplot:xlabel='Date'>"
      ]
     },
     "execution_count": 68,
     "metadata": {},
     "output_type": "execute_result"
    },
    {
     "data": {
      "image/png": "[encoded data removed]",
      "text/plain": [
       "<Figure size 432x288 with 1 Axes>"
      ]
     },
     "metadata": {
      "needs_background": "light"
     },
     "output_type": "display_data"
    }
   ],
   "source": [
    "(total_size / pcnts).plot()"
   ]
  },
  {
   "cell_type": "code",
   "execution_count": 34,
   "metadata": {},
   "outputs": [],
   "source": [
    "def loadWikistats(fn, name, exp=0):\n",
    "    path = os.path.join(\"csv\", \"wikistats\", fn)\n",
    "    \n",
    "    with open(path, \"rb\") as f:\n",
    "        df = pd.read_csv(f)\n",
    "        \n",
    "    df.index = pd.to_datetime(df[\"month\"], format=\"%Y-%m-%dT%H:%M:%S.%fZ\").rename(\"Date\")\n",
    "    df = df[\"total.total\"].rename(name) * 10**exp\n",
    "        \n",
    "    return df"
   ]
  },
  {
   "cell_type": "code",
   "execution_count": 84,
   "metadata": {},
   "outputs": [
    {
     "data": {
      "text/plain": [
       "Date\n",
       "2002-06-01        -9047814\n",
       "2002-07-01        -5506300\n",
       "2002-08-01         2751399\n",
       "2002-09-01        19660466\n",
       "2002-10-01       100571558\n",
       "                  ...     \n",
       "2020-07-01    137741611176\n",
       "2020-08-01    138606511071\n",
       "2020-09-01    139394891531\n",
       "2020-10-01    140241416864\n",
       "2020-11-01    141143046895\n",
       "Name: English Wikipedia Size, Length: 222, dtype: int64"
      ]
     },
     "execution_count": 84,
     "metadata": {},
     "output_type": "execute_result"
    }
   ],
   "source": [
    "wiki_size = loadWikistats(\"size_change_en.csv\", name=\"English Wikipedia Size\", exp=0)\n",
    "wiki_size = wiki_size[17:].cumsum()\n",
    "wiki_size"
   ]
  },
  {
   "cell_type": "code",
   "execution_count": 85,
   "metadata": {},
   "outputs": [
    {
     "data": {
      "text/plain": [
       "Date\n",
       "2001-01-01          60\n",
       "2001-02-01         216\n",
       "2001-03-01         728\n",
       "2001-04-01        1338\n",
       "2001-05-01        2624\n",
       "                ...   \n",
       "2020-07-01    39470296\n",
       "2020-08-01    39876317\n",
       "2020-09-01    40090855\n",
       "2020-10-01    40287846\n",
       "2020-11-01    40472745\n",
       "Name: English Wikipedia Count, Length: 239, dtype: int64"
      ]
     },
     "execution_count": 85,
     "metadata": {},
     "output_type": "execute_result"
    }
   ],
   "source": [
    "wiki_cnts = loadWikistats(\"pages_en.csv\", name=\"English Wikipedia Count\", exp=0)\n",
    "wiki_cnts"
   ]
  },
  {
   "cell_type": "code",
   "execution_count": 124,
   "metadata": {},
   "outputs": [
    {
     "data": {
      "text/plain": [
       "Date\n",
       "2002-06-01    -220.947839\n",
       "2002-07-01    -123.957137\n",
       "2002-08-01      54.645462\n",
       "2002-09-01     318.997696\n",
       "2002-10-01     990.433196\n",
       "                 ...     \n",
       "2020-07-01    3489.753692\n",
       "2020-08-01    3475.910553\n",
       "2020-09-01    3476.974775\n",
       "2020-10-01    3480.985726\n",
       "2020-11-01    3487.360368\n",
       "Freq: MS, Name: English Wikipedia Ratio, Length: 222, dtype: float64"
      ]
     },
     "execution_count": 124,
     "metadata": {},
     "output_type": "execute_result"
    },
    {
     "data": {
      "image/png": "[encoded data removed]",
      "text/plain": [
       "<Figure size 432x288 with 1 Axes>"
      ]
     },
     "metadata": {
      "needs_background": "light"
     },
     "output_type": "display_data"
    }
   ],
   "source": [
    "wiki_ratio = pd.concat([wiki_size, wiki_cnts], axis=1).dropna()\n",
    "wiki_ratio = wiki_ratio.iloc[:,0] / wiki_ratio.iloc[:,1]\n",
    "wiki_ratio.name = \"English Wikipedia Ratio\"\n",
    "wiki_ratio.plot()\n",
    "wiki_ratio"
   ]
  },
  {
   "cell_type": "code",
   "execution_count": 115,
   "metadata": {},
   "outputs": [
    {
     "data": {
      "text/plain": [
       "Date\n",
       "2001-03-01      143.000000\n",
       "2001-04-01      154.500000\n",
       "2001-05-01     1408.500000\n",
       "2001-06-01     1679.000000\n",
       "2001-07-01     1613.428571\n",
       "                  ...     \n",
       "2020-10-01    61868.068337\n",
       "2020-11-01    61987.202273\n",
       "2020-12-01    62442.238095\n",
       "2021-01-01    62740.588235\n",
       "2021-02-01    62751.653846\n",
       "Freq: MS, Name: Select Pages Ratio, Length: 240, dtype: float64"
      ]
     },
     "execution_count": 115,
     "metadata": {},
     "output_type": "execute_result"
    },
    {
     "data": {
      "image/png": "[encoded data removed]",
      "text/plain": [
       "<Figure size 432x288 with 1 Axes>"
      ]
     },
     "metadata": {
      "needs_background": "light"
     },
     "output_type": "display_data"
    }
   ],
   "source": [
    "pages_ratio = pd.concat([total_size, pcnts], axis=1).dropna()\n",
    "pages_ratio = pages_ratio.iloc[:,0] / pages_ratio.iloc[:,1]\n",
    "pages_ratio.name = \"Select Pages Ratio\"\n",
    "pages_ratio.plot()\n",
    "pages_ratio"
   ]
  },
  {
   "cell_type": "code",
   "execution_count": 99,
   "metadata": {},
   "outputs": [
    {
     "data": {
      "image/png": "[encoded data removed]",
      "text/plain": [
       "<Figure size 648x432 with 1 Axes>"
      ]
     },
     "metadata": {
      "needs_background": "light"
     },
     "output_type": "display_data"
    }
   ],
   "source": [
    "ax = pd.concat([total_size, wiki_size], axis=1).plot(logy=True, figsize=(9, 6))\n",
    "ax.set_title(\"Size in Bytes (log scale)\")\n",
    "ax.figure.savefig(os.path.join(im_path, \"size_comp.png\"))"
   ]
  },
  {
   "cell_type": "code",
   "execution_count": 98,
   "metadata": {},
   "outputs": [
    {
     "data": {
      "image/png": "[encoded data removed]",
      "text/plain": [
       "<Figure size 648x432 with 1 Axes>"
      ]
     },
     "metadata": {
      "needs_background": "light"
     },
     "output_type": "display_data"
    }
   ],
   "source": [
    "ax = pd.concat([pcnts, wiki_cnts], axis=1).plot(logy=True, figsize=(9, 6))\n",
    "ax.set_title(\"Page counts (log scale)\")\n",
    "ax.figure.savefig(os.path.join(im_path, \"count_comp.png\"))"
   ]
  },
  {
   "cell_type": "code",
   "execution_count": 126,
   "metadata": {},
   "outputs": [
    {
     "data": {
      "image/png": "[encoded data removed]",
      "text/plain": [
       "<Figure size 648x432 with 1 Axes>"
      ]
     },
     "metadata": {
      "needs_background": "light"
     },
     "output_type": "display_data"
    }
   ],
   "source": [
    "ax = pd.concat([pages_ratio, wiki_ratio], axis=1).plot(logy=True, figsize=(9, 6))\n",
    "ax.set_title(\"Size / Page Count Ratio (log scale)\")\n",
    "ax.figure.savefig(os.path.join(im_path, \"ratio_comp.png\"))"
   ]
  },
  {
   "cell_type": "markdown",
   "metadata": {},
   "source": [
    "# Performance comparison"
   ]
  },
  {
   "cell_type": "code",
   "execution_count": 1277,
   "metadata": {},
   "outputs": [
    {
     "name": "stdout",
     "output_type": "stream",
     "text": [
      "0.6295251846313477\n"
     ]
    }
   ],
   "source": [
    "import time\n",
    "start = time.time()\n",
    "page.revisions()\n",
    "end = time.time()\n",
    "print(end-start)"
   ]
  },
  {
   "cell_type": "code",
   "execution_count": 1264,
   "metadata": {},
   "outputs": [
    {
     "name": "stdout",
     "output_type": "stream",
     "text": [
      "Dallas\n"
     ]
    }
   ],
   "source": [
    "print(epfl_pages[100].title())"
   ]
  },
  {
   "cell_type": "code",
   "execution_count": 1285,
   "metadata": {},
   "outputs": [
    {
     "name": "stderr",
     "output_type": "stream",
     "text": [
      "WARNING: API error invalidparammix: \"titles\", \"pageids\" or a generator was used to supply multiple pages, but the \"rvlimit\", \"rvstartid\", \"rvendid\", \"rvdir=newer\", \"rvuser\", \"rvexcludeuser\", \"rvstart\", and \"rvend\" parameters may only be used on a single page.\n"
     ]
    },
    {
     "ename": "APIError",
     "evalue": "invalidparammix: \"titles\", \"pageids\" or a generator was used to supply multiple pages, but the \"rvlimit\", \"rvstartid\", \"rvendid\", \"rvdir=newer\", \"rvuser\", \"rvexcludeuser\", \"rvstart\", and \"rvend\" parameters may only be used on a single page.\n[help: See https://en.wikipedia.org/w/api.php for API usage. Subscribe to the mediawiki-api-announce mailing list at &lt;https://lists.wikimedia.org/mailman/listinfo/mediawiki-api-announce&gt; for notice of API deprecations and breaking changes.]",
     "output_type": "error",
     "traceback": [
      "\u001b[1;31m---------------------------------------------------------------------------\u001b[0m",
      "\u001b[1;31mAPIError\u001b[0m                                  Traceback (most recent call last)",
      "\u001b[1;32m<ipython-input-1285-3bbb70d99952>\u001b[0m in \u001b[0;36m<module>\u001b[1;34m\u001b[0m\n\u001b[0;32m      1\u001b[0m \u001b[0mstart\u001b[0m \u001b[1;33m=\u001b[0m \u001b[0mtime\u001b[0m\u001b[1;33m.\u001b[0m\u001b[0mtime\u001b[0m\u001b[1;33m(\u001b[0m\u001b[1;33m)\u001b[0m\u001b[1;33m\u001b[0m\u001b[1;33m\u001b[0m\u001b[0m\n\u001b[1;32m----> 2\u001b[1;33m revs = next(iter(api.PropertyGenerator('revisions', site=wiki_site, parameters={\n\u001b[0m\u001b[0;32m      3\u001b[0m     \u001b[1;34m'titles'\u001b[0m\u001b[1;33m:\u001b[0m \u001b[1;34m'Martin Vetterli|Patrick Aebischer'\u001b[0m\u001b[1;33m,\u001b[0m\u001b[1;33m\u001b[0m\u001b[1;33m\u001b[0m\u001b[0m\n\u001b[0;32m      4\u001b[0m     \u001b[1;34m'rvprop'\u001b[0m\u001b[1;33m:\u001b[0m \u001b[1;34m'timestamp|size'\u001b[0m\u001b[1;33m,\u001b[0m\u001b[1;33m\u001b[0m\u001b[1;33m\u001b[0m\u001b[0m\n\u001b[0;32m      5\u001b[0m })))['revisions']\n",
      "\u001b[1;32m~\\anaconda3\\envs\\wiki-env\\lib\\site-packages\\pywikibot\\data\\api.py\u001b[0m in \u001b[0;36m__iter__\u001b[1;34m(self)\u001b[0m\n\u001b[0;32m   2850\u001b[0m         \u001b[1;34m\"\"\"Yield results.\"\"\"\u001b[0m\u001b[1;33m\u001b[0m\u001b[1;33m\u001b[0m\u001b[0m\n\u001b[0;32m   2851\u001b[0m         \u001b[0mself\u001b[0m\u001b[1;33m.\u001b[0m\u001b[0m_previous_dicts\u001b[0m \u001b[1;33m=\u001b[0m \u001b[1;33m{\u001b[0m\u001b[1;33m}\u001b[0m\u001b[1;33m\u001b[0m\u001b[1;33m\u001b[0m\u001b[0m\n\u001b[1;32m-> 2852\u001b[1;33m         \u001b[1;32myield\u001b[0m \u001b[1;32mfrom\u001b[0m \u001b[0msuper\u001b[0m\u001b[1;33m(\u001b[0m\u001b[1;33m)\u001b[0m\u001b[1;33m.\u001b[0m\u001b[0m__iter__\u001b[0m\u001b[1;33m(\u001b[0m\u001b[1;33m)\u001b[0m\u001b[1;33m\u001b[0m\u001b[1;33m\u001b[0m\u001b[0m\n\u001b[0m\u001b[0;32m   2853\u001b[0m         \u001b[1;32myield\u001b[0m \u001b[1;32mfrom\u001b[0m \u001b[0mself\u001b[0m\u001b[1;33m.\u001b[0m\u001b[0m_previous_dicts\u001b[0m\u001b[1;33m.\u001b[0m\u001b[0mvalues\u001b[0m\u001b[1;33m(\u001b[0m\u001b[1;33m)\u001b[0m\u001b[1;33m\u001b[0m\u001b[1;33m\u001b[0m\u001b[0m\n\u001b[0;32m   2854\u001b[0m \u001b[1;33m\u001b[0m\u001b[0m\n",
      "\u001b[1;32m~\\anaconda3\\envs\\wiki-env\\lib\\site-packages\\pywikibot\\data\\api.py\u001b[0m in \u001b[0;36m__iter__\u001b[1;34m(self)\u001b[0m\n\u001b[0;32m   2694\u001b[0m                 prev_limit, new_limit, previous_result_had_data)\n\u001b[0;32m   2695\u001b[0m             \u001b[1;32mif\u001b[0m \u001b[1;32mnot\u001b[0m \u001b[0mhasattr\u001b[0m\u001b[1;33m(\u001b[0m\u001b[0mself\u001b[0m\u001b[1;33m,\u001b[0m \u001b[1;34m'data'\u001b[0m\u001b[1;33m)\u001b[0m\u001b[1;33m:\u001b[0m\u001b[1;33m\u001b[0m\u001b[1;33m\u001b[0m\u001b[0m\n\u001b[1;32m-> 2696\u001b[1;33m                 \u001b[0mself\u001b[0m\u001b[1;33m.\u001b[0m\u001b[0mdata\u001b[0m \u001b[1;33m=\u001b[0m \u001b[0mself\u001b[0m\u001b[1;33m.\u001b[0m\u001b[0mrequest\u001b[0m\u001b[1;33m.\u001b[0m\u001b[0msubmit\u001b[0m\u001b[1;33m(\u001b[0m\u001b[1;33m)\u001b[0m\u001b[1;33m\u001b[0m\u001b[1;33m\u001b[0m\u001b[0m\n\u001b[0m\u001b[0;32m   2697\u001b[0m             \u001b[1;32mif\u001b[0m \u001b[1;32mnot\u001b[0m \u001b[0mself\u001b[0m\u001b[1;33m.\u001b[0m\u001b[0mdata\u001b[0m \u001b[1;32mor\u001b[0m \u001b[1;32mnot\u001b[0m \u001b[0misinstance\u001b[0m\u001b[1;33m(\u001b[0m\u001b[0mself\u001b[0m\u001b[1;33m.\u001b[0m\u001b[0mdata\u001b[0m\u001b[1;33m,\u001b[0m \u001b[0mdict\u001b[0m\u001b[1;33m)\u001b[0m\u001b[1;33m:\u001b[0m\u001b[1;33m\u001b[0m\u001b[1;33m\u001b[0m\u001b[0m\n\u001b[0;32m   2698\u001b[0m                 pywikibot.debug(\n",
      "\u001b[1;32m~\\anaconda3\\envs\\wiki-env\\lib\\site-packages\\pywikibot\\data\\api.py\u001b[0m in \u001b[0;36msubmit\u001b[1;34m(self)\u001b[0m\n\u001b[0;32m   1983\u001b[0m                 \u001b[0mpywikibot\u001b[0m\u001b[1;33m.\u001b[0m\u001b[0mlog\u001b[0m\u001b[1;33m(\u001b[0m\u001b[1;34m'           response=\\n{}'\u001b[0m\u001b[1;33m.\u001b[0m\u001b[0mformat\u001b[0m\u001b[1;33m(\u001b[0m\u001b[0mresult\u001b[0m\u001b[1;33m)\u001b[0m\u001b[1;33m)\u001b[0m\u001b[1;33m\u001b[0m\u001b[1;33m\u001b[0m\u001b[0m\n\u001b[0;32m   1984\u001b[0m \u001b[1;33m\u001b[0m\u001b[0m\n\u001b[1;32m-> 1985\u001b[1;33m                 \u001b[1;32mraise\u001b[0m \u001b[0mAPIError\u001b[0m\u001b[1;33m(\u001b[0m\u001b[1;33m**\u001b[0m\u001b[0mresult\u001b[0m\u001b[1;33m[\u001b[0m\u001b[1;34m'error'\u001b[0m\u001b[1;33m]\u001b[0m\u001b[1;33m)\u001b[0m\u001b[1;33m\u001b[0m\u001b[1;33m\u001b[0m\u001b[0m\n\u001b[0m\u001b[0;32m   1986\u001b[0m             \u001b[1;32mexcept\u001b[0m \u001b[0mTypeError\u001b[0m\u001b[1;33m:\u001b[0m\u001b[1;33m\u001b[0m\u001b[1;33m\u001b[0m\u001b[0m\n\u001b[0;32m   1987\u001b[0m                 \u001b[1;32mraise\u001b[0m \u001b[0mRuntimeError\u001b[0m\u001b[1;33m(\u001b[0m\u001b[0mresult\u001b[0m\u001b[1;33m)\u001b[0m\u001b[1;33m\u001b[0m\u001b[1;33m\u001b[0m\u001b[0m\n",
      "\u001b[1;31mAPIError\u001b[0m: invalidparammix: \"titles\", \"pageids\" or a generator was used to supply multiple pages, but the \"rvlimit\", \"rvstartid\", \"rvendid\", \"rvdir=newer\", \"rvuser\", \"rvexcludeuser\", \"rvstart\", and \"rvend\" parameters may only be used on a single page.\n[help: See https://en.wikipedia.org/w/api.php for API usage. Subscribe to the mediawiki-api-announce mailing list at &lt;https://lists.wikimedia.org/mailman/listinfo/mediawiki-api-announce&gt; for notice of API deprecations and breaking changes.]"
     ]
    }
   ],
   "source": [
    "# Can only run on one page at a time\n",
    "start = time.time()\n",
    "revs = next(iter(api.PropertyGenerator('revisions', site=wiki_site, parameters={\n",
    "    'titles': 'Martin Vetterli',\n",
    "    'rvprop': 'timestamp|size',\n",
    "})))['revisions']\n",
    "end = time.time()\n",
    "print(end-start)"
   ]
  },
  {
   "cell_type": "code",
   "execution_count": 1284,
   "metadata": {},
   "outputs": [
    {
     "data": {
      "text/plain": [
       "[{'timestamp': '2020-12-29T18:59:19Z', 'size': 11843},\n",
       " {'timestamp': '2020-11-02T18:46:37Z', 'size': 11843},\n",
       " {'timestamp': '2020-09-25T17:28:20Z', 'size': 11895},\n",
       " {'timestamp': '2020-08-22T16:50:53Z', 'size': 11896},\n",
       " {'timestamp': '2020-08-14T17:33:22Z', 'size': 11897},\n",
       " {'timestamp': '2020-07-02T22:33:23Z', 'size': 11839},\n",
       " {'timestamp': '2020-07-02T21:08:29Z', 'size': 11647},\n",
       " {'timestamp': '2020-03-27T10:21:31Z', 'size': 11634},\n",
       " {'timestamp': '2019-09-25T23:41:07Z', 'size': 11402},\n",
       " {'timestamp': '2018-01-17T13:21:25Z', 'size': 11398},\n",
       " {'timestamp': '2017-09-04T14:53:32Z', 'size': 11174},\n",
       " {'timestamp': '2017-08-25T15:46:37Z', 'size': 11173},\n",
       " {'timestamp': '2017-08-06T12:45:53Z', 'size': 11202},\n",
       " {'timestamp': '2017-07-23T02:17:45Z', 'size': 11172},\n",
       " {'timestamp': '2017-07-21T22:47:35Z', 'size': 11198},\n",
       " {'timestamp': '2017-07-11T19:10:58Z', 'size': 11124},\n",
       " {'timestamp': '2017-06-13T14:45:36Z', 'size': 11124},\n",
       " {'timestamp': '2017-06-13T07:52:41Z', 'size': 11161},\n",
       " {'timestamp': '2017-04-02T19:29:02Z', 'size': 11119},\n",
       " {'timestamp': '2017-02-02T19:43:30Z', 'size': 10534},\n",
       " {'timestamp': '2017-02-02T19:43:13Z', 'size': 10539},\n",
       " {'timestamp': '2017-01-06T11:06:47Z', 'size': 10470},\n",
       " {'timestamp': '2017-01-01T22:34:56Z', 'size': 10074},\n",
       " {'timestamp': '2016-12-30T21:34:24Z', 'size': 10090},\n",
       " {'timestamp': '2016-09-03T20:01:17Z', 'size': 10091},\n",
       " {'timestamp': '2016-05-13T12:04:44Z', 'size': 10091},\n",
       " {'timestamp': '2016-05-08T10:59:39Z', 'size': 10090},\n",
       " {'timestamp': '2016-04-05T16:21:29Z', 'size': 10091},\n",
       " {'timestamp': '2016-03-27T22:42:24Z', 'size': 10114},\n",
       " {'timestamp': '2016-02-26T05:15:13Z', 'size': 10393},\n",
       " {'timestamp': '2016-02-24T19:46:25Z', 'size': 10436},\n",
       " {'timestamp': '2016-02-24T14:14:27Z', 'size': 10442},\n",
       " {'timestamp': '2016-02-24T14:14:02Z', 'size': 10432},\n",
       " {'timestamp': '2016-02-24T14:13:25Z', 'size': 10429},\n",
       " {'timestamp': '2016-02-24T14:12:37Z', 'size': 10417},\n",
       " {'timestamp': '2016-02-24T14:11:05Z', 'size': 10423},\n",
       " {'timestamp': '2016-02-24T14:10:28Z', 'size': 10418},\n",
       " {'timestamp': '2016-02-24T14:09:41Z', 'size': 10337},\n",
       " {'timestamp': '2016-02-24T14:07:30Z', 'size': 10329},\n",
       " {'timestamp': '2016-02-24T14:04:42Z', 'size': 10324},\n",
       " {'timestamp': '2016-02-24T13:15:43Z', 'size': 10081},\n",
       " {'timestamp': '2016-02-24T13:14:13Z', 'size': 10127},\n",
       " {'timestamp': '2016-02-24T12:39:17Z', 'size': 10128},\n",
       " {'timestamp': '2016-02-24T12:38:35Z', 'size': 10109},\n",
       " {'timestamp': '2016-02-24T12:37:44Z', 'size': 10108},\n",
       " {'timestamp': '2016-02-24T12:35:36Z', 'size': 9994},\n",
       " {'timestamp': '2015-06-22T09:48:26Z', 'size': 9894},\n",
       " {'timestamp': '2015-04-29T15:05:05Z', 'size': 9777},\n",
       " {'timestamp': '2015-02-10T02:49:50Z', 'size': 9791},\n",
       " {'timestamp': '2015-02-10T02:47:38Z', 'size': 9742},\n",
       " {'timestamp': '2015-02-10T02:43:31Z', 'size': 9686},\n",
       " {'timestamp': '2015-01-19T18:04:04Z', 'size': 9394},\n",
       " {'timestamp': '2014-05-16T06:08:49Z', 'size': 8719},\n",
       " {'timestamp': '2014-03-24T10:44:52Z', 'size': 8746},\n",
       " {'timestamp': '2014-03-24T04:59:36Z', 'size': 8726},\n",
       " {'timestamp': '2014-03-17T11:53:33Z', 'size': 8746},\n",
       " {'timestamp': '2014-03-12T15:36:57Z', 'size': 8725},\n",
       " {'timestamp': '2014-03-03T15:38:45Z', 'size': 8745},\n",
       " {'timestamp': '2014-02-22T05:43:33Z', 'size': 8760},\n",
       " {'timestamp': '2014-02-22T05:35:19Z', 'size': 8809},\n",
       " {'timestamp': '2014-02-22T05:28:58Z', 'size': 8775},\n",
       " {'timestamp': '2014-02-13T21:18:32Z', 'size': 8800},\n",
       " {'timestamp': '2014-02-13T21:18:07Z', 'size': 8806},\n",
       " {'timestamp': '2014-02-13T17:28:32Z', 'size': 8780},\n",
       " {'timestamp': '2014-02-13T16:45:55Z', 'size': 8806},\n",
       " {'timestamp': '2014-02-13T16:44:03Z', 'size': 8661},\n",
       " {'timestamp': '2014-02-13T16:42:09Z', 'size': 8664},\n",
       " {'timestamp': '2014-02-13T16:38:37Z', 'size': 8496},\n",
       " {'timestamp': '2014-02-13T16:36:31Z', 'size': 8548},\n",
       " {'timestamp': '2014-02-13T16:32:10Z', 'size': 8763},\n",
       " {'timestamp': '2014-02-13T16:19:30Z', 'size': 8755},\n",
       " {'timestamp': '2014-02-13T16:17:05Z', 'size': 8744},\n",
       " {'timestamp': '2014-02-13T16:15:19Z', 'size': 8639},\n",
       " {'timestamp': '2014-02-13T16:12:24Z', 'size': 8613},\n",
       " {'timestamp': '2014-02-13T16:11:55Z', 'size': 8621},\n",
       " {'timestamp': '2014-02-13T16:11:41Z', 'size': 8627},\n",
       " {'timestamp': '2014-02-13T16:11:05Z', 'size': 8633},\n",
       " {'timestamp': '2014-02-13T16:06:13Z', 'size': 8418},\n",
       " {'timestamp': '2014-02-13T16:03:07Z', 'size': 8315},\n",
       " {'timestamp': '2014-02-13T15:59:45Z', 'size': 8270},\n",
       " {'timestamp': '2014-02-13T15:59:16Z', 'size': 8270},\n",
       " {'timestamp': '2014-02-13T15:57:42Z', 'size': 8237},\n",
       " {'timestamp': '2014-02-13T15:56:40Z', 'size': 8291},\n",
       " {'timestamp': '2014-02-13T15:55:44Z', 'size': 8295},\n",
       " {'timestamp': '2014-02-13T15:54:46Z', 'size': 8285},\n",
       " {'timestamp': '2014-02-13T15:52:35Z', 'size': 8218},\n",
       " {'timestamp': '2014-02-13T15:51:29Z', 'size': 8161},\n",
       " {'timestamp': '2014-02-13T15:44:32Z', 'size': 7432},\n",
       " {'timestamp': '2014-02-13T15:38:45Z', 'size': 5393},\n",
       " {'timestamp': '2014-02-13T15:36:28Z', 'size': 3314},\n",
       " {'timestamp': '2014-02-13T15:32:39Z', 'size': 3342},\n",
       " {'timestamp': '2014-02-13T15:32:37Z', 'size': 5387},\n",
       " {'timestamp': '2014-02-13T15:29:22Z', 'size': 5380},\n",
       " {'timestamp': '2014-02-13T15:19:52Z', 'size': 4505},\n",
       " {'timestamp': '2014-02-13T15:12:03Z', 'size': 3744},\n",
       " {'timestamp': '2014-02-13T14:57:23Z', 'size': 3700},\n",
       " {'timestamp': '2014-02-13T14:55:42Z', 'size': 3681},\n",
       " {'timestamp': '2014-02-13T14:52:21Z', 'size': 3651},\n",
       " {'timestamp': '2014-02-13T14:44:33Z', 'size': 3393},\n",
       " {'timestamp': '2014-02-13T14:42:44Z', 'size': 3308},\n",
       " {'timestamp': '2014-02-13T14:39:06Z', 'size': 3258},\n",
       " {'timestamp': '2014-02-13T14:37:38Z', 'size': 3370},\n",
       " {'timestamp': '2013-11-01T19:24:19Z', 'size': 3342},\n",
       " {'timestamp': '2013-10-23T14:21:20Z', 'size': 3304},\n",
       " {'timestamp': '2013-10-23T14:20:21Z', 'size': 3304},\n",
       " {'timestamp': '2013-10-13T12:19:16Z', 'size': 3304},\n",
       " {'timestamp': '2013-10-13T12:14:48Z', 'size': 3240},\n",
       " {'timestamp': '2013-10-13T12:14:19Z', 'size': 3175},\n",
       " {'timestamp': '2013-10-11T19:40:17Z', 'size': 3175},\n",
       " {'timestamp': '2013-08-22T17:32:03Z', 'size': 3171},\n",
       " {'timestamp': '2013-08-22T13:36:53Z', 'size': 3171},\n",
       " {'timestamp': '2013-05-31T21:44:00Z', 'size': 3140},\n",
       " {'timestamp': '2013-05-31T21:43:13Z', 'size': 3136},\n",
       " {'timestamp': '2012-11-21T16:11:23Z', 'size': 3052},\n",
       " {'timestamp': '2012-10-31T15:07:19Z', 'size': 3016},\n",
       " {'timestamp': '2012-07-22T12:06:43Z', 'size': 3017},\n",
       " {'timestamp': '2012-06-03T10:06:30Z', 'size': 3013},\n",
       " {'timestamp': '2012-03-13T19:55:34Z', 'size': 2986},\n",
       " {'timestamp': '2011-03-19T14:09:57Z', 'size': 2724},\n",
       " {'timestamp': '2011-02-18T15:10:52Z', 'size': 2710},\n",
       " {'timestamp': '2011-01-07T10:59:27Z', 'size': 2762},\n",
       " {'timestamp': '2010-10-27T01:44:40Z', 'size': 2751},\n",
       " {'timestamp': '2010-08-24T14:08:56Z', 'size': 2510},\n",
       " {'timestamp': '2009-12-18T14:25:36Z', 'size': 2511},\n",
       " {'timestamp': '2009-12-01T02:30:40Z', 'size': 2296},\n",
       " {'timestamp': '2009-12-01T02:27:49Z', 'size': 2037},\n",
       " {'timestamp': '2009-06-27T19:26:57Z', 'size': 1665},\n",
       " {'timestamp': '2009-04-07T11:07:44Z', 'size': 1684},\n",
       " {'timestamp': '2008-11-01T21:14:26Z', 'size': 1683},\n",
       " {'timestamp': '2008-09-12T15:14:32Z', 'size': 1682},\n",
       " {'timestamp': '2008-09-12T10:30:39Z', 'size': 1778},\n",
       " {'timestamp': '2008-09-12T10:30:20Z', 'size': 1777},\n",
       " {'timestamp': '2008-08-21T05:28:28Z', 'size': 1682},\n",
       " {'timestamp': '2007-09-15T14:32:40Z', 'size': 1439},\n",
       " {'timestamp': '2007-08-08T09:49:59Z', 'size': 1441},\n",
       " {'timestamp': '2007-08-08T09:44:51Z', 'size': 1431},\n",
       " {'timestamp': '2007-08-08T05:30:06Z', 'size': 1409},\n",
       " {'timestamp': '2007-08-08T05:22:06Z', 'size': 1432},\n",
       " {'timestamp': '2007-08-08T05:16:56Z', 'size': 1489},\n",
       " {'timestamp': '2007-08-08T05:10:12Z', 'size': 1121},\n",
       " {'timestamp': '2007-08-08T05:01:20Z', 'size': 1120},\n",
       " {'timestamp': '2007-08-08T04:52:19Z', 'size': 898},\n",
       " {'timestamp': '2007-08-08T04:39:07Z', 'size': 2726},\n",
       " {'timestamp': '2007-08-08T04:38:22Z', 'size': 2726},\n",
       " {'timestamp': '2007-08-08T04:33:27Z', 'size': 2679},\n",
       " {'timestamp': '2007-08-08T04:27:08Z', 'size': 2667},\n",
       " {'timestamp': '2007-08-08T04:23:07Z', 'size': 2612},\n",
       " {'timestamp': '2007-08-08T04:20:34Z', 'size': 2634},\n",
       " {'timestamp': '2007-08-08T04:14:12Z', 'size': 2614}]"
      ]
     },
     "execution_count": 1284,
     "metadata": {},
     "output_type": "execute_result"
    }
   ],
   "source": [
    "revs"
   ]
  },
  {
   "cell_type": "code",
   "execution_count": null,
   "metadata": {},
   "outputs": [],
   "source": [
    "# Paralllelize queries to the API"
   ]
  }
 ],
 "metadata": {
  "kernelspec": {
   "display_name": "wiki-env",
   "language": "python",
   "name": "wiki-env"
  },
  "language_info": {
   "codemirror_mode": {
    "name": "ipython",
    "version": 3
   },
   "file_extension": ".py",
   "mimetype": "text/x-python",
   "name": "python",
   "nbconvert_exporter": "python",
   "pygments_lexer": "ipython3",
   "version": "3.8.5"
  }
 },
 "nbformat": 4,
 "nbformat_minor": 4
}
