{
 "cells": [
  {
   "cell_type": "code",
   "execution_count": 33,
   "metadata": {},
   "outputs": [],
   "source": [
    "import os\n",
    "import pandas as pd\n",
    "from datetime import datetime"
   ]
  },
  {
   "cell_type": "markdown",
   "metadata": {},
   "source": [
    "# Provided lists"
   ]
  },
  {
   "cell_type": "code",
   "execution_count": 34,
   "metadata": {},
   "outputs": [
    {
     "data": {
      "text/plain": [
       "['Dr. Honoris Causa Liste - Feuil1.csv',\n",
       " 'EPFL 50 Points - Sheet1.csv',\n",
       " 'EPFL Alumni List - Template Top 100.csv',\n",
       " 'EPFL Major Awards - Awards list.csv',\n",
       " 'EPFL Startups - Spin-of Exit.csv',\n",
       " '[DO NOT USE] EPFL_Professors Wiki pages Summary WITH CODE - WORK.csv']"
      ]
     },
     "execution_count": 34,
     "metadata": {},
     "output_type": "execute_result"
    }
   ],
   "source": [
    "dn = os.path.join(\"csv\", \"lists\")\n",
    "fns = os.listdir(dn)\n",
    "fns"
   ]
  },
  {
   "cell_type": "code",
   "execution_count": 35,
   "metadata": {},
   "outputs": [
    {
     "data": {
      "text/html": [
       "<div>\n",
       "<style scoped>\n",
       "    .dataframe tbody tr th:only-of-type {\n",
       "        vertical-align: middle;\n",
       "    }\n",
       "\n",
       "    .dataframe tbody tr th {\n",
       "        vertical-align: top;\n",
       "    }\n",
       "\n",
       "    .dataframe thead th {\n",
       "        text-align: right;\n",
       "    }\n",
       "</style>\n",
       "<table border=\"1\" class=\"dataframe\">\n",
       "  <thead>\n",
       "    <tr style=\"text-align: right;\">\n",
       "      <th></th>\n",
       "      <th>Prénom</th>\n",
       "      <th>Nom</th>\n",
       "    </tr>\n",
       "  </thead>\n",
       "  <tbody>\n",
       "    <tr>\n",
       "      <th>0</th>\n",
       "      <td>Maria</td>\n",
       "      <td>Leptin</td>\n",
       "    </tr>\n",
       "    <tr>\n",
       "      <th>1</th>\n",
       "      <td>Martine</td>\n",
       "      <td>Clozel</td>\n",
       "    </tr>\n",
       "    <tr>\n",
       "      <th>2</th>\n",
       "      <td>Yann</td>\n",
       "      <td>Lecun</td>\n",
       "    </tr>\n",
       "    <tr>\n",
       "      <th>3</th>\n",
       "      <td>Suzan G.</td>\n",
       "      <td>Levine</td>\n",
       "    </tr>\n",
       "    <tr>\n",
       "      <th>4</th>\n",
       "      <td>Yves</td>\n",
       "      <td>Meyer</td>\n",
       "    </tr>\n",
       "  </tbody>\n",
       "</table>\n",
       "</div>"
      ],
      "text/plain": [
       "      Prénom     Nom\n",
       "0     Maria   Leptin\n",
       "1   Martine   Clozel\n",
       "2      Yann    Lecun\n",
       "3  Suzan G.   Levine\n",
       "4      Yves    Meyer"
      ]
     },
     "execution_count": 35,
     "metadata": {},
     "output_type": "execute_result"
    }
   ],
   "source": [
    "with open(os.path.join(dn, fns[0]), \"rb\") as f:\n",
    "    df = pd.read_csv(f)\n",
    "    \n",
    "df_hc = df.iloc[:,1:]\n",
    "df_hc.head()"
   ]
  },
  {
   "cell_type": "code",
   "execution_count": 36,
   "metadata": {},
   "outputs": [
    {
     "data": {
      "text/html": [
       "<div>\n",
       "<style scoped>\n",
       "    .dataframe tbody tr th:only-of-type {\n",
       "        vertical-align: middle;\n",
       "    }\n",
       "\n",
       "    .dataframe tbody tr th {\n",
       "        vertical-align: top;\n",
       "    }\n",
       "\n",
       "    .dataframe thead th {\n",
       "        text-align: right;\n",
       "    }\n",
       "</style>\n",
       "<table border=\"1\" class=\"dataframe\">\n",
       "  <thead>\n",
       "    <tr style=\"text-align: right;\">\n",
       "      <th></th>\n",
       "      <th>Unnamed: 1</th>\n",
       "    </tr>\n",
       "  </thead>\n",
       "  <tbody>\n",
       "    <tr>\n",
       "      <th>1</th>\n",
       "      <td>Point</td>\n",
       "    </tr>\n",
       "    <tr>\n",
       "      <th>2</th>\n",
       "      <td>Mouse</td>\n",
       "    </tr>\n",
       "    <tr>\n",
       "      <th>3</th>\n",
       "      <td>SCALA</td>\n",
       "    </tr>\n",
       "    <tr>\n",
       "      <th>4</th>\n",
       "      <td>MOOC</td>\n",
       "    </tr>\n",
       "    <tr>\n",
       "      <th>5</th>\n",
       "      <td>EPFL EXTENSION SCHOOL</td>\n",
       "    </tr>\n",
       "  </tbody>\n",
       "</table>\n",
       "</div>"
      ],
      "text/plain": [
       "              Unnamed: 1\n",
       "1                  Point\n",
       "2                  Mouse\n",
       "3                  SCALA\n",
       "4                   MOOC\n",
       "5  EPFL EXTENSION SCHOOL"
      ]
     },
     "execution_count": 36,
     "metadata": {},
     "output_type": "execute_result"
    }
   ],
   "source": [
    "with open(os.path.join(dn, fns[1]), \"rb\") as f:\n",
    "    df = pd.read_csv(f)\n",
    "    \n",
    "df_50 = df.iloc[1:,1:2]\n",
    "df_50.head()"
   ]
  },
  {
   "cell_type": "code",
   "execution_count": 37,
   "metadata": {},
   "outputs": [
    {
     "data": {
      "text/html": [
       "<div>\n",
       "<style scoped>\n",
       "    .dataframe tbody tr th:only-of-type {\n",
       "        vertical-align: middle;\n",
       "    }\n",
       "\n",
       "    .dataframe tbody tr th {\n",
       "        vertical-align: top;\n",
       "    }\n",
       "\n",
       "    .dataframe thead th {\n",
       "        text-align: right;\n",
       "    }\n",
       "</style>\n",
       "<table border=\"1\" class=\"dataframe\">\n",
       "  <thead>\n",
       "    <tr style=\"text-align: right;\">\n",
       "      <th></th>\n",
       "      <th>Name</th>\n",
       "      <th>Firstname</th>\n",
       "    </tr>\n",
       "  </thead>\n",
       "  <tbody>\n",
       "    <tr>\n",
       "      <th>0</th>\n",
       "      <td>Aeschlimann</td>\n",
       "      <td>Christoph</td>\n",
       "    </tr>\n",
       "    <tr>\n",
       "      <th>1</th>\n",
       "      <td>Agrawal</td>\n",
       "      <td>Dharma Prakash</td>\n",
       "    </tr>\n",
       "    <tr>\n",
       "      <th>2</th>\n",
       "      <td>Azevedo</td>\n",
       "      <td>Duarte Paulo</td>\n",
       "    </tr>\n",
       "    <tr>\n",
       "      <th>3</th>\n",
       "      <td>Batato</td>\n",
       "      <td>Magdi</td>\n",
       "    </tr>\n",
       "    <tr>\n",
       "      <th>4</th>\n",
       "      <td>Baumgartner-Harris</td>\n",
       "      <td>Pauline</td>\n",
       "    </tr>\n",
       "  </tbody>\n",
       "</table>\n",
       "</div>"
      ],
      "text/plain": [
       "                 Name       Firstname\n",
       "0         Aeschlimann       Christoph\n",
       "1             Agrawal  Dharma Prakash\n",
       "2             Azevedo    Duarte Paulo\n",
       "3              Batato           Magdi\n",
       "4  Baumgartner-Harris         Pauline"
      ]
     },
     "execution_count": 37,
     "metadata": {},
     "output_type": "execute_result"
    }
   ],
   "source": [
    "with open(os.path.join(dn, fns[2]), \"rb\") as f:\n",
    "    df = pd.read_csv(f)\n",
    "    \n",
    "df_alu = df.iloc[:,:2]\n",
    "df_alu.head()"
   ]
  },
  {
   "cell_type": "code",
   "execution_count": 38,
   "metadata": {},
   "outputs": [
    {
     "data": {
      "text/html": [
       "<div>\n",
       "<style scoped>\n",
       "    .dataframe tbody tr th:only-of-type {\n",
       "        vertical-align: middle;\n",
       "    }\n",
       "\n",
       "    .dataframe tbody tr th {\n",
       "        vertical-align: top;\n",
       "    }\n",
       "\n",
       "    .dataframe thead th {\n",
       "        text-align: right;\n",
       "    }\n",
       "</style>\n",
       "<table border=\"1\" class=\"dataframe\">\n",
       "  <thead>\n",
       "    <tr style=\"text-align: right;\">\n",
       "      <th></th>\n",
       "      <th>List of Major Awards and Honours</th>\n",
       "      <th>Unnamed: 3</th>\n",
       "    </tr>\n",
       "  </thead>\n",
       "  <tbody>\n",
       "    <tr>\n",
       "      <th>4</th>\n",
       "      <td>IEEE Information Theory Society Paper Award</td>\n",
       "      <td>Prof. Emmanuel Abbé</td>\n",
       "    </tr>\n",
       "    <tr>\n",
       "      <th>5</th>\n",
       "      <td>Green Chemistry Award 2020 from the Royal Soci...</td>\n",
       "      <td>Prof. Paul J. Dyson</td>\n",
       "    </tr>\n",
       "    <tr>\n",
       "      <th>6</th>\n",
       "      <td>Rodolphe and Renée Haenny Foundation award</td>\n",
       "      <td>Dr. Giovanni Pizzi (scientist)</td>\n",
       "    </tr>\n",
       "    <tr>\n",
       "      <th>7</th>\n",
       "      <td>Shortlisted for the A F Harvey Prize</td>\n",
       "      <td>Prof. Gregoire Courtine</td>\n",
       "    </tr>\n",
       "    <tr>\n",
       "      <th>8</th>\n",
       "      <td>Shortlisted for the A F Harvey Prize</td>\n",
       "      <td>Prof. Stephanie Lacour</td>\n",
       "    </tr>\n",
       "  </tbody>\n",
       "</table>\n",
       "</div>"
      ],
      "text/plain": [
       "                    List of Major Awards and Honours  \\\n",
       "4        IEEE Information Theory Society Paper Award   \n",
       "5  Green Chemistry Award 2020 from the Royal Soci...   \n",
       "6         Rodolphe and Renée Haenny Foundation award   \n",
       "7               Shortlisted for the A F Harvey Prize   \n",
       "8               Shortlisted for the A F Harvey Prize   \n",
       "\n",
       "                       Unnamed: 3  \n",
       "4             Prof. Emmanuel Abbé  \n",
       "5             Prof. Paul J. Dyson  \n",
       "6  Dr. Giovanni Pizzi (scientist)  \n",
       "7         Prof. Gregoire Courtine  \n",
       "8          Prof. Stephanie Lacour  "
      ]
     },
     "execution_count": 38,
     "metadata": {},
     "output_type": "execute_result"
    }
   ],
   "source": [
    "with open(os.path.join(dn, fns[3]), \"rb\") as f:\n",
    "    df = pd.read_csv(f)\n",
    "    \n",
    "df_awa = df.iloc[4:,2:4]\n",
    "df_awa.head()"
   ]
  },
  {
   "cell_type": "code",
   "execution_count": 39,
   "metadata": {},
   "outputs": [
    {
     "data": {
      "text/html": [
       "<div>\n",
       "<style scoped>\n",
       "    .dataframe tbody tr th:only-of-type {\n",
       "        vertical-align: middle;\n",
       "    }\n",
       "\n",
       "    .dataframe tbody tr th {\n",
       "        vertical-align: top;\n",
       "    }\n",
       "\n",
       "    .dataframe thead th {\n",
       "        text-align: right;\n",
       "    }\n",
       "</style>\n",
       "<table border=\"1\" class=\"dataframe\">\n",
       "  <thead>\n",
       "    <tr style=\"text-align: right;\">\n",
       "      <th></th>\n",
       "      <th>Spin-off exits (M&amp;As, IPOs)</th>\n",
       "    </tr>\n",
       "  </thead>\n",
       "  <tbody>\n",
       "    <tr>\n",
       "      <th>2</th>\n",
       "      <td>Logitech</td>\n",
       "    </tr>\n",
       "    <tr>\n",
       "      <th>3</th>\n",
       "      <td>Demaurex</td>\n",
       "    </tr>\n",
       "    <tr>\n",
       "      <th>4</th>\n",
       "      <td>Modex Therapeutics</td>\n",
       "    </tr>\n",
       "    <tr>\n",
       "      <th>5</th>\n",
       "      <td>Snaketech</td>\n",
       "    </tr>\n",
       "    <tr>\n",
       "      <th>6</th>\n",
       "      <td>Cytion</td>\n",
       "    </tr>\n",
       "  </tbody>\n",
       "</table>\n",
       "</div>"
      ],
      "text/plain": [
       "  Spin-off exits (M&As, IPOs)\n",
       "2                    Logitech\n",
       "3                    Demaurex\n",
       "4          Modex Therapeutics\n",
       "5                   Snaketech\n",
       "6                      Cytion"
      ]
     },
     "execution_count": 39,
     "metadata": {},
     "output_type": "execute_result"
    }
   ],
   "source": [
    "with open(os.path.join(dn, fns[4]), \"rb\") as f:\n",
    "    df = pd.read_csv(f)\n",
    "    \n",
    "df_su = df.iloc[2:,:1]\n",
    "df_su.head()"
   ]
  },
  {
   "cell_type": "code",
   "execution_count": 40,
   "metadata": {},
   "outputs": [
    {
     "data": {
      "text/html": [
       "<div>\n",
       "<style scoped>\n",
       "    .dataframe tbody tr th:only-of-type {\n",
       "        vertical-align: middle;\n",
       "    }\n",
       "\n",
       "    .dataframe tbody tr th {\n",
       "        vertical-align: top;\n",
       "    }\n",
       "\n",
       "    .dataframe thead th {\n",
       "        text-align: right;\n",
       "    }\n",
       "</style>\n",
       "<table border=\"1\" class=\"dataframe\">\n",
       "  <thead>\n",
       "    <tr style=\"text-align: right;\">\n",
       "      <th></th>\n",
       "      <th>First Name</th>\n",
       "      <th>Last Name</th>\n",
       "    </tr>\n",
       "  </thead>\n",
       "  <tbody>\n",
       "    <tr>\n",
       "      <th>0</th>\n",
       "      <td>Michaël</td>\n",
       "      <td>Unser</td>\n",
       "    </tr>\n",
       "    <tr>\n",
       "      <th>1</th>\n",
       "      <td>Joachim</td>\n",
       "      <td>Lingner</td>\n",
       "    </tr>\n",
       "    <tr>\n",
       "      <th>2</th>\n",
       "      <td>Cathrin</td>\n",
       "      <td>Brisken</td>\n",
       "    </tr>\n",
       "    <tr>\n",
       "      <th>3</th>\n",
       "      <td>Bart</td>\n",
       "      <td>Deplancke</td>\n",
       "    </tr>\n",
       "    <tr>\n",
       "      <th>4</th>\n",
       "      <td>Jacques</td>\n",
       "      <td>Fellay</td>\n",
       "    </tr>\n",
       "  </tbody>\n",
       "</table>\n",
       "</div>"
      ],
      "text/plain": [
       "  First Name  Last Name\n",
       "0    Michaël      Unser\n",
       "1    Joachim    Lingner\n",
       "2    Cathrin    Brisken\n",
       "3       Bart  Deplancke\n",
       "4    Jacques     Fellay"
      ]
     },
     "execution_count": 40,
     "metadata": {},
     "output_type": "execute_result"
    }
   ],
   "source": [
    "with open(os.path.join(dn, fns[5]), \"rb\") as f:\n",
    "    df = pd.read_csv(f)\n",
    "    \n",
    "df_prof = df.iloc[:431,8:10]\n",
    "df_prof.head()"
   ]
  },
  {
   "cell_type": "markdown",
   "metadata": {},
   "source": [
    "# Wikistats"
   ]
  },
  {
   "cell_type": "code",
   "execution_count": 41,
   "metadata": {},
   "outputs": [
    {
     "data": {
      "text/plain": [
       "['.ipynb_checkpoints',\n",
       " 'net_bytes_diff.csv',\n",
       " 'size_all.csv',\n",
       " 'size_de.csv',\n",
       " 'size_en.csv',\n",
       " 'size_fr.csv',\n",
       " 'total_en_pages.csv',\n",
       " 'total_en_pageviews.csv',\n",
       " 'total_en_page_edits.csv']"
      ]
     },
     "execution_count": 41,
     "metadata": {},
     "output_type": "execute_result"
    }
   ],
   "source": [
    "dn = os.path.join(\"csv\", \"wikistats\")\n",
    "fns = os.listdir(dn)\n",
    "fns"
   ]
  },
  {
   "cell_type": "code",
   "execution_count": 42,
   "metadata": {},
   "outputs": [
    {
     "data": {
      "text/plain": [
       "<AxesSubplot:xlabel='month'>"
      ]
     },
     "execution_count": 42,
     "metadata": {},
     "output_type": "execute_result"
    },
    {
     "data": {
      "image/png": "[encoded data removed]",
      "text/plain": [
       "<Figure size 648x432 with 1 Axes>"
      ]
     },
     "metadata": {
      "needs_background": "light"
     },
     "output_type": "display_data"
    }
   ],
   "source": [
    "dfs = []\n",
    "\n",
    "for fn in fns:\n",
    "    if fn[-4:] == \".csv\":\n",
    "        with open(os.path.join(dn, fn), \"rb\") as f:\n",
    "            dfs.append(pd.read_csv(f))\n",
    "\n",
    "dfs = [df.iloc[:,:2].set_index([\"month\"]) for df in dfs]\n",
    "\n",
    "for df in dfs:\n",
    "    df.index = df.index.map(lambda t : datetime.strptime(t, '%Y-%m-%dT%H:%M:%S.%fZ').date())\n",
    "last = pd.concat(dfs[1:5], axis=1)\n",
    "last.columns = [\"all\", \"de\", \"en\", \"fr\"]\n",
    "last.plot(logy=True, figsize=(9,6))"
   ]
  },
  {
   "cell_type": "markdown",
   "metadata": {},
   "source": [
    "## Files"
   ]
  },
  {
   "cell_type": "code",
   "execution_count": 43,
   "metadata": {},
   "outputs": [],
   "source": [
    "import os\n",
    "import pandas as pd\n",
    "\n",
    "with open(os.path.join(\"pickles\", os.listdir(\"pickles\")[2]), \"rb\") as f:\n",
    "    x = pd.read_pickle(f)"
   ]
  },
  {
   "cell_type": "code",
   "execution_count": 44,
   "metadata": {},
   "outputs": [
    {
     "data": {
      "text/html": [
       "<div>\n",
       "<style scoped>\n",
       "    .dataframe tbody tr th:only-of-type {\n",
       "        vertical-align: middle;\n",
       "    }\n",
       "\n",
       "    .dataframe tbody tr th {\n",
       "        vertical-align: top;\n",
       "    }\n",
       "\n",
       "    .dataframe thead th {\n",
       "        text-align: right;\n",
       "    }\n",
       "</style>\n",
       "<table border=\"1\" class=\"dataframe\">\n",
       "  <thead>\n",
       "    <tr style=\"text-align: right;\">\n",
       "      <th></th>\n",
       "      <th>Q62512191</th>\n",
       "      <th>Q3290884</th>\n",
       "      <th>Q2607895</th>\n",
       "      <th>Q96409910</th>\n",
       "      <th>Q16725863</th>\n",
       "      <th>Q52857</th>\n",
       "      <th>Q7432967</th>\n",
       "      <th>Q7579890</th>\n",
       "      <th>Q437458</th>\n",
       "      <th>Q88160407</th>\n",
       "      <th>...</th>\n",
       "      <th>Q5412815</th>\n",
       "      <th>Q28454619</th>\n",
       "      <th>Q1515625</th>\n",
       "      <th>Q6598307</th>\n",
       "      <th>Q16557</th>\n",
       "      <th>Q344334</th>\n",
       "      <th>Q2858616</th>\n",
       "      <th>Q63346702</th>\n",
       "      <th>Q17041756</th>\n",
       "      <th>Q7134954</th>\n",
       "    </tr>\n",
       "    <tr>\n",
       "      <th>0</th>\n",
       "      <th></th>\n",
       "      <th></th>\n",
       "      <th></th>\n",
       "      <th></th>\n",
       "      <th></th>\n",
       "      <th></th>\n",
       "      <th></th>\n",
       "      <th></th>\n",
       "      <th></th>\n",
       "      <th></th>\n",
       "      <th></th>\n",
       "      <th></th>\n",
       "      <th></th>\n",
       "      <th></th>\n",
       "      <th></th>\n",
       "      <th></th>\n",
       "      <th></th>\n",
       "      <th></th>\n",
       "      <th></th>\n",
       "      <th></th>\n",
       "      <th></th>\n",
       "    </tr>\n",
       "  </thead>\n",
       "  <tbody>\n",
       "    <tr>\n",
       "      <th>2001-04-01</th>\n",
       "      <td>NaN</td>\n",
       "      <td>NaN</td>\n",
       "      <td>NaN</td>\n",
       "      <td>NaN</td>\n",
       "      <td>NaN</td>\n",
       "      <td>NaN</td>\n",
       "      <td>NaN</td>\n",
       "      <td>NaN</td>\n",
       "      <td>NaN</td>\n",
       "      <td>NaN</td>\n",
       "      <td>...</td>\n",
       "      <td>NaN</td>\n",
       "      <td>NaN</td>\n",
       "      <td>NaN</td>\n",
       "      <td>NaN</td>\n",
       "      <td>NaN</td>\n",
       "      <td>NaN</td>\n",
       "      <td>NaN</td>\n",
       "      <td>NaN</td>\n",
       "      <td>NaN</td>\n",
       "      <td>NaN</td>\n",
       "    </tr>\n",
       "    <tr>\n",
       "      <th>2001-05-01</th>\n",
       "      <td>NaN</td>\n",
       "      <td>NaN</td>\n",
       "      <td>NaN</td>\n",
       "      <td>NaN</td>\n",
       "      <td>NaN</td>\n",
       "      <td>NaN</td>\n",
       "      <td>NaN</td>\n",
       "      <td>NaN</td>\n",
       "      <td>NaN</td>\n",
       "      <td>NaN</td>\n",
       "      <td>...</td>\n",
       "      <td>NaN</td>\n",
       "      <td>NaN</td>\n",
       "      <td>NaN</td>\n",
       "      <td>NaN</td>\n",
       "      <td>NaN</td>\n",
       "      <td>NaN</td>\n",
       "      <td>NaN</td>\n",
       "      <td>NaN</td>\n",
       "      <td>NaN</td>\n",
       "      <td>NaN</td>\n",
       "    </tr>\n",
       "    <tr>\n",
       "      <th>2001-06-01</th>\n",
       "      <td>NaN</td>\n",
       "      <td>NaN</td>\n",
       "      <td>NaN</td>\n",
       "      <td>NaN</td>\n",
       "      <td>NaN</td>\n",
       "      <td>NaN</td>\n",
       "      <td>NaN</td>\n",
       "      <td>NaN</td>\n",
       "      <td>NaN</td>\n",
       "      <td>NaN</td>\n",
       "      <td>...</td>\n",
       "      <td>NaN</td>\n",
       "      <td>NaN</td>\n",
       "      <td>NaN</td>\n",
       "      <td>NaN</td>\n",
       "      <td>NaN</td>\n",
       "      <td>NaN</td>\n",
       "      <td>NaN</td>\n",
       "      <td>NaN</td>\n",
       "      <td>NaN</td>\n",
       "      <td>NaN</td>\n",
       "    </tr>\n",
       "    <tr>\n",
       "      <th>2001-07-01</th>\n",
       "      <td>NaN</td>\n",
       "      <td>NaN</td>\n",
       "      <td>NaN</td>\n",
       "      <td>NaN</td>\n",
       "      <td>NaN</td>\n",
       "      <td>NaN</td>\n",
       "      <td>NaN</td>\n",
       "      <td>NaN</td>\n",
       "      <td>NaN</td>\n",
       "      <td>NaN</td>\n",
       "      <td>...</td>\n",
       "      <td>NaN</td>\n",
       "      <td>NaN</td>\n",
       "      <td>NaN</td>\n",
       "      <td>NaN</td>\n",
       "      <td>NaN</td>\n",
       "      <td>NaN</td>\n",
       "      <td>NaN</td>\n",
       "      <td>NaN</td>\n",
       "      <td>NaN</td>\n",
       "      <td>NaN</td>\n",
       "    </tr>\n",
       "    <tr>\n",
       "      <th>2001-08-01</th>\n",
       "      <td>NaN</td>\n",
       "      <td>NaN</td>\n",
       "      <td>NaN</td>\n",
       "      <td>NaN</td>\n",
       "      <td>NaN</td>\n",
       "      <td>NaN</td>\n",
       "      <td>NaN</td>\n",
       "      <td>NaN</td>\n",
       "      <td>NaN</td>\n",
       "      <td>NaN</td>\n",
       "      <td>...</td>\n",
       "      <td>NaN</td>\n",
       "      <td>NaN</td>\n",
       "      <td>NaN</td>\n",
       "      <td>NaN</td>\n",
       "      <td>NaN</td>\n",
       "      <td>NaN</td>\n",
       "      <td>NaN</td>\n",
       "      <td>NaN</td>\n",
       "      <td>NaN</td>\n",
       "      <td>NaN</td>\n",
       "    </tr>\n",
       "    <tr>\n",
       "      <th>...</th>\n",
       "      <td>...</td>\n",
       "      <td>...</td>\n",
       "      <td>...</td>\n",
       "      <td>...</td>\n",
       "      <td>...</td>\n",
       "      <td>...</td>\n",
       "      <td>...</td>\n",
       "      <td>...</td>\n",
       "      <td>...</td>\n",
       "      <td>...</td>\n",
       "      <td>...</td>\n",
       "      <td>...</td>\n",
       "      <td>...</td>\n",
       "      <td>...</td>\n",
       "      <td>...</td>\n",
       "      <td>...</td>\n",
       "      <td>...</td>\n",
       "      <td>...</td>\n",
       "      <td>...</td>\n",
       "      <td>...</td>\n",
       "      <td>...</td>\n",
       "    </tr>\n",
       "    <tr>\n",
       "      <th>2020-09-01</th>\n",
       "      <td>9681.0</td>\n",
       "      <td>3454.0</td>\n",
       "      <td>20622.0</td>\n",
       "      <td>168030.0</td>\n",
       "      <td>78420.0</td>\n",
       "      <td>43170.0</td>\n",
       "      <td>48355.0</td>\n",
       "      <td>27017.0</td>\n",
       "      <td>44926.0</td>\n",
       "      <td>NaN</td>\n",
       "      <td>...</td>\n",
       "      <td>3567.0</td>\n",
       "      <td>40662.0</td>\n",
       "      <td>37704.0</td>\n",
       "      <td>125296.0</td>\n",
       "      <td>194596.0</td>\n",
       "      <td>35397.0</td>\n",
       "      <td>11209.0</td>\n",
       "      <td>34337.0</td>\n",
       "      <td>4286.0</td>\n",
       "      <td>1802.0</td>\n",
       "    </tr>\n",
       "    <tr>\n",
       "      <th>2020-10-01</th>\n",
       "      <td>9681.0</td>\n",
       "      <td>3628.0</td>\n",
       "      <td>20622.0</td>\n",
       "      <td>189738.0</td>\n",
       "      <td>78375.0</td>\n",
       "      <td>43170.0</td>\n",
       "      <td>48355.0</td>\n",
       "      <td>27017.0</td>\n",
       "      <td>44926.0</td>\n",
       "      <td>15049.0</td>\n",
       "      <td>...</td>\n",
       "      <td>3567.0</td>\n",
       "      <td>40662.0</td>\n",
       "      <td>37704.0</td>\n",
       "      <td>125362.0</td>\n",
       "      <td>206026.0</td>\n",
       "      <td>35283.0</td>\n",
       "      <td>11209.0</td>\n",
       "      <td>34461.0</td>\n",
       "      <td>4286.0</td>\n",
       "      <td>1823.0</td>\n",
       "    </tr>\n",
       "    <tr>\n",
       "      <th>2020-11-01</th>\n",
       "      <td>9681.0</td>\n",
       "      <td>3628.0</td>\n",
       "      <td>20622.0</td>\n",
       "      <td>189769.0</td>\n",
       "      <td>79299.0</td>\n",
       "      <td>43394.0</td>\n",
       "      <td>48331.0</td>\n",
       "      <td>28075.0</td>\n",
       "      <td>44926.0</td>\n",
       "      <td>15005.0</td>\n",
       "      <td>...</td>\n",
       "      <td>3567.0</td>\n",
       "      <td>40654.0</td>\n",
       "      <td>37592.0</td>\n",
       "      <td>125255.0</td>\n",
       "      <td>206057.0</td>\n",
       "      <td>35305.0</td>\n",
       "      <td>11209.0</td>\n",
       "      <td>34466.0</td>\n",
       "      <td>4286.0</td>\n",
       "      <td>1823.0</td>\n",
       "    </tr>\n",
       "    <tr>\n",
       "      <th>2020-12-01</th>\n",
       "      <td>9681.0</td>\n",
       "      <td>3628.0</td>\n",
       "      <td>20569.0</td>\n",
       "      <td>189769.0</td>\n",
       "      <td>79319.0</td>\n",
       "      <td>44067.0</td>\n",
       "      <td>48331.0</td>\n",
       "      <td>31449.0</td>\n",
       "      <td>44856.0</td>\n",
       "      <td>14493.0</td>\n",
       "      <td>...</td>\n",
       "      <td>3571.0</td>\n",
       "      <td>40071.0</td>\n",
       "      <td>37592.0</td>\n",
       "      <td>125496.0</td>\n",
       "      <td>206686.0</td>\n",
       "      <td>34688.0</td>\n",
       "      <td>11209.0</td>\n",
       "      <td>34627.0</td>\n",
       "      <td>4286.0</td>\n",
       "      <td>1823.0</td>\n",
       "    </tr>\n",
       "    <tr>\n",
       "      <th>2021-01-01</th>\n",
       "      <td>9681.0</td>\n",
       "      <td>3628.0</td>\n",
       "      <td>20430.0</td>\n",
       "      <td>202742.0</td>\n",
       "      <td>79985.0</td>\n",
       "      <td>44419.0</td>\n",
       "      <td>48652.0</td>\n",
       "      <td>31855.0</td>\n",
       "      <td>44856.0</td>\n",
       "      <td>14493.0</td>\n",
       "      <td>...</td>\n",
       "      <td>3571.0</td>\n",
       "      <td>40071.0</td>\n",
       "      <td>37592.0</td>\n",
       "      <td>128191.0</td>\n",
       "      <td>205833.0</td>\n",
       "      <td>34685.0</td>\n",
       "      <td>11197.0</td>\n",
       "      <td>34746.0</td>\n",
       "      <td>4286.0</td>\n",
       "      <td>1823.0</td>\n",
       "    </tr>\n",
       "  </tbody>\n",
       "</table>\n",
       "<p>238 rows × 106 columns</p>\n",
       "</div>"
      ],
      "text/plain": [
       "            Q62512191  Q3290884  Q2607895  Q96409910  Q16725863   Q52857  \\\n",
       "0                                                                          \n",
       "2001-04-01        NaN       NaN       NaN        NaN        NaN      NaN   \n",
       "2001-05-01        NaN       NaN       NaN        NaN        NaN      NaN   \n",
       "2001-06-01        NaN       NaN       NaN        NaN        NaN      NaN   \n",
       "2001-07-01        NaN       NaN       NaN        NaN        NaN      NaN   \n",
       "2001-08-01        NaN       NaN       NaN        NaN        NaN      NaN   \n",
       "...               ...       ...       ...        ...        ...      ...   \n",
       "2020-09-01     9681.0    3454.0   20622.0   168030.0    78420.0  43170.0   \n",
       "2020-10-01     9681.0    3628.0   20622.0   189738.0    78375.0  43170.0   \n",
       "2020-11-01     9681.0    3628.0   20622.0   189769.0    79299.0  43394.0   \n",
       "2020-12-01     9681.0    3628.0   20569.0   189769.0    79319.0  44067.0   \n",
       "2021-01-01     9681.0    3628.0   20430.0   202742.0    79985.0  44419.0   \n",
       "\n",
       "            Q7432967  Q7579890  Q437458  Q88160407  ...  Q5412815  Q28454619  \\\n",
       "0                                                   ...                        \n",
       "2001-04-01       NaN       NaN      NaN        NaN  ...       NaN        NaN   \n",
       "2001-05-01       NaN       NaN      NaN        NaN  ...       NaN        NaN   \n",
       "2001-06-01       NaN       NaN      NaN        NaN  ...       NaN        NaN   \n",
       "2001-07-01       NaN       NaN      NaN        NaN  ...       NaN        NaN   \n",
       "2001-08-01       NaN       NaN      NaN        NaN  ...       NaN        NaN   \n",
       "...              ...       ...      ...        ...  ...       ...        ...   \n",
       "2020-09-01   48355.0   27017.0  44926.0        NaN  ...    3567.0    40662.0   \n",
       "2020-10-01   48355.0   27017.0  44926.0    15049.0  ...    3567.0    40662.0   \n",
       "2020-11-01   48331.0   28075.0  44926.0    15005.0  ...    3567.0    40654.0   \n",
       "2020-12-01   48331.0   31449.0  44856.0    14493.0  ...    3571.0    40071.0   \n",
       "2021-01-01   48652.0   31855.0  44856.0    14493.0  ...    3571.0    40071.0   \n",
       "\n",
       "            Q1515625  Q6598307    Q16557  Q344334  Q2858616  Q63346702  \\\n",
       "0                                                                        \n",
       "2001-04-01       NaN       NaN       NaN      NaN       NaN        NaN   \n",
       "2001-05-01       NaN       NaN       NaN      NaN       NaN        NaN   \n",
       "2001-06-01       NaN       NaN       NaN      NaN       NaN        NaN   \n",
       "2001-07-01       NaN       NaN       NaN      NaN       NaN        NaN   \n",
       "2001-08-01       NaN       NaN       NaN      NaN       NaN        NaN   \n",
       "...              ...       ...       ...      ...       ...        ...   \n",
       "2020-09-01   37704.0  125296.0  194596.0  35397.0   11209.0    34337.0   \n",
       "2020-10-01   37704.0  125362.0  206026.0  35283.0   11209.0    34461.0   \n",
       "2020-11-01   37592.0  125255.0  206057.0  35305.0   11209.0    34466.0   \n",
       "2020-12-01   37592.0  125496.0  206686.0  34688.0   11209.0    34627.0   \n",
       "2021-01-01   37592.0  128191.0  205833.0  34685.0   11197.0    34746.0   \n",
       "\n",
       "            Q17041756  Q7134954  \n",
       "0                                \n",
       "2001-04-01        NaN       NaN  \n",
       "2001-05-01        NaN       NaN  \n",
       "2001-06-01        NaN       NaN  \n",
       "2001-07-01        NaN       NaN  \n",
       "2001-08-01        NaN       NaN  \n",
       "...               ...       ...  \n",
       "2020-09-01     4286.0    1802.0  \n",
       "2020-10-01     4286.0    1823.0  \n",
       "2020-11-01     4286.0    1823.0  \n",
       "2020-12-01     4286.0    1823.0  \n",
       "2021-01-01     4286.0    1823.0  \n",
       "\n",
       "[238 rows x 106 columns]"
      ]
     },
     "execution_count": 44,
     "metadata": {},
     "output_type": "execute_result"
    }
   ],
   "source": [
    "x"
   ]
  },
  {
   "cell_type": "code",
   "execution_count": 45,
   "metadata": {},
   "outputs": [],
   "source": [
    "dfs = []\n",
    "\n",
    "for fn in fns:\n",
    "    if fn.endswith(\".csv\"):\n",
    "        with open(os.path.join(dn, fn), \"rb\") as f:\n",
    "            dfs.append(pd.read_csv(f))"
   ]
  },
  {
   "cell_type": "code",
   "execution_count": 46,
   "metadata": {},
   "outputs": [
    {
     "data": {
      "text/plain": [
       "<AxesSubplot:>"
      ]
     },
     "execution_count": 46,
     "metadata": {},
     "output_type": "execute_result"
    },
    {
     "data": {
      "image/png": "[encoded data removed]",
      "text/plain": [
       "<Figure size 432x288 with 1 Axes>"
      ]
     },
     "metadata": {
      "needs_background": "light"
     },
     "output_type": "display_data"
    }
   ],
   "source": [
    "dfs[0].plot()"
   ]
  },
  {
   "cell_type": "code",
   "execution_count": 47,
   "metadata": {},
   "outputs": [
    {
     "data": {
      "text/plain": [
       "<AxesSubplot:>"
      ]
     },
     "execution_count": 47,
     "metadata": {},
     "output_type": "execute_result"
    },
    {
     "data": {
      "image/png": "[encoded data removed]",
      "text/plain": [
       "<Figure size 432x288 with 1 Axes>"
      ]
     },
     "metadata": {
      "needs_background": "light"
     },
     "output_type": "display_data"
    }
   ],
   "source": [
    "dfs[1].plot()"
   ]
  },
  {
   "cell_type": "code",
   "execution_count": 48,
   "metadata": {},
   "outputs": [
    {
     "data": {
      "text/plain": [
       "<AxesSubplot:>"
      ]
     },
     "execution_count": 48,
     "metadata": {},
     "output_type": "execute_result"
    },
    {
     "data": {
      "image/png": "[encoded data removed]",
      "text/plain": [
       "<Figure size 432x288 with 1 Axes>"
      ]
     },
     "metadata": {
      "needs_background": "light"
     },
     "output_type": "display_data"
    }
   ],
   "source": [
    "dfs[2].plot()"
   ]
  },
  {
   "cell_type": "code",
   "execution_count": 49,
   "metadata": {},
   "outputs": [
    {
     "data": {
      "text/plain": [
       "<AxesSubplot:>"
      ]
     },
     "execution_count": 49,
     "metadata": {},
     "output_type": "execute_result"
    },
    {
     "data": {
      "image/png": "[encoded data removed]",
      "text/plain": [
       "<Figure size 432x288 with 1 Axes>"
      ]
     },
     "metadata": {
      "needs_background": "light"
     },
     "output_type": "display_data"
    }
   ],
   "source": [
    "# Size\n",
    "dfs[3].plot()"
   ]
  },
  {
   "cell_type": "code",
   "execution_count": 50,
   "metadata": {},
   "outputs": [
    {
     "data": {
      "text/plain": [
       "<AxesSubplot:>"
      ]
     },
     "execution_count": 50,
     "metadata": {},
     "output_type": "execute_result"
    },
    {
     "data": {
      "image/png": "[encoded data removed]",
      "text/plain": [
       "<Figure size 432x288 with 1 Axes>"
      ]
     },
     "metadata": {
      "needs_background": "light"
     },
     "output_type": "display_data"
    }
   ],
   "source": [
    "dfs[4].plot()"
   ]
  },
  {
   "cell_type": "code",
   "execution_count": 51,
   "metadata": {},
   "outputs": [
    {
     "data": {
      "text/plain": [
       "<AxesSubplot:>"
      ]
     },
     "execution_count": 51,
     "metadata": {},
     "output_type": "execute_result"
    },
    {
     "data": {
      "image/png": "[encoded data removed]",
      "text/plain": [
       "<Figure size 432x288 with 1 Axes>"
      ]
     },
     "metadata": {
      "needs_background": "light"
     },
     "output_type": "display_data"
    }
   ],
   "source": [
    "dfs[5].plot()"
   ]
  },
  {
   "cell_type": "code",
   "execution_count": 52,
   "metadata": {},
   "outputs": [
    {
     "data": {
      "text/plain": [
       "<AxesSubplot:>"
      ]
     },
     "execution_count": 52,
     "metadata": {},
     "output_type": "execute_result"
    },
    {
     "data": {
      "image/png": "[encoded data removed]",
      "text/plain": [
       "<Figure size 432x288 with 1 Axes>"
      ]
     },
     "metadata": {
      "needs_background": "light"
     },
     "output_type": "display_data"
    }
   ],
   "source": [
    "# Number of pages\n",
    "dfs[5].plot()"
   ]
  },
  {
   "cell_type": "code",
   "execution_count": 53,
   "metadata": {},
   "outputs": [
    {
     "data": {
      "text/plain": [
       "<AxesSubplot:>"
      ]
     },
     "execution_count": 53,
     "metadata": {},
     "output_type": "execute_result"
    },
    {
     "data": {
      "image/png": "[encoded data removed]",
      "text/plain": [
       "<Figure size 432x288 with 1 Axes>"
      ]
     },
     "metadata": {
      "needs_background": "light"
     },
     "output_type": "display_data"
    }
   ],
   "source": [
    "dfs[7].plot()"
   ]
  },
  {
   "cell_type": "code",
   "execution_count": 54,
   "metadata": {},
   "outputs": [
    {
     "data": {
      "text/plain": [
       "['.ipynb_checkpoints',\n",
       " 'net_bytes_diff.csv',\n",
       " 'size_all.csv',\n",
       " 'size_de.csv',\n",
       " 'size_en.csv',\n",
       " 'size_fr.csv',\n",
       " 'total_en_pages.csv',\n",
       " 'total_en_pageviews.csv',\n",
       " 'total_en_page_edits.csv']"
      ]
     },
     "execution_count": 54,
     "metadata": {},
     "output_type": "execute_result"
    }
   ],
   "source": [
    "fns"
   ]
  },
  {
   "cell_type": "code",
   "execution_count": 55,
   "metadata": {},
   "outputs": [
    {
     "data": {
      "text/plain": [
       "<AxesSubplot:xlabel='month'>"
      ]
     },
     "execution_count": 55,
     "metadata": {},
     "output_type": "execute_result"
    },
    {
     "data": {
      "image/png": "[encoded data removed]",
      "text/plain": [
       "<Figure size 432x288 with 1 Axes>"
      ]
     },
     "metadata": {
      "needs_background": "light"
     },
     "output_type": "display_data"
    }
   ],
   "source": [
    "dfs[4].index = dfs[4][\"month\"]\n",
    "dfs[4][\"total.total\"].plot()"
   ]
  },
  {
   "cell_type": "code",
   "execution_count": 56,
   "metadata": {},
   "outputs": [
    {
     "data": {
      "text/plain": [
       "Date\n",
       "2001-01-01          0\n",
       "2001-02-01          0\n",
       "2001-03-01          1\n",
       "2001-04-01          7\n",
       "2001-05-01         18\n",
       "               ...   \n",
       "2020-07-01    5239298\n",
       "2020-08-01    5262747\n",
       "2020-09-01    5283508\n",
       "2020-10-01    5305229\n",
       "2020-11-01    5328113\n",
       "Name: EN Wikipedia Page Count, Length: 239, dtype: int64"
      ]
     },
     "execution_count": 56,
     "metadata": {},
     "output_type": "execute_result"
    }
   ],
   "source": [
    "def loadWikistats(path, name, exp=0):\n",
    "    with open(path, \"rb\") as f:\n",
    "        df = pd.read_csv(f)\n",
    "        \n",
    "    df.index = pd.to_datetime(df[\"month\"], format=\"%Y-%m-%dT%H:%M:%S.%fZ\").rename(\"Date\")\n",
    "    df = df[\"total.total\"].rename(name) * 10**exp\n",
    "        \n",
    "    return df\n",
    "\n",
    "x = loadWikistats(os.path.join(\"csv\", \"wikistats\", fns[3]), name=\"EN Wikipedia Page Count\", exp=0)\n",
    "x"
   ]
  }
 ],
 "metadata": {
  "kernelspec": {
   "display_name": "wiki-env",
   "language": "python",
   "name": "wiki-env"
  },
  "language_info": {
   "codemirror_mode": {
    "name": "ipython",
    "version": 3
   },
   "file_extension": ".py",
   "mimetype": "text/x-python",
   "name": "python",
   "nbconvert_exporter": "python",
   "pygments_lexer": "ipython3",
   "version": "3.8.5"
  }
 },
 "nbformat": 4,
 "nbformat_minor": 4
}
