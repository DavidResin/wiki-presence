{
 "cells": [
  {
   "cell_type": "code",
   "execution_count": 150,
   "metadata": {},
   "outputs": [],
   "source": [
    "import os\n",
    "import pandas as pd\n",
    "from datetime import datetime\n",
    "from matplotlib import pyplot as plt\n",
    "\n",
    "# We do only read operations, therefore no user config is necessary.\n",
    "# Normally the system crashes when there is no config unless we tell it otherwise with this environment variable.\n",
    "#   0 is default\n",
    "#   1 means ignore the config\n",
    "#   2 means ignore the config and don't throw warnings\n",
    "os.environ[\"PYWIKIBOT_NO_USER_CONFIG\"] = \"2\"\n",
    "\n",
    "# Now we can import pywikibot\n",
    "import pywikibot as pwb"
   ]
  },
  {
   "cell_type": "code",
   "execution_count": 16,
   "metadata": {},
   "outputs": [
    {
     "data": {
      "text/plain": [
       "APISite(\"en\", \"wikipedia\")"
      ]
     },
     "execution_count": 16,
     "metadata": {},
     "output_type": "execute_result"
    }
   ],
   "source": [
    "# Setting the correct site\n",
    "site = pwb.Site(code=\"en\", fam=\"wikipedia\")\n",
    "site"
   ]
  },
  {
   "cell_type": "code",
   "execution_count": 40,
   "metadata": {},
   "outputs": [
    {
     "data": {
      "text/plain": [
       "Page('Barack Obama')"
      ]
     },
     "execution_count": 40,
     "metadata": {},
     "output_type": "execute_result"
    }
   ],
   "source": [
    "page = pwb.Page(site, u\"Barack Obama\")\n",
    "page"
   ]
  },
  {
   "cell_type": "code",
   "execution_count": 18,
   "metadata": {},
   "outputs": [
    {
     "name": "stdout",
     "output_type": "stream",
     "text": [
      "Help on method search in module pywikibot.site:\n",
      "\n",
      "search(searchstring: str, namespaces=None, where='text', get_redirects=False, total=None, content=False, number='[deprecated name of total]', step=NotImplemented, key='[deprecated name of searchstring]', getredirects='[deprecated name of get_redirects]') method of pywikibot.site.APISite instance\n",
      "    Iterate Pages that contain the searchstring.\n",
      "    \n",
      "    Note that this may include non-existing Pages if the wiki's database\n",
      "    table contains outdated entries.\n",
      "    \n",
      "    @see: U{https://www.mediawiki.org/wiki/API:Search}\n",
      "    \n",
      "    @param searchstring: the text to search for\n",
      "    @param where: Where to search; value must be \"text\", \"title\" or\n",
      "        \"nearmatch\" (many wikis do not support title or nearmatch search)\n",
      "    @param namespaces: search only in these namespaces (defaults to all)\n",
      "    @type namespaces: iterable of str or Namespace key,\n",
      "        or a single instance of those types. May be a '|' separated\n",
      "        list of namespace identifiers.\n",
      "    @param get_redirects: if True, include redirects in results. Since\n",
      "        version MediaWiki 1.23 it will always return redirects.\n",
      "    @param content: if True, load the current content of each iterated page\n",
      "        (default False)\n",
      "    @raises KeyError: a namespace identifier was not resolved\n",
      "    @raises TypeError: a namespace identifier has an inappropriate\n",
      "        type such as NoneType or bool\n",
      "\n"
     ]
    }
   ],
   "source": [
    "help(site.search)"
   ]
  },
  {
   "cell_type": "code",
   "execution_count": 56,
   "metadata": {},
   "outputs": [],
   "source": [
    "epfl_alts = [\n",
    "    \"EPFL\",\n",
    "    \"ETH Lausanne\",\n",
    "    \"Swiss Federal Institute of Technology\",\n",
    "    \"Poly Lausanne\",\n",
    "    \"EPF Lausanne\",\n",
    "]"
   ]
  },
  {
   "cell_type": "code",
   "execution_count": 96,
   "metadata": {},
   "outputs": [
    {
     "name": "stdout",
     "output_type": "stream",
     "text": [
      "[[en:1500 metres]]\n",
      "[[en:1984 in the sport of athletics]]\n",
      "[[en:1994 in the sport of athletics]]\n",
      "[[en:1997 IAAF Grand Prix]]\n",
      "[[en:1997 World Championships in Athletics]]\n"
     ]
    }
   ],
   "source": [
    "# namespace 0 means we look only at regular pages\n",
    "search = site.search(\"ETH Lausanne\", where=\"text\", namespaces=0, total=500)\n",
    "\n",
    "for _, x in zip(range(5), search):\n",
    "    print(str(x))"
   ]
  },
  {
   "cell_type": "markdown",
   "metadata": {},
   "source": [
    "Currently Wikipedia does not feature a UID (Unique Identifier) representation of its content. Therefore we will set some ourselves. This is useful for performance and minimizing storage space."
   ]
  },
  {
   "cell_type": "code",
   "execution_count": 97,
   "metadata": {},
   "outputs": [
    {
     "name": "stdout",
     "output_type": "stream",
     "text": [
      "[[en:Category:1990s in Athens]]\n",
      "[[en:Category:1997 World Championships in Athletics]]\n",
      "[[en:Category:1997 in Greek sport]]\n",
      "[[en:Category:1997 in athletics (track and field)]]\n",
      "[[en:Category:Athletics in Athens]]\n"
     ]
    }
   ],
   "source": [
    "for _, a in zip(range(5), x.categories()):\n",
    "    print(a)"
   ]
  },
  {
   "cell_type": "code",
   "execution_count": 77,
   "metadata": {},
   "outputs": [
    {
     "name": "stdout",
     "output_type": "stream",
     "text": [
      "Help on method revisions in module pywikibot.page:\n",
      "\n",
      "revisions(reverse: bool = False, total: Union[int, NoneType] = None, content: bool = False, starttime=None, endtime=None, getText='[deprecated name of content]', reverseOrder='[deprecated name of reverse]') method of pywikibot.page.Page instance\n",
      "    Generator which loads the version history as Revision instances.\n",
      "\n"
     ]
    }
   ],
   "source": [
    "# We can do the histograms using that.\n",
    "\n",
    "help(x.revisions)"
   ]
  },
  {
   "cell_type": "code",
   "execution_count": 87,
   "metadata": {},
   "outputs": [
    {
     "name": "stdout",
     "output_type": "stream",
     "text": [
      "[[en:ACM DL (identifier)]]\n",
      "[[en:Applied mathematics]]\n",
      "[[en:Association for Computing Machinery]]\n",
      "[[en:BIBSYS (identifier)]]\n",
      "[[en:BNF (identifier)]]\n",
      "[[en:CiNii (identifier)]]\n",
      "[[en:Columbia University]]\n",
      "[[en:Computational complexity theory]]\n",
      "[[en:Computational thinking]]\n",
      "[[en:Computer sciences]]\n",
      "[[en:Coursera]]\n",
      "[[en:DBLP (identifier)]]\n",
      "[[en:Data compression]]\n",
      "[[en:Digital signal processing]]\n",
      "[[en:Doctoral advisor]]\n",
      "[[en:EPFL]]\n",
      "[[en:ETH Zurich]]\n",
      "[[en:EURASIP]]\n",
      "[[en:EURASIP Journal on Advances in Signal Processing]]\n",
      "[[en:Electrical engineering]]\n",
      "[[en:Engineering]]\n",
      "[[en:Ethics]]\n",
      "[[en:GND (identifier)]]\n",
      "[[en:Google]]\n",
      "[[en:Henri Nussbaumer]]\n",
      "[[en:IEEE]]\n",
      "[[en:IEEE Jack S. Kilby Signal Processing Medal]]\n",
      "[[en:ISBN (identifier)]]\n",
      "[[en:ISNI (identifier)]]\n",
      "[[en:Jelena Kovacevic]]\n",
      "[[en:Jelena Kovačević]]\n",
      "[[en:LCCN (identifier)]]\n",
      "[[en:MGP (identifier)]]\n",
      "[[en:Massive open online course]]\n",
      "[[en:Mathematics Genealogy Project]]\n",
      "[[en:NDL (identifier)]]\n",
      "[[en:NKC (identifier)]]\n",
      "[[en:NLI (identifier)]]\n",
      "[[en:NTA (identifier)]]\n",
      "[[en:National Academy of Engineering]]\n",
      "[[en:ORCID (identifier)]]\n",
      "[[en:Open science]]\n",
      "[[en:Patrick Aebischer]]\n",
      "[[en:Presses polytechniques et universitaires romandes]]\n",
      "[[en:RID (identifier)]]\n",
      "[[en:SPIE]]\n",
      "[[en:SUDOC (identifier)]]\n",
      "[[en:Sampling (signal processing)]]\n",
      "[[en:Sensor networks]]\n",
      "[[en:Signal processing]]\n",
      "[[en:Stanford University]]\n",
      "[[en:Sustainability]]\n",
      "[[en:Swiss National Science Foundation]]\n",
      "[[en:Switzerland]]\n",
      "[[en:University of California at Berkeley]]\n",
      "[[en:VIAF (identifier)]]\n",
      "[[en:Video processing]]\n",
      "[[en:Vivek Goyal]]\n",
      "[[en:Wavelets]]\n",
      "[[en:WorldCat Identities (identifier)]]\n",
      "[[en:École Polytechnique Fédérale de Lausanne]]\n",
      "[[en:École polytechnique fédérale de Lausanne]]\n",
      "[[en:Help:Authority control]]\n",
      "[[en:Category:Use British English from February 2016]]\n",
      "[[en:Category:Use dmy dates from February 2016]]\n",
      "[[en:Category:Wikipedia articles with ACM-DL identifiers]]\n",
      "[[en:Category:Wikipedia articles with BIBSYS identifiers]]\n",
      "[[en:Category:Wikipedia articles with BNF identifiers]]\n",
      "[[en:Category:Wikipedia articles with CINII identifiers]]\n",
      "[[en:Category:Wikipedia articles with DBLP identifiers]]\n",
      "[[en:Category:Wikipedia articles with GND identifiers]]\n",
      "[[en:Category:Wikipedia articles with ISNI identifiers]]\n",
      "[[en:Category:Wikipedia articles with LCCN identifiers]]\n",
      "[[en:Category:Wikipedia articles with MGP identifiers]]\n",
      "[[en:Category:Wikipedia articles with NDL identifiers]]\n",
      "[[en:Category:Wikipedia articles with NKC identifiers]]\n",
      "[[en:Category:Wikipedia articles with NLI identifiers]]\n",
      "[[en:Category:Wikipedia articles with NTA identifiers]]\n",
      "[[en:Category:Wikipedia articles with ORCID identifiers]]\n",
      "[[en:Category:Wikipedia articles with RID identifiers]]\n",
      "[[en:Category:Wikipedia articles with SUDOC identifiers]]\n",
      "[[en:Category:Wikipedia articles with VIAF identifiers]]\n",
      "[[en:Category:Wikipedia articles with WORLDCATID identifiers]]\n",
      "[[en:Portal:Biography]]\n",
      "[[en:Portal:Science]]\n",
      "[[en:Portal:Switzerland]]\n"
     ]
    }
   ],
   "source": [
    "temp = [s for s in search]\n",
    "for u in temp[2].linkedPages():\n",
    "    print(u)"
   ]
  },
  {
   "cell_type": "code",
   "execution_count": null,
   "metadata": {},
   "outputs": [],
   "source": [
    "page\n",
    "mentions of epfl\n",
    "distance to page with mention"
   ]
  },
  {
   "cell_type": "code",
   "execution_count": 124,
   "metadata": {},
   "outputs": [],
   "source": [
    "for i, x in enumerate(revs):\n",
    "    print(i)\n",
    "    print(x)"
   ]
  },
  {
   "cell_type": "code",
   "execution_count": 130,
   "metadata": {},
   "outputs": [
    {
     "name": "stdout",
     "output_type": "stream",
     "text": [
      "Help on method revisions in module pywikibot.page:\n",
      "\n",
      "revisions(reverse: bool = False, total: Union[int, NoneType] = None, content: bool = False, starttime=None, endtime=None, getText='[deprecated name of content]', reverseOrder='[deprecated name of reverse]') method of pywikibot.page.Page instance\n",
      "    Generator which loads the version history as Revision instances.\n",
      "\n"
     ]
    }
   ],
   "source": [
    "help(temp[2].revisions)"
   ]
  },
  {
   "cell_type": "code",
   "execution_count": 212,
   "metadata": {},
   "outputs": [
    {
     "data": {
      "text/plain": [
       "{datetime.datetime(2017, 7, 11, 19, 10, 58): 12,\n",
       " datetime.datetime(2014, 2, 13, 15, 36, 28): 3,\n",
       " datetime.datetime(2016, 2, 24, 13, 15, 43): 7,\n",
       " datetime.datetime(2016, 12, 30, 21, 34, 24): 9,\n",
       " datetime.datetime(2014, 2, 13, 15, 59, 45): 6,\n",
       " datetime.datetime(2017, 2, 2, 19, 43, 30): 10,\n",
       " datetime.datetime(2016, 2, 24, 19, 46, 25): 8,\n",
       " datetime.datetime(2014, 2, 13, 15, 12, 3): 4,\n",
       " datetime.datetime(2014, 2, 13, 15, 19, 52): 5}"
      ]
     },
     "execution_count": 212,
     "metadata": {},
     "output_type": "execute_result"
    }
   ],
   "source": [
    "def getCounts(revs, strings, idx):\n",
    "    page = revs[idx]\n",
    "    return sum([page.text.count(s) for s in strings])\n",
    "\n",
    "def getOrUpdate(revs, strings, counts, idx, changes):\n",
    "    if idx not in counts:\n",
    "        temp = getCounts(revs, strings, idx)\n",
    "        counts[idx] = temp\n",
    "        changes[temp] = min(changes.get(temp) or idx, idx) \n",
    "    \n",
    "    return counts[idx]\n",
    "\n",
    "pg = temp[3]\n",
    "cnt = pg.revision_count()\n",
    "revs = list(temp[2].revisions(content=True))\n",
    "\n",
    "queue = [(0, cnt - 1)]\n",
    "cnts = {}\n",
    "changes = {}\n",
    "\n",
    "while queue:\n",
    "    r0, r1 = queue[0]\n",
    "    queue = queue[1:]\n",
    "    \n",
    "    if r0 != r1:\n",
    "        v0 = getOrUpdate(revs, epfl_alts, cnts, r0, changes)\n",
    "        v1 = getOrUpdate(revs, epfl_alts, cnts, r1, changes)\n",
    "\n",
    "        if v0 != v1 and abs(r1 - r0) > 1:\n",
    "            mid = (r0 + r1) // 2\n",
    "            queue.extend([(r0, mid), (mid, r1)])\n",
    "\n",
    "changes = {revs[v][\"timestamp\"]: k for k, v in changes.items()}\n",
    "changes = {datetime.combine(k.date(), k.time()): v for k, v in changes.items()}\n",
    "changes"
   ]
  },
  {
   "cell_type": "code",
   "execution_count": 213,
   "metadata": {},
   "outputs": [
    {
     "data": {
      "text/plain": [
       "<AxesSubplot:>"
      ]
     },
     "execution_count": 213,
     "metadata": {},
     "output_type": "execute_result"
    },
    {
     "data": {
      "image/png": "[encoded data removed]",
      "text/plain": [
       "<Figure size 432x288 with 1 Axes>"
      ]
     },
     "metadata": {
      "needs_background": "light"
     },
     "output_type": "display_data"
    }
   ],
   "source": [
    "#pandas.DataFrame.from_dict(changes, orient=\"index\")\n",
    "pd.Series(changes).sort_index().plot()"
   ]
  },
  {
   "cell_type": "markdown",
   "metadata": {},
   "source": [
    "Will need to handle the problem or redirects and page name changes in the future.\n",
    "\n",
    "Will need to classify whether we found the subject through keywords or if EPFL was mentioned."
   ]
  }
 ],
 "metadata": {
  "kernelspec": {
   "display_name": "wiki-env",
   "language": "python",
   "name": "wiki-env"
  },
  "language_info": {
   "codemirror_mode": {
    "name": "ipython",
    "version": 3
   },
   "file_extension": ".py",
   "mimetype": "text/x-python",
   "name": "python",
   "nbconvert_exporter": "python",
   "pygments_lexer": "ipython3",
   "version": "3.8.5"
  }
 },
 "nbformat": 4,
 "nbformat_minor": 4
}
