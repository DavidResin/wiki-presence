{
 "cells": [
  {
   "cell_type": "code",
   "execution_count": 1,
   "metadata": {},
   "outputs": [],
   "source": [
    "import threading"
   ]
  },
  {
   "cell_type": "code",
   "execution_count": 2,
   "metadata": {},
   "outputs": [],
   "source": [
    "class BackgroundGenerator(threading.Thread):\n",
    "    def __init__(self, generator):\n",
    "        threading.Thread.__init__(self)\n",
    "        self.queue = Queue.Queue(1)\n",
    "        self.generator = generator\n",
    "        self.daemon = True\n",
    "        self.start()\n",
    "\n",
    "    def run(self):\n",
    "        for item in self.generator:\n",
    "            self.queue.put(item)\n",
    "        self.queue.put(None)\n",
    "\n",
    "    def next(self):\n",
    "            next_item = self.queue.get()\n",
    "            if next_item is None:\n",
    "                 raise StopIteration\n",
    "            return next_item"
   ]
  }
 ],
 "metadata": {
  "kernelspec": {
   "display_name": "wiki-env",
   "language": "python",
   "name": "wiki-env"
  },
  "language_info": {
   "codemirror_mode": {
    "name": "ipython",
    "version": 3
   },
   "file_extension": ".py",
   "mimetype": "text/x-python",
   "name": "python",
   "nbconvert_exporter": "python",
   "pygments_lexer": "ipython3",
   "version": "3.8.5"
  }
 },
 "nbformat": 4,
 "nbformat_minor": 4
}
