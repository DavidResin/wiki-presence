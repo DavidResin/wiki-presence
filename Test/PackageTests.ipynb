{
 "cells": [
  {
   "cell_type": "code",
   "execution_count": 1,
   "metadata": {},
   "outputs": [],
   "source": [
    "import os\n",
    "import wikipedia as wp\n",
    "\n",
    "# We do only read operations, therefore no user config is necessary.\n",
    "# Normally the system crashes when there is no user config unless we tell it otherwise with this environment variable.\n",
    "#   0 is default\n",
    "#   1 means ignore the config\n",
    "#   2 means ignore the config and don't throw warnings\n",
    "os.environ[\"PYWIKIBOT_NO_USER_CONFIG\"] = \"2\"\n",
    "\n",
    "# Now we can import pywikibot\n",
    "import pywikibot as pwb\n",
    "\n",
    "wiki_site = pwb.Site(code=\"en\", fam=\"wikipedia\")\n",
    "\n",
    "# We list here the search terms for EPFL\n",
    "epfl_alts = [\n",
    "    \"EPFL\",\n",
    "    \"École Polytechnique Fédérale de Lausanne\",\n",
    "    \"Swiss Federal Institute of Technology\",\n",
    "    \"EPF Lausanne\",\n",
    "    \"ETH Lausanne\",\n",
    "    \"Poly Lausanne\",\n",
    "]"
   ]
  },
  {
   "cell_type": "code",
   "execution_count": 2,
   "metadata": {},
   "outputs": [
    {
     "data": {
      "text/plain": [
       "'École Polytechnique Fédérale de Lausanne'"
      ]
     },
     "execution_count": 2,
     "metadata": {},
     "output_type": "execute_result"
    }
   ],
   "source": [
    "# Let's search the first result of an \"EPFL\" query\n",
    "\n",
    "an = wp.search(\"EPFL\")[0]\n",
    "pg = wp.page(an)\n",
    "pg.title"
   ]
  },
  {
   "cell_type": "code",
   "execution_count": 3,
   "metadata": {},
   "outputs": [
    {
     "data": {
      "text/plain": [
       "'https://en.wikipedia.org/wiki/%C3%89cole_Polytechnique_F%C3%A9d%C3%A9rale_de_Lausanne'"
      ]
     },
     "execution_count": 3,
     "metadata": {},
     "output_type": "execute_result"
    }
   ],
   "source": [
    "# Its URL\n",
    "\n",
    "pg.url"
   ]
  },
  {
   "cell_type": "code",
   "execution_count": 4,
   "metadata": {},
   "outputs": [
    {
     "data": {
      "text/plain": [
       "\"The École polytechnique fédérale de Lausanne (EPFL) is a research institute and university in Lausanne, Switzerland, that specializes in natural sciences and engineering. It is one of the two Swiss Federal Institutes of Technology, and it has three main missions: education, research and technology transfer.The QS World University Rankings ranks EPFL 14th in the world across all fields in their 2020/2021 ranking, whereas Times Higher Education World University Rankings ranks EPFL as the world's 19th best school for Engineering and Technology in 2020. EPFL is located in the French-speaking part of Switzerland; the sister institution in the German-speaking part of\""
      ]
     },
     "execution_count": 4,
     "metadata": {},
     "output_type": "execute_result"
    }
   ],
   "source": [
    "# Its 100 first words\n",
    "\n",
    "\" \".join(pg.content.split(\" \")[:100])"
   ]
  },
  {
   "cell_type": "code",
   "execution_count": 5,
   "metadata": {},
   "outputs": [
    {
     "data": {
      "text/plain": [
       "['Aalborg University',\n",
       " 'Aalto University',\n",
       " 'Aart de Geus',\n",
       " 'Academic Ranking of World Universities',\n",
       " 'Adolphe Merkle Institute']"
      ]
     },
     "execution_count": 5,
     "metadata": {},
     "output_type": "execute_result"
    }
   ],
   "source": [
    "# The links found in the page\n",
    "\n",
    "pg.links[:5]"
   ]
  },
  {
   "cell_type": "code",
   "execution_count": 6,
   "metadata": {},
   "outputs": [
    {
     "data": {
      "text/plain": [
       "\"Mattia Binotto, né le 3 novembre 1969 à Lausanne (Suisse), est un  concepteur, ingénieur automobile italien, nommé en janvier 2019 directeur de la gestion sportive (Team Principal) de la Scuderia Ferrari en Formule 1 après avoir été son responsable du département technique.\\n\\n\\n== Biographie ==\\nDiplômé en génie mécanique à l'École polytechnique fédérale de Lausanne (EPFL) en 1994, Mattia Binotto obtient une maîtrise en génie automobile à Modène. Il est trilingue français-italien-anglais.\\nEn 1995, il rejoint l'équipe de test de la Scuderia Ferrari puis accède au rang d'ingénieur en 1997. Il rejoint le département moteur en 2004 pour devenir, à partir de 2007, l'un des principaux responsables du montage des moteurs ainsi que de l'électronique avec l'arrivée du système de récupération de l'énergie cinétique en Formule 1. Vice-directeur du département moteur en 2013, lors de l'arrivée du V6 turbo hybride, il en devient le directeur principal fin 2014, après une saison difficile pour le lancement du nouveau moteur V6.\""
      ]
     },
     "execution_count": 6,
     "metadata": {},
     "output_type": "execute_result"
    }
   ],
   "source": [
    "# How about the 10 first sentences in the French article in French?\n",
    "\n",
    "wp.set_lang(\"fr\")\n",
    "pg = wp.search(an)\n",
    "wp.summary(pg, sentences=6)"
   ]
  },
  {
   "cell_type": "markdown",
   "metadata": {},
   "source": [
    "Python's `wikipedia` module is not intended for big data uses as seen above. The `wikipedia.search` function will only return the first 500 occurences of a word, which is not appropriate. We will thus use Pywikibot from https://pywikibot.toolforge.org/"
   ]
  },
  {
   "cell_type": "code",
   "execution_count": 7,
   "metadata": {},
   "outputs": [
    {
     "name": "stdout",
     "output_type": "stream",
     "text": [
      "['1853', '1869', '1890', '1943', '1946']\n"
     ]
    }
   ],
   "source": [
    "an = wp.search(\"EPFL\")[0]\n",
    "pg = wp.page(an)\n",
    "print(pg.links[:5])"
   ]
  },
  {
   "cell_type": "code",
   "execution_count": 8,
   "metadata": {},
   "outputs": [
    {
     "data": {
      "text/plain": [
       "['https://fr.wikipedia.org/w/index.php?title=%C3%89cole_polytechnique_f%C3%A9d%C3%A9rale_de_Lausanne&amp;action=edit',\n",
       " 'https://www.wikidata.org/wiki/Q262760?uselang=fr#P488',\n",
       " 'https://www.wikidata.org/wiki/Q262760?uselang=fr#P131',\n",
       " 'http://www.epfl.ch',\n",
       " 'https://fr.wikipedia.org/w/index.php?title=%C3%89cole_polytechnique_f%C3%A9d%C3%A9rale_de_Lausanne&amp;veaction=edit&amp;section=0']"
      ]
     },
     "execution_count": 8,
     "metadata": {},
     "output_type": "execute_result"
    }
   ],
   "source": [
    "[x.split('\"')[0] for x in pg.html().split('href=\"') if x[:4] == \"http\"][:5]"
   ]
  },
  {
   "cell_type": "markdown",
   "metadata": {},
   "source": [
    "## Limitations of the search functionality of `wikipedia` and `Pywikibot`\n",
    "Search on `Pywikibot` works fine but seems to cap at 10'000 items, whereas searching on Wikipedia goes clearly above, as the example below shows. This is still much better than the Python `wikipedia` package which caps at 500. For reference, searching for \"obama\" on Wikipedia yields over 32'000 results. But for the context of our task, this is acceptable as EPFL is mentioned in less than 1'000 articles overall and is unlikely to increase tenfold overnight."
   ]
  },
  {
   "cell_type": "code",
   "execution_count": 9,
   "metadata": {},
   "outputs": [
    {
     "name": "stdout",
     "output_type": "stream",
     "text": [
      "Using the Wikipedia package, searching for 'obama' yields a maximum of 500 results.\n"
     ]
    }
   ],
   "source": [
    "obama_query_1 = wp.search(\"obama\", results=999999)\n",
    "obama_count_1 = len(obama_query_1)\n",
    "\n",
    "print(\"Using the Wikipedia package, searching for 'obama' yields a maximum of\", obama_count_1, \"results.\")"
   ]
  },
  {
   "cell_type": "code",
   "execution_count": 10,
   "metadata": {},
   "outputs": [
    {
     "name": "stdout",
     "output_type": "stream",
     "text": [
      "Using Pywikibot, searching for 'obama' yields a maximum of 10000 results.\n"
     ]
    }
   ],
   "source": [
    "obama_query_2 = wiki_site.search(\"obama\", namespaces=0)\n",
    "obama_count_2 = len([x for _, x in zip(range(999999), obama_query_2)])\n",
    "\n",
    "print(\"Using Pywikibot, searching for 'obama' yields a maximum of\", obama_count_2, \"results.\")"
   ]
  },
  {
   "cell_type": "code",
   "execution_count": 11,
   "metadata": {},
   "outputs": [
    {
     "name": "stdout",
     "output_type": "stream",
     "text": [
      "Searching for 'EPFL' yields 766 results.\n",
      "Searching for 'École Polytechnique Fédérale de Lausanne' yields 667 results.\n",
      "Searching for 'Swiss Federal Institute of Technology' yields 4036 results.\n",
      "Searching for 'EPF Lausanne' yields 184 results.\n",
      "Searching for 'ETH Lausanne' yields 381 results.\n",
      "Searching for 'Poly Lausanne' yields 68 results.\n",
      "All of those results are within the range of Pywikibot. Success!\n"
     ]
    }
   ],
   "source": [
    "for alt in epfl_alts:\n",
    "    epfl_query = wiki_site.search(alt, namespaces=0)\n",
    "    epfl_count = len([x for _, x in zip(range(999999), epfl_query)])\n",
    "\n",
    "    print(\"Searching for '\" + alt + \"' yields\", epfl_count, \"results.\")\n",
    "    \n",
    "print(\"All of those results are within the range of Pywikibot. Success!\")"
   ]
  },
  {
   "cell_type": "code",
   "execution_count": 12,
   "metadata": {},
   "outputs": [
    {
     "name": "stdout",
     "output_type": "stream",
     "text": [
      "Searching for 'ecublens' yields 58 results.\n",
      "Searching for 'écublens' yields 58 results.\n",
      "Searching for 'Ecublens' yields 58 results.\n",
      "Searching for 'Écublens' yields 58 results.\n",
      "This certifies that Wikipedia's search API is case- and accentuation-insensitive.\n"
     ]
    }
   ],
   "source": [
    "for alt in [\"ecublens\", \"écublens\", \"Ecublens\", \"Écublens\"]:\n",
    "    test_query = wiki_site.search(alt, namespaces=0)\n",
    "    test_count = len([x for _, x in zip(range(999999), test_query)])\n",
    "\n",
    "    print(\"Searching for '\" + alt + \"' yields\", test_count, \"results.\")\n",
    "    \n",
    "print(\"This certifies that Wikipedia's search API is case- and accentuation-insensitive.\")"
   ]
  }
 ],
 "metadata": {
  "kernelspec": {
   "display_name": "wiki-env",
   "language": "python",
   "name": "wiki-env"
  },
  "language_info": {
   "codemirror_mode": {
    "name": "ipython",
    "version": 3
   },
   "file_extension": ".py",
   "mimetype": "text/x-python",
   "name": "python",
   "nbconvert_exporter": "python",
   "pygments_lexer": "ipython3",
   "version": "3.8.5"
  }
 },
 "nbformat": 4,
 "nbformat_minor": 4
}
